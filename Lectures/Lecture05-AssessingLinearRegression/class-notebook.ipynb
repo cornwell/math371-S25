{
 "cells": [
  {
   "cell_type": "code",
   "execution_count": null,
   "metadata": {},
   "outputs": [],
   "source": [
    "import numpy as np\n",
    "import matplotlib.pyplot as plt"
   ]
  },
  {
   "cell_type": "code",
   "execution_count": 3,
   "metadata": {},
   "outputs": [],
   "source": [
    "x = np.random.uniform(0,2,size=30)"
   ]
  },
  {
   "cell_type": "markdown",
   "metadata": {},
   "source": [
    "Write a function that will generate y-values from the array `x`, so that y = -1.6x + 0.8 + $\\varepsilon$, where $\\varepsilon$ is a random variable with expected value 0 and standard deviation of 0.5. (A normally distributed variable will work, though it does not need to be that.)"
   ]
  },
  {
   "cell_type": "code",
   "execution_count": null,
   "metadata": {},
   "outputs": [],
   "source": []
  },
  {
   "cell_type": "markdown",
   "metadata": {},
   "source": [
    "Using the function that generates your $y$-values as above, simulate a 1000 samples of size 30: $(x_1,y_1), \\ldots, (x_{30},y_{30})$. For each of the 1000 samples, compute the coefficients of the LSR line $\\hat{m}$ and $\\hat{b}$, storing the slopes in a list and the intercepts in another list."
   ]
  },
  {
   "cell_type": "code",
   "execution_count": null,
   "metadata": {},
   "outputs": [],
   "source": []
  },
  {
   "cell_type": "markdown",
   "metadata": {},
   "source": [
    "Finally, compute the mean of the 1000 slopes and of the 1000 intercepts that you found. How close are these to the model's true slope and intercept, -1.6 and 0.8?"
   ]
  },
  {
   "cell_type": "code",
   "execution_count": null,
   "metadata": {},
   "outputs": [],
   "source": []
  }
 ],
 "metadata": {
  "kernelspec": {
   "display_name": "Python 3",
   "language": "python",
   "name": "python3"
  },
  "language_info": {
   "codemirror_mode": {
    "name": "ipython",
    "version": 3
   },
   "file_extension": ".py",
   "mimetype": "text/x-python",
   "name": "python",
   "nbconvert_exporter": "python",
   "pygments_lexer": "ipython3",
   "version": "3.13.1"
  }
 },
 "nbformat": 4,
 "nbformat_minor": 2
}
