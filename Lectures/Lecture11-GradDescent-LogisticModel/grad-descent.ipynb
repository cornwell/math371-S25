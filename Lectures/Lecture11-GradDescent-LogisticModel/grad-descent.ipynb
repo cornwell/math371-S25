{
 "cells": [
  {
   "cell_type": "markdown",
   "metadata": {},
   "source": [
    "## Implementing Gradient Descent\n",
    "#### for Logistic Regression"
   ]
  },
  {
   "cell_type": "code",
   "execution_count": null,
   "metadata": {},
   "outputs": [],
   "source": [
    "import pandas as pd\n",
    "import numpy as np"
   ]
  },
  {
   "cell_type": "markdown",
   "metadata": {},
   "source": [
    "We are going to make a Class object. We've been working with certain classes. Going to come to the foreground now.\n",
    "\n",
    "An **instance** of a Class is made by a function (with same name as the Class) that initializes it. \n",
    "\n",
    "A Class can have:\n",
    "* attributes - variables which get assigned a value for each instance of the Class; \n",
    "* methods - functions that can \"see\" and use attributes and other methods of the Class instance."
   ]
  },
  {
   "cell_type": "code",
   "execution_count": null,
   "metadata": {},
   "outputs": [],
   "source": [
    "# Numpy array is a Class. \n",
    "my_array = np.array([[1],[2],[312]]) # this initializes an array instance\n",
    "my_array.shape # shape is an attribute"
   ]
  },
  {
   "cell_type": "code",
   "execution_count": null,
   "metadata": {},
   "outputs": [],
   "source": [
    "# printing output of 3 methods for the Class instance\n",
    "print( my_array.astype('float') )  \n",
    "print( my_array.min(axis=0) )\n",
    "print( my_array.flatten() )"
   ]
  },
  {
   "cell_type": "code",
   "execution_count": null,
   "metadata": {},
   "outputs": [],
   "source": [
    "auto = pd.read_csv('../../DataSets/Auto.csv')\n",
    "auto.head() # A method called on auto (instance of pandas.DataFrame Class)"
   ]
  },
  {
   "cell_type": "markdown",
   "metadata": {},
   "source": [
    "We're going to use data from other columns (not `mpg`), to predict whether a car has \"high\" mpg or \"low\" mpg."
   ]
  },
  {
   "cell_type": "code",
   "execution_count": null,
   "metadata": {},
   "outputs": [],
   "source": [
    "auto['mpg01'] = np.array(auto['mpg'] > auto['mpg'].median()).astype('int') # make column with 0 or 1; =1 if mpg is larger than median mpg\n",
    "auto.head()"
   ]
  },
  {
   "cell_type": "code",
   "execution_count": null,
   "metadata": {},
   "outputs": [],
   "source": [
    "data_init = auto[['cylinders','displacement','horsepower','weight','acceleration','year']]\n",
    "labels = auto['mpg01']"
   ]
  },
  {
   "cell_type": "code",
   "execution_count": null,
   "metadata": {},
   "outputs": [],
   "source": [
    "data = pd.DataFrame({}) # empty dataframe"
   ]
  },
  {
   "cell_type": "code",
   "execution_count": null,
   "metadata": {},
   "outputs": [],
   "source": [
    "# Standardize scale of columns (so that max minus min in each column is same)\n",
    "for c in data_init.columns:\n",
    "  data[c] = (data_init[c] - data_init[c].min())/ (data_init[c].max() - data_init[c].min())"
   ]
  },
  {
   "cell_type": "code",
   "execution_count": null,
   "metadata": {},
   "outputs": [],
   "source": [
    "from sklearn.linear_model import LogisticRegression"
   ]
  },
  {
   "cell_type": "code",
   "execution_count": null,
   "metadata": {},
   "outputs": [],
   "source": [
    "clf=LogisticRegression(tol=0.001)\n",
    "clf.fit(data, labels)"
   ]
  },
  {
   "cell_type": "code",
   "execution_count": null,
   "metadata": {},
   "outputs": [],
   "source": [
    "clf.coef_"
   ]
  },
  {
   "cell_type": "code",
   "execution_count": null,
   "metadata": {},
   "outputs": [],
   "source": [
    "clf.score(data, labels)"
   ]
  },
  {
   "cell_type": "code",
   "execution_count": null,
   "metadata": {},
   "outputs": [],
   "source": [
    "np.sum(clf.predict(data) == labels)/len(labels)"
   ]
  },
  {
   "cell_type": "markdown",
   "metadata": {},
   "source": [
    "Logistic Regression class does not use gradient descent. We will make a Class that does."
   ]
  },
  {
   "cell_type": "code",
   "execution_count": null,
   "metadata": {},
   "outputs": [],
   "source": [
    "def sigma(z):\n",
    "  return 1/(1+np.exp(-z))"
   ]
  },
  {
   "cell_type": "code",
   "execution_count": null,
   "metadata": {},
   "outputs": [],
   "source": [
    "class LogisticModel:\n",
    "  \"\"\"\n",
    "  info about the class\n",
    "  \"\"\"\n",
    "  def __init__(self, tolerance=0.001, iteration_cap=1e4):\n",
    "    self.coefs = None\n",
    "    ## also put in attributes for the threshhold and max number of iterations: call them 'tol' and 'max_iters'\n",
    "  def grad(self, x,y):\n",
    "    n = x.shape[0]\n",
    "    X = np.hstack((x,np.ones(n).reshape(-1,1)))\n",
    "    # below computes the per-example loss\n",
    "    per_exm = ( -y*(X.T)*(1 - self.predict(X[:,:-1])) + (1-y)*(X.T)*self.predict(X[:,:-1]) ).T\n",
    "    return np.sum(per_exm, axis=0)/n\n",
    "  def predict(self, x):\n",
    "    return sigma(x@self.coefs[:-1] + self.coefs[-1])\n",
    "  def fit(self, x, y, lr=0.1, return_iter=True):\n",
    "    n, d = x.shape\n",
    "    t = 0\n",
    "    self.coefs = np.zeros(d+1, dtype='float')\n",
    "    # put code here to iteratively update self.coefs with gradient descent steps, \n",
    "    # stopping after change in parameters falls below threshhold\n",
    "    if return_iter:\n",
    "      print(f'Last iteration: {t}.')\n",
    "    return None  # technically don't need this line"
   ]
  },
  {
   "cell_type": "markdown",
   "metadata": {},
   "source": [
    "The cells below should run after you have filled in the code above."
   ]
  },
  {
   "cell_type": "code",
   "execution_count": null,
   "metadata": {},
   "outputs": [],
   "source": [
    "my_model = LogisticModel()\n",
    "my_model.fit(data.to_numpy(), labels.to_numpy(), lr=1.1)"
   ]
  },
  {
   "cell_type": "code",
   "execution_count": null,
   "metadata": {},
   "outputs": [],
   "source": [
    "my_model.coefs"
   ]
  },
  {
   "cell_type": "code",
   "execution_count": null,
   "metadata": {},
   "outputs": [],
   "source": [
    "y_prob = my_model.predict(data.to_numpy())\n",
    "y_pred = (y_prob > 0.5).astype('int')"
   ]
  },
  {
   "cell_type": "code",
   "execution_count": null,
   "metadata": {},
   "outputs": [],
   "source": [
    "np.sum(y_pred == labels)/len(labels)"
   ]
  },
  {
   "cell_type": "code",
   "execution_count": null,
   "metadata": {},
   "outputs": [],
   "source": []
  }
 ],
 "metadata": {
  "kernelspec": {
   "display_name": "Python 3",
   "language": "python",
   "name": "python3"
  },
  "language_info": {
   "codemirror_mode": {
    "name": "ipython",
    "version": 3
   },
   "file_extension": ".py",
   "mimetype": "text/x-python",
   "name": "python",
   "nbconvert_exporter": "python",
   "pygments_lexer": "ipython3",
   "version": "3.13.1"
  }
 },
 "nbformat": 4,
 "nbformat_minor": 2
}
