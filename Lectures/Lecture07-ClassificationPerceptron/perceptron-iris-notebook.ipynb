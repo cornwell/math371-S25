{
 "cells": [
  {
   "cell_type": "markdown",
   "metadata": {},
   "source": [
    "## Classwork 4\n",
    "\n",
    "Perceptron algorithm on the Iris data set\n",
    "\n",
    "---"
   ]
  },
  {
   "cell_type": "markdown",
   "metadata": {},
   "source": [
    "1. Read the Iris data set into Python. It is available in `Iris.csv` in the DataSets folder. Labels are in the column named 'species'. They are 0, 1, or 2, depending on the species of iris flower.\n",
    "> The Iris data set can also be obtained by using the Python package Scikit-learn. You need this package installed first; once you have done that, you may simply put in the command: `sklearn.datasets.load_iris()`. This returns a dictionary object (technically, a \"bunch\"). From that \"bunch\", the keys 'data', and 'target', will give you the x vectors in $\\mathbb R^4$, and the y labels, respectively."
   ]
  },
  {
   "cell_type": "code",
   "execution_count": null,
   "metadata": {},
   "outputs": [],
   "source": []
  },
  {
   "cell_type": "markdown",
   "metadata": {},
   "source": [
    "2. Make new y-labels so that any data point from species 0 now has y-label 1 (these are the first 50 data points), and make the other y-labels equal to -1."
   ]
  },
  {
   "cell_type": "code",
   "execution_count": null,
   "metadata": {},
   "outputs": [],
   "source": []
  },
  {
   "cell_type": "markdown",
   "metadata": {},
   "source": [
    "3. Define a Perceptron algorithm (custom) function, that implements the algorithm described in the pseudo-code block in the Lecture 7 slides. Talk with others. Try to make your code as efficient as possible!"
   ]
  },
  {
   "cell_type": "code",
   "execution_count": null,
   "metadata": {},
   "outputs": [],
   "source": []
  },
  {
   "cell_type": "markdown",
   "metadata": {},
   "source": [
    "4. Run your code on the Iris data and determine the coefficients $\\textbf{w}$ and $b$ for a hyperplane that separates the labeled data. "
   ]
  },
  {
   "cell_type": "code",
   "execution_count": null,
   "metadata": {},
   "outputs": [],
   "source": []
  }
 ],
 "metadata": {
  "kernelspec": {
   "display_name": "Python 3",
   "language": "python",
   "name": "python3"
  },
  "language_info": {
   "name": "python",
   "version": "3.13.1"
  }
 },
 "nbformat": 4,
 "nbformat_minor": 2
}
