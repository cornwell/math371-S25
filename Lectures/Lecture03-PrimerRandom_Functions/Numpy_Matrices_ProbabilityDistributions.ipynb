{
 "cells": [
  {
   "cell_type": "markdown",
   "metadata": {},
   "source": [
    "## Lecture 3 - Random library of Numpy"
   ]
  },
  {
   "cell_type": "code",
   "execution_count": 1,
   "metadata": {},
   "outputs": [],
   "source": [
    "import numpy as np"
   ]
  },
  {
   "cell_type": "markdown",
   "metadata": {},
   "source": [
    "### Some of the methods"
   ]
  },
  {
   "cell_type": "markdown",
   "metadata": {
    "id": "GlDxQv-R8Dun"
   },
   "source": [
    "The methods in `numpy.random` allow you to draw samples from a variety of probability distributions. "
   ]
  },
  {
   "cell_type": "code",
   "execution_count": null,
   "metadata": {
    "colab": {
     "base_uri": "https://localhost:8080/",
     "height": 51
    },
    "executionInfo": {
     "elapsed": 451,
     "status": "ok",
     "timestamp": 1598471411517,
     "user": {
      "displayName": "Christopher Cornwell",
      "photoUrl": "https://lh3.googleusercontent.com/a-/AOh14Gjx2-f5PsfjNxZ0XLBEhH0y7hRTT73yaFfuJR0djw=s64",
      "userId": "10439702716895294443"
     },
     "user_tz": 240
    },
    "id": "LccWmHI9Agnx",
    "outputId": "274a5712-f2be-470e-ef4e-0d129a4284ad"
   },
   "outputs": [],
   "source": [
    "# Sampling uniformly on a range of consecutive integers\n",
    "# To get 6 integers drawn uniformly from {0,1,2,...,9}  (10 is not included)\n",
    "print(np.random.randint(0, 10, size=6))\n",
    "# equivalently, you can call\n",
    "print(np.random.choice(10, size=6))"
   ]
  },
  {
   "cell_type": "code",
   "execution_count": null,
   "metadata": {
    "colab": {
     "base_uri": "https://localhost:8080/",
     "height": 34
    },
    "executionInfo": {
     "elapsed": 477,
     "status": "ok",
     "timestamp": 1598471422006,
     "user": {
      "displayName": "Christopher Cornwell",
      "photoUrl": "https://lh3.googleusercontent.com/a-/AOh14Gjx2-f5PsfjNxZ0XLBEhH0y7hRTT73yaFfuJR0djw=s64",
      "userId": "10439702716895294443"
     },
     "user_tz": 240
    },
    "id": "b8ZultR2BHuh",
    "outputId": "07266b66-bcf6-4209-8170-9d08b27d1c89"
   },
   "outputs": [],
   "source": [
    "# If you want sampling without replacement...\n",
    "np.random.choice(10,size=6,replace=False)"
   ]
  },
  {
   "cell_type": "markdown",
   "metadata": {
    "id": "krIPWjTasTdo"
   },
   "source": [
    "> To get a sample from a uniform distribution on the interval $[0,1)$, you can use `np.random.random(size=n)`, with `n` being the number of samples you want.  However, you can also use the method `np.random.uniform()`.  For this method, you need to put in the left and right endpoint of the interval that you want, and then the size of the sample that you want."
   ]
  },
  {
   "cell_type": "code",
   "execution_count": null,
   "metadata": {
    "colab": {
     "base_uri": "https://localhost:8080/"
    },
    "executionInfo": {
     "elapsed": 130,
     "status": "ok",
     "timestamp": 1716556429702,
     "user": {
      "displayName": "Christopher Cornwell",
      "userId": "10439702716895294443"
     },
     "user_tz": 240
    },
    "id": "X7lWCc1jtIBg",
    "outputId": "4be5d57a-7d81-4653-c49a-0501b8763d04"
   },
   "outputs": [],
   "source": [
    "print( np.random.random(size=6) )\n",
    "print( np.random.uniform(0,1, size=6) )  # these two sample from the same distribution (the first, random.random is \"legacy\", drawing from an old API)"
   ]
  },
  {
   "cell_type": "markdown",
   "metadata": {
    "id": "jPj8RKK3v-2V"
   },
   "source": [
    "> To get a sample from a normal distribution with mean `mu` and standard deviation `sigma`, use `np.random.normal()`. You put in arguments: `loc=mu` and `scale=sigma` as well as the desired sample size.  The default values for `loc` and `scale` are 0 and 1; if you don't put those arguments in then it will be from the distribution $\\mathcal N(0,1)$."
   ]
  },
  {
   "cell_type": "code",
   "execution_count": null,
   "metadata": {
    "colab": {
     "base_uri": "https://localhost:8080/"
    },
    "executionInfo": {
     "elapsed": 104,
     "status": "ok",
     "timestamp": 1716556917819,
     "user": {
      "displayName": "Christopher Cornwell",
      "userId": "10439702716895294443"
     },
     "user_tz": 240
    },
    "id": "ry4E6xGFv_aN",
    "outputId": "472ea064-f585-4439-baa5-b18f0e7dd8f0"
   },
   "outputs": [],
   "source": [
    "# Sample from normal distribution (`loc` is the mean, default value is 0; `scale` is the standard deviation, default value is 1).\n",
    "np.random.normal(loc=0, scale=0.1, size=6)"
   ]
  },
  {
   "cell_type": "markdown",
   "metadata": {
    "id": "nW3W2_Bx-qOT"
   },
   "source": [
    "> You can also make a random matrix, each entry drawn from the given distribution, by putting in an ordered pair for the size argument."
   ]
  },
  {
   "cell_type": "code",
   "execution_count": null,
   "metadata": {
    "colab": {
     "base_uri": "https://localhost:8080/"
    },
    "executionInfo": {
     "elapsed": 98,
     "status": "ok",
     "timestamp": 1716560596231,
     "user": {
      "displayName": "Christopher Cornwell",
      "userId": "10439702716895294443"
     },
     "user_tz": 240
    },
    "id": "NfH5uZ7z-p4z",
    "outputId": "6469964f-f9c7-4202-d9da-71f1abb4000d"
   },
   "outputs": [],
   "source": [
    "np.random.uniform(0, 1, size=(3,4)) # makes a 3x4 matrix with entries from Uniform(0,1)"
   ]
  },
  {
   "cell_type": "markdown",
   "metadata": {
    "id": "vqLcLqe9xLhf"
   },
   "source": [
    "### Visualizing the output"
   ]
  },
  {
   "cell_type": "markdown",
   "metadata": {
    "id": "zJ6zbG4exSHu"
   },
   "source": [
    "> Plotting in Python is typically done with the package [`matplotlib.pyplot`](https://matplotlib.org/stable/api/_as_gen/matplotlib.pyplot.plot.html).  Here is a [tutorial](https://matplotlib.org/stable/tutorials/pyplot.html).  There is also a package called [`seaborn`](https://seaborn.pydata.org/) with some tools that allow you to make the plots look nicer relatively easily."
   ]
  },
  {
   "cell_type": "code",
   "execution_count": null,
   "metadata": {
    "executionInfo": {
     "elapsed": 106,
     "status": "ok",
     "timestamp": 1716557796535,
     "user": {
      "displayName": "Christopher Cornwell",
      "userId": "10439702716895294443"
     },
     "user_tz": 240
    },
    "id": "k1uXTkvo0QqL"
   },
   "outputs": [],
   "source": [
    "# import the pyplot package; (usually this would be done at the top of the worksheet)\n",
    "import matplotlib.pyplot as plt\n",
    "import seaborn\n",
    "seaborn.set_style('darkgrid')"
   ]
  },
  {
   "cell_type": "markdown",
   "metadata": {
    "id": "w6WA_--GyUnY"
   },
   "source": [
    "> The reason I brought up visualization here is that you can plot your random samples (a normalized histogram of them) along with a plot of the probability distribution function and see how they will roughly match."
   ]
  },
  {
   "cell_type": "code",
   "execution_count": null,
   "metadata": {},
   "outputs": [],
   "source": [
    "xx = np.linspace(-3,3)\n",
    "sample = np.random.normal(loc=0,scale=1,size=10000)\n",
    "plt.plot(xx, np.exp(-(xx-0)**2/(2*1))/np.sqrt(2*np.pi*1), color='black')\n",
    "plt.hist(sample, bins=20, density=True)\n",
    "plt.show()"
   ]
  },
  {
   "cell_type": "markdown",
   "metadata": {},
   "source": [
    "### Custom functions"
   ]
  },
  {
   "cell_type": "code",
   "execution_count": 43,
   "metadata": {},
   "outputs": [],
   "source": [
    "def my_function(v):\n",
    "  # body of function\n",
    "  return #the output"
   ]
  },
  {
   "cell_type": "code",
   "execution_count": 23,
   "metadata": {},
   "outputs": [],
   "source": [
    "def coloring(array_of_points):\n",
    "    ref_vector = np.array([2,-2/3])\n",
    "    dotvalues = array_of_points@ref_vector\n",
    "    colors = np.array(['darkblue' if v < 0 else 'salmon' for v in dotvalues])\n",
    "    return colors"
   ]
  },
  {
   "cell_type": "code",
   "execution_count": 29,
   "metadata": {},
   "outputs": [],
   "source": [
    "p = np.random.uniform(-1,1,size=(500,2))"
   ]
  },
  {
   "cell_type": "code",
   "execution_count": null,
   "metadata": {},
   "outputs": [],
   "source": [
    "plt.scatter(p[:,0], p[:,1], c=mycolors, edgecolors='black')\n",
    "plt.show()"
   ]
  },
  {
   "cell_type": "code",
   "execution_count": null,
   "metadata": {},
   "outputs": [],
   "source": []
  },
  {
   "cell_type": "markdown",
   "metadata": {},
   "source": [
    "### Importing data"
   ]
  },
  {
   "cell_type": "code",
   "execution_count": 4,
   "metadata": {},
   "outputs": [],
   "source": [
    "# use Pandas, usually would do this at the beginning of the notebook\n",
    "import pandas as pd"
   ]
  },
  {
   "cell_type": "code",
   "execution_count": 5,
   "metadata": {},
   "outputs": [],
   "source": [
    "# code to import data\n",
    "df = pd.read_csv('summer.csv')"
   ]
  },
  {
   "cell_type": "code",
   "execution_count": null,
   "metadata": {},
   "outputs": [],
   "source": [
    "np.polyfit(x,y,1)"
   ]
  }
 ],
 "metadata": {
  "colab": {
   "authorship_tag": "ABX9TyPz40qvFU28vWRHbmBuKciJ",
   "collapsed_sections": [
    "AHjCaXah3a64"
   ],
   "provenance": []
  },
  "kernelspec": {
   "display_name": "Python 3",
   "name": "python3"
  },
  "language_info": {
   "codemirror_mode": {
    "name": "ipython",
    "version": 3
   },
   "file_extension": ".py",
   "mimetype": "text/x-python",
   "name": "python",
   "nbconvert_exporter": "python",
   "pygments_lexer": "ipython3",
   "version": "3.13.1"
  }
 },
 "nbformat": 4,
 "nbformat_minor": 0
}
