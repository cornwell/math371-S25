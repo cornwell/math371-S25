{
 "cells": [
  {
   "cell_type": "markdown",
   "metadata": {},
   "source": [
    "## Lecture 3 - Random library of Numpy"
   ]
  },
  {
   "cell_type": "markdown",
   "metadata": {
    "id": "GlDxQv-R8Dun"
   },
   "source": [
    "> The methods in `numpy.random` allow you to draw samples from a variety of probability distributions.  Example probability distributions that are important to our project: (continuous) uniform distribution on an interval and a normal distribution.  \n",
    "\n",
    "> You can also draw a sample from a list/array that you provide, which is helpful in different instances, including when working with data.  You can also shuffle a list/array using a random permutation."
   ]
  },
  {
   "cell_type": "code",
   "execution_count": null,
   "metadata": {
    "colab": {
     "base_uri": "https://localhost:8080/",
     "height": 51
    },
    "executionInfo": {
     "elapsed": 451,
     "status": "ok",
     "timestamp": 1598471411517,
     "user": {
      "displayName": "Christopher Cornwell",
      "photoUrl": "https://lh3.googleusercontent.com/a-/AOh14Gjx2-f5PsfjNxZ0XLBEhH0y7hRTT73yaFfuJR0djw=s64",
      "userId": "10439702716895294443"
     },
     "user_tz": 240
    },
    "id": "LccWmHI9Agnx",
    "outputId": "274a5712-f2be-470e-ef4e-0d129a4284ad"
   },
   "outputs": [
    {
     "name": "stdout",
     "output_type": "stream",
     "text": [
      "[5 5 3 3 6 8]\n",
      "[0 0 7 2 6 4]\n"
     ]
    }
   ],
   "source": [
    "# Sampling uniformly on a range of consecutive integers\n",
    "# To get 6 integers drawn uniformly from {0,1,2,...,9}  (10 is not included)\n",
    "print(np.random.randint(0, 10, size=6))\n",
    "# equivalently, you can call\n",
    "print(np.random.choice(10, size=6))"
   ]
  },
  {
   "cell_type": "code",
   "execution_count": null,
   "metadata": {
    "colab": {
     "base_uri": "https://localhost:8080/",
     "height": 34
    },
    "executionInfo": {
     "elapsed": 477,
     "status": "ok",
     "timestamp": 1598471422006,
     "user": {
      "displayName": "Christopher Cornwell",
      "photoUrl": "https://lh3.googleusercontent.com/a-/AOh14Gjx2-f5PsfjNxZ0XLBEhH0y7hRTT73yaFfuJR0djw=s64",
      "userId": "10439702716895294443"
     },
     "user_tz": 240
    },
    "id": "b8ZultR2BHuh",
    "outputId": "07266b66-bcf6-4209-8170-9d08b27d1c89"
   },
   "outputs": [
    {
     "data": {
      "text/plain": [
       "array([7, 9, 2, 3, 8, 0])"
      ]
     },
     "execution_count": 14,
     "metadata": {
      "tags": []
     },
     "output_type": "execute_result"
    }
   ],
   "source": [
    "# If you want sampling without replacement...\n",
    "np.random.choice(10,size=6,replace=False)"
   ]
  },
  {
   "cell_type": "markdown",
   "metadata": {
    "id": "krIPWjTasTdo"
   },
   "source": [
    "> To get a sample from a uniform distribution on the interval $[0,1)$, you can use `np.random.random(size=n)`, with `n` being the number of samples you want.  However, you can also use the method `np.random.uniform()`.  For this method, you need to put in the left and right endpoint of the interval that you want, and then the size of the sample that you want."
   ]
  },
  {
   "cell_type": "code",
   "execution_count": 15,
   "metadata": {
    "colab": {
     "base_uri": "https://localhost:8080/"
    },
    "executionInfo": {
     "elapsed": 130,
     "status": "ok",
     "timestamp": 1716556429702,
     "user": {
      "displayName": "Christopher Cornwell",
      "userId": "10439702716895294443"
     },
     "user_tz": 240
    },
    "id": "X7lWCc1jtIBg",
    "outputId": "4be5d57a-7d81-4653-c49a-0501b8763d04"
   },
   "outputs": [
    {
     "name": "stdout",
     "output_type": "stream",
     "text": [
      "[0.18748482 0.17051242 0.86980288 0.05874517 0.27856982 0.3330317 ]\n",
      "[0.20844461 0.4973837  0.50493981 0.37674493 0.11308881 0.75048567]\n"
     ]
    }
   ],
   "source": [
    "print( np.random.random(size=6) )\n",
    "print( np.random.uniform(0,1, size=6) )  # these two sample from the same distribution (the first, random.random is \"legacy\", drawing from an old API)"
   ]
  },
  {
   "cell_type": "code",
   "execution_count": 16,
   "metadata": {
    "colab": {
     "base_uri": "https://localhost:8080/"
    },
    "executionInfo": {
     "elapsed": 95,
     "status": "ok",
     "timestamp": 1716556639890,
     "user": {
      "displayName": "Christopher Cornwell",
      "userId": "10439702716895294443"
     },
     "user_tz": 240
    },
    "id": "-KuVQBr7BaGj",
    "outputId": "8c24fb69-b356-49e1-bc94-190975812fce"
   },
   "outputs": [
    {
     "name": "stdout",
     "output_type": "stream",
     "text": [
      "[4.18606969 2.92800702 4.74028922 3.91491844 4.57208251 4.62929687]\n",
      "[3.29739727 3.39297838 1.45471264 3.04120567 3.05948527 1.15440858]\n"
     ]
    }
   ],
   "source": [
    "# To sample uniformly from [a, b), here's an example with a=1, b=5\n",
    "print( np.random.uniform(1, 5, size=6) )\n",
    "# Or, use uniform on [0,1) and then scale to larger width interval and add the left endpoint to all output\n",
    "print( (5-1)*np.random.random(size=6) + 1 ) # the '+ 1' at the end adds 1 to every entry in the output sample"
   ]
  },
  {
   "cell_type": "markdown",
   "metadata": {
    "id": "jPj8RKK3v-2V"
   },
   "source": [
    "> To get a sample from a normal distribution with mean `mu` and standard deviation `sigma`, use `np.random.normal()`. You put in arguments: `loc=mu` and `scale=sigma` as well as the desired sample size.  The default values for `loc` and `scale` are 0 and 1; if you don't put those arguments in then it will be from the distribution $\\mathcal N(0,1)$."
   ]
  },
  {
   "cell_type": "code",
   "execution_count": 18,
   "metadata": {
    "colab": {
     "base_uri": "https://localhost:8080/"
    },
    "executionInfo": {
     "elapsed": 104,
     "status": "ok",
     "timestamp": 1716556917819,
     "user": {
      "displayName": "Christopher Cornwell",
      "userId": "10439702716895294443"
     },
     "user_tz": 240
    },
    "id": "ry4E6xGFv_aN",
    "outputId": "472ea064-f585-4439-baa5-b18f0e7dd8f0"
   },
   "outputs": [
    {
     "data": {
      "text/plain": [
       "array([-0.10938609, -0.06996681, -0.0391924 ,  0.01132496,  0.14353644,\n",
       "       -0.05273103])"
      ]
     },
     "execution_count": 18,
     "metadata": {},
     "output_type": "execute_result"
    }
   ],
   "source": [
    "# Sample from normal distribution (`loc` is the mean, default value is 0; `scale` is the standard deviation, default value is 1).\n",
    "np.random.normal(loc=0, scale=0.1, size=6)"
   ]
  },
  {
   "cell_type": "markdown",
   "metadata": {
    "id": "nW3W2_Bx-qOT"
   },
   "source": [
    "> You can also make a random matrix, each entry drawn from the given distribution, by putting in an ordered pair for the size argument."
   ]
  },
  {
   "cell_type": "code",
   "execution_count": 34,
   "metadata": {
    "colab": {
     "base_uri": "https://localhost:8080/"
    },
    "executionInfo": {
     "elapsed": 98,
     "status": "ok",
     "timestamp": 1716560596231,
     "user": {
      "displayName": "Christopher Cornwell",
      "userId": "10439702716895294443"
     },
     "user_tz": 240
    },
    "id": "NfH5uZ7z-p4z",
    "outputId": "6469964f-f9c7-4202-d9da-71f1abb4000d"
   },
   "outputs": [
    {
     "data": {
      "text/plain": [
       "array([[0.24717362, 0.72474244, 0.87813177, 0.69150338],\n",
       "       [0.93259028, 0.45451206, 0.29046566, 0.33823332],\n",
       "       [0.99119092, 0.48080378, 0.99501349, 0.4678089 ]])"
      ]
     },
     "execution_count": 34,
     "metadata": {},
     "output_type": "execute_result"
    }
   ],
   "source": [
    "np.random.uniform(0, 1, size=(3,4)) # makes a 3x4 matrix with entries from Uniform(0,1)"
   ]
  },
  {
   "cell_type": "markdown",
   "metadata": {
    "id": "vqLcLqe9xLhf"
   },
   "source": [
    "#Visualizing the output"
   ]
  },
  {
   "cell_type": "markdown",
   "metadata": {
    "id": "zJ6zbG4exSHu"
   },
   "source": [
    "> Plotting in Python is typically done with the package [`matplotlib.pyplot`](https://matplotlib.org/stable/api/_as_gen/matplotlib.pyplot.plot.html).  Here is a [tutorial](https://matplotlib.org/stable/tutorials/pyplot.html).  There is also a package called [`seaborn`](https://seaborn.pydata.org/) with some tools that allow you to make the plots look nicer relatively easily."
   ]
  },
  {
   "cell_type": "code",
   "execution_count": 2,
   "metadata": {
    "executionInfo": {
     "elapsed": 106,
     "status": "ok",
     "timestamp": 1716557796535,
     "user": {
      "displayName": "Christopher Cornwell",
      "userId": "10439702716895294443"
     },
     "user_tz": 240
    },
    "id": "k1uXTkvo0QqL"
   },
   "outputs": [],
   "source": [
    "# import the pyplot package; (usually this would be done at the top of the worksheet)\n",
    "import matplotlib.pyplot as plt"
   ]
  },
  {
   "cell_type": "markdown",
   "metadata": {
    "id": "w6WA_--GyUnY"
   },
   "source": [
    "> The reason I brought up visualization here is that you can plot your random samples (a normalized histogram of them) along with a plot of the probability distribution function and see how they will roughly match."
   ]
  },
  {
   "cell_type": "code",
   "execution_count": 10,
   "metadata": {},
   "outputs": [],
   "source": [
    "import seaborn\n",
    "seaborn.set_style('darkgrid')"
   ]
  },
  {
   "cell_type": "code",
   "execution_count": 33,
   "metadata": {},
   "outputs": [
    {
     "data": {
      "image/png": "[encoded data removed]",
      "text/plain": [
       "<Figure size 640x480 with 1 Axes>"
      ]
     },
     "metadata": {},
     "output_type": "display_data"
    }
   ],
   "source": [
    "xx = np.linspace(-3,3)\n",
    "sample = np.random.normal(loc=0,scale=1,size=10000)\n",
    "#plt.plot(xx, np.exp(-(xx-0)**2/(2*1))/np.sqrt(2*np.pi*1), color='black')\n",
    "plt.hist(sample, bins=20, density=True)\n",
    "plt.show()"
   ]
  },
  {
   "cell_type": "code",
   "execution_count": 26,
   "metadata": {
    "executionInfo": {
     "elapsed": 115,
     "status": "ok",
     "timestamp": 1716558181688,
     "user": {
      "displayName": "Christopher Cornwell",
      "userId": "10439702716895294443"
     },
     "user_tz": 240
    },
    "id": "swS_MpfQyT6U"
   },
   "outputs": [],
   "source": [
    "# get a decent size sample from Uniform(-1, 1)\n",
    "uniform_sample = np.random.uniform(-1, 1, size=2000)\n",
    "# get a decent size sample from N(0, 1)\n",
    "normal_sample = np.random.normal(0,1,size=2000)"
   ]
  },
  {
   "cell_type": "markdown",
   "metadata": {
    "id": "mQb959-uzSji"
   },
   "source": [
    "> The pdf for the uniform distribution above is a constant function, at height 1/2. We'll use `np.linspace()` to make an array of x-values between -1 and 1, then use `plt.plot()` to make a graph at that constant height.\n",
    "> > In `plt.plot` the first argument is an array of x-values; the second argument is an array of y-values, which must have one y-value for each x-value that is in the first argument.\n",
    "> > We will put in the sampled data as a histogram. The method for this is `plt.hist()`."
   ]
  },
  {
   "cell_type": "code",
   "execution_count": 32,
   "metadata": {
    "colab": {
     "base_uri": "https://localhost:8080/",
     "height": 430
    },
    "executionInfo": {
     "elapsed": 419,
     "status": "ok",
     "timestamp": 1716558556583,
     "user": {
      "displayName": "Christopher Cornwell",
      "userId": "10439702716895294443"
     },
     "user_tz": 240
    },
    "id": "8M5y1Td70YLk",
    "outputId": "806e61a0-8e91-4a40-8eb3-51b775ad2321"
   },
   "outputs": [
    {
     "data": {
      "image/png": "[encoded data removed]",
      "text/plain": [
       "<Figure size 640x480 with 1 Axes>"
      ]
     },
     "metadata": {},
     "output_type": "display_data"
    }
   ],
   "source": [
    "xx = np.linspace(-1,1)\n",
    "\n",
    "plt.plot(xx, [0.5]*50, c='red') # notice what I did there for the y-values\n",
    "plt.hist(uniform_sample, bins=50, density=True) # the histogram; with `density` set to true, the height of a bar represents the percentage of\n",
    "                                                # sampled numbers that fell within the range for that bin.\n",
    "\n",
    "plt.show()"
   ]
  },
  {
   "cell_type": "code",
   "execution_count": 33,
   "metadata": {
    "colab": {
     "base_uri": "https://localhost:8080/",
     "height": 430
    },
    "executionInfo": {
     "elapsed": 409,
     "status": "ok",
     "timestamp": 1716558576389,
     "user": {
      "displayName": "Christopher Cornwell",
      "userId": "10439702716895294443"
     },
     "user_tz": 240
    },
    "id": "4D1poEUW2lB_",
    "outputId": "5842f97c-6dc4-4f28-9351-7153e9324f4e"
   },
   "outputs": [
    {
     "data": {
      "image/png": "[encoded data removed]",
      "text/plain": [
       "<Figure size 640x480 with 1 Axes>"
      ]
     },
     "metadata": {},
     "output_type": "display_data"
    }
   ],
   "source": [
    "# For the sample from the normal distribution\n",
    "xx = np.linspace(-3, 3) # extend the plot to 3 standard deviations\n",
    "plt.plot(xx, np.exp(-xx**2/2)/np.sqrt(2*np.pi), c='red') # for the y-values, the x-values are being put into the pdf for the standard normal\n",
    "plt.hist(normal_sample, bins=50, density=True) # the histogram; with `density` set to true, the height of a bar represents the percentage of\n",
    "                                                # sampled numbers that fell within the range for that bin.\n",
    "\n",
    "plt.show()"
   ]
  },
  {
   "cell_type": "markdown",
   "metadata": {
    "id": "AHjCaXah3a64"
   },
   "source": [
    "# Some information below relates to how you can draw random samples from data."
   ]
  },
  {
   "cell_type": "code",
   "execution_count": null,
   "metadata": {
    "colab": {
     "base_uri": "https://localhost:8080/",
     "height": 34
    },
    "executionInfo": {
     "elapsed": 460,
     "status": "ok",
     "timestamp": 1598472575910,
     "user": {
      "displayName": "Christopher Cornwell",
      "photoUrl": "https://lh3.googleusercontent.com/a-/AOh14Gjx2-f5PsfjNxZ0XLBEhH0y7hRTT73yaFfuJR0djw=s64",
      "userId": "10439702716895294443"
     },
     "user_tz": 240
    },
    "id": "dNKiHVFmXb-5",
    "outputId": "866ec873-8cf9-46e8-c52a-d550175648ba"
   },
   "outputs": [
    {
     "data": {
      "text/plain": [
       "array(['a', 'a', 'a', '5', 'f', '5'], dtype='<U3')"
      ]
     },
     "execution_count": 18,
     "metadata": {
      "tags": []
     },
     "output_type": "execute_result"
    }
   ],
   "source": [
    "# To uniformly sample from an array you have\n",
    "my_array = np.array(['a','a','a','a','a','a','a','a','b','c','5','5','d','e','f','0.1','a','a','a','5','5','a','f','1'])\n",
    "np.random.choice(my_array, size=6)"
   ]
  },
  {
   "cell_type": "markdown",
   "metadata": {
    "id": "qGDxHJlmZAtr"
   },
   "source": [
    "If you want to get a random sample of *indices* (positions), and then pull out the entries at those indices from more than one array, making sure that the ones that had matching positions still have matching positions..."
   ]
  },
  {
   "cell_type": "code",
   "execution_count": null,
   "metadata": {
    "colab": {
     "base_uri": "https://localhost:8080/",
     "height": 34
    },
    "executionInfo": {
     "elapsed": 509,
     "status": "ok",
     "timestamp": 1598472612955,
     "user": {
      "displayName": "Christopher Cornwell",
      "photoUrl": "https://lh3.googleusercontent.com/a-/AOh14Gjx2-f5PsfjNxZ0XLBEhH0y7hRTT73yaFfuJR0djw=s64",
      "userId": "10439702716895294443"
     },
     "user_tz": 240
    },
    "id": "TqrwNOChYP_-",
    "outputId": "847a3ee5-1510-4328-f962-5c778efd3322"
   },
   "outputs": [
    {
     "data": {
      "text/plain": [
       "True"
      ]
     },
     "execution_count": 19,
     "metadata": {
      "tags": []
     },
     "output_type": "execute_result"
    }
   ],
   "source": [
    "my_second_array = np.array([0,0,0,0,0,0,0,0,1,2,3,3,4,5,6,7,0,0,0,3,3,0,6,8])\n",
    "len(my_array) == len(my_second_array) # First, double check that the length of the two arrays are the same"
   ]
  },
  {
   "cell_type": "code",
   "execution_count": null,
   "metadata": {
    "colab": {
     "base_uri": "https://localhost:8080/",
     "height": 34
    },
    "executionInfo": {
     "elapsed": 692,
     "status": "ok",
     "timestamp": 1598473050451,
     "user": {
      "displayName": "Christopher Cornwell",
      "photoUrl": "https://lh3.googleusercontent.com/a-/AOh14Gjx2-f5PsfjNxZ0XLBEhH0y7hRTT73yaFfuJR0djw=s64",
      "userId": "10439702716895294443"
     },
     "user_tz": 240
    },
    "id": "yQeERm-pal9Z",
    "outputId": "bfd90706-7dcb-4e4c-e1f0-4436d683e99c"
   },
   "outputs": [
    {
     "data": {
      "text/plain": [
       "array([4, 3, 3, 2, 1, 0, 0, 0, 0, 0])"
      ]
     },
     "execution_count": 21,
     "metadata": {
      "tags": []
     },
     "output_type": "execute_result"
    }
   ],
   "source": [
    "my_second_array[ [12,11,10,9,8,7,6,5,4,3] ] # a nice feature of a numpy array: you can give it a list/array of indices and it will return a subarray of itself corresponding to those indices (in the order you put them)"
   ]
  },
  {
   "cell_type": "code",
   "execution_count": null,
   "metadata": {
    "colab": {
     "base_uri": "https://localhost:8080/",
     "height": 51
    },
    "executionInfo": {
     "elapsed": 482,
     "status": "ok",
     "timestamp": 1598473073857,
     "user": {
      "displayName": "Christopher Cornwell",
      "photoUrl": "https://lh3.googleusercontent.com/a-/AOh14Gjx2-f5PsfjNxZ0XLBEhH0y7hRTT73yaFfuJR0djw=s64",
      "userId": "10439702716895294443"
     },
     "user_tz": 240
    },
    "id": "Coh9jcJsZHdF",
    "outputId": "08b27294-3761-49fd-8a41-063dabe85ea3"
   },
   "outputs": [
    {
     "name": "stdout",
     "output_type": "stream",
     "text": [
      "['c' 'd' 'f' 'd' 'a' 'd']\n",
      "[2 4 6 4 0 4]\n"
     ]
    }
   ],
   "source": [
    "# Now, sample some number of integers that are between 0 and [the length of the array] (exclusive; it will just go up to len(my_array)-1 )\n",
    "n = len(my_array)\n",
    "chosen_indices = np.random.choice(n, size=6)\n",
    "print(my_array[chosen_indices])\n",
    "print(my_second_array[chosen_indices])"
   ]
  },
  {
   "cell_type": "code",
   "execution_count": 7,
   "metadata": {},
   "outputs": [],
   "source": [
    "x = 4 - np.random.poisson(lam=1,size=200) + np.random.uniform(-0.1,0.9,size=200)"
   ]
  },
  {
   "cell_type": "code",
   "execution_count": 8,
   "metadata": {},
   "outputs": [],
   "source": [
    "y = np.array([np.random.uniform(0, 0.3*x[i]) for i in range(200)])"
   ]
  },
  {
   "cell_type": "code",
   "execution_count": 9,
   "metadata": {},
   "outputs": [],
   "source": [
    "vecs = np.column_stack((x,y))"
   ]
  },
  {
   "cell_type": "code",
   "execution_count": 10,
   "metadata": {},
   "outputs": [
    {
     "data": {
      "image/png": "[encoded data removed]",
      "text/plain": [
       "<Figure size 640x480 with 1 Axes>"
      ]
     },
     "metadata": {},
     "output_type": "display_data"
    }
   ],
   "source": [
    "plt.scatter(vecs[:,0], vecs[:,1], c='cyan', edgecolors='black', s=10)\n",
    "plt.show()"
   ]
  },
  {
   "cell_type": "code",
   "execution_count": 11,
   "metadata": {},
   "outputs": [],
   "source": [
    "M1 = np.random.normal(loc=0, scale=1, size=(2,2))\n",
    "M2 = np.random.normal(loc=0, scale=1, size=(2,2))\n",
    "M3 = np.random.normal(loc=0, scale=1, size=(2,2))\n",
    "M4 = np.random.normal(loc=0, scale=1, size=(2,2))\n",
    "M5 = np.random.normal(loc=0, scale=1, size=(2,2))"
   ]
  },
  {
   "cell_type": "code",
   "execution_count": 12,
   "metadata": {},
   "outputs": [],
   "source": [
    "t1_vecs = vecs@M1\n",
    "t2_vecs = vecs@M2\n",
    "t3_vecs = vecs@M3\n",
    "t4_vecs = vecs@M4\n",
    "t5_vecs = vecs@M5"
   ]
  },
  {
   "cell_type": "code",
   "execution_count": 13,
   "metadata": {},
   "outputs": [
    {
     "data": {
      "image/png": "[encoded data removed]",
      "text/plain": [
       "<Figure size 640x480 with 1 Axes>"
      ]
     },
     "metadata": {},
     "output_type": "display_data"
    }
   ],
   "source": [
    "plt.scatter(vecs[:,0], vecs[:,1], c='cyan', edgecolors='black', s=10)\n",
    "plt.scatter(t1_vecs[:,0], t1_vecs[:,1], c='salmon', edgecolors='black', s=10)\n",
    "plt.scatter(t2_vecs[:,0], t2_vecs[:,1], c='magenta', edgecolors='black', s=10)\n",
    "plt.scatter(t3_vecs[:,0], t3_vecs[:,1], c='goldenrod', edgecolors='black', s=10)\n",
    "plt.scatter(t4_vecs[:,0], t4_vecs[:,1], c='xkcd:dark green', edgecolors='black', s=10)\n",
    "plt.scatter(t5_vecs[:,0], t5_vecs[:,1], c='xkcd:navy blue', edgecolors='black', s=10)\n",
    "plt.show()"
   ]
  },
  {
   "cell_type": "code",
   "execution_count": 16,
   "metadata": {},
   "outputs": [
    {
     "name": "stdout",
     "output_type": "stream",
     "text": [
      "[0.65479357 0.75580777]\n"
     ]
    }
   ],
   "source": [
    "eg_approx = np.array([1,0])\n",
    "for i in range(100):\n",
    "    temp = M1@eg_approx\n",
    "    eg_approx = temp/np.linalg.norm(temp)\n",
    "print(eg_approx)"
   ]
  },
  {
   "cell_type": "code",
   "execution_count": 18,
   "metadata": {},
   "outputs": [
    {
     "data": {
      "text/plain": [
       "array([-1.52956597, -1.52956597])"
      ]
     },
     "execution_count": 18,
     "metadata": {},
     "output_type": "execute_result"
    }
   ],
   "source": [
    "M1@eg_approx/eg_approx"
   ]
  },
  {
   "cell_type": "code",
   "execution_count": 19,
   "metadata": {},
   "outputs": [
    {
     "data": {
      "text/plain": [
       "array([2.59383182e-10, 2.99397618e-10])"
      ]
     },
     "execution_count": 19,
     "metadata": {},
     "output_type": "execute_result"
    }
   ],
   "source": [
    "M1@eg_approx - (-1.52956597*eg_approx)"
   ]
  },
  {
   "cell_type": "code",
   "execution_count": 20,
   "metadata": {},
   "outputs": [],
   "source": [
    "M1inv = np.linalg.inv(M1)"
   ]
  },
  {
   "cell_type": "code",
   "execution_count": 21,
   "metadata": {},
   "outputs": [
    {
     "name": "stdout",
     "output_type": "stream",
     "text": [
      "[ 0.62124781 -0.78361417]\n"
     ]
    }
   ],
   "source": [
    "eg2_approx = np.array([1,0])\n",
    "for i in range(100):\n",
    "    temp = M1inv@eg2_approx\n",
    "    eg2_approx = temp/np.linalg.norm(temp)\n",
    "print(eg2_approx)"
   ]
  },
  {
   "cell_type": "code",
   "execution_count": 22,
   "metadata": {},
   "outputs": [
    {
     "data": {
      "text/plain": [
       "array([1.03213128, 1.03213128])"
      ]
     },
     "execution_count": 22,
     "metadata": {},
     "output_type": "execute_result"
    }
   ],
   "source": [
    "M1@eg2_approx/eg2_approx"
   ]
  },
  {
   "cell_type": "code",
   "execution_count": 23,
   "metadata": {},
   "outputs": [],
   "source": [
    "D = np.array([[-1.52956597, 0], [0, 1.03213128]])\n",
    "P = np.column_stack((eg_approx, eg2_approx))"
   ]
  },
  {
   "cell_type": "code",
   "execution_count": 27,
   "metadata": {},
   "outputs": [
    {
     "data": {
      "text/plain": [
       "array([[-1.52956597e+00,  8.77211229e-17],\n",
       "       [ 1.82415577e-16,  1.03213128e+00]])"
      ]
     },
     "execution_count": 27,
     "metadata": {},
     "output_type": "execute_result"
    }
   ],
   "source": [
    "np.linalg.inv(P)@(M1@P)"
   ]
  }
 ],
 "metadata": {
  "colab": {
   "authorship_tag": "ABX9TyPz40qvFU28vWRHbmBuKciJ",
   "collapsed_sections": [
    "AHjCaXah3a64"
   ],
   "provenance": []
  },
  "kernelspec": {
   "display_name": "Python 3",
   "name": "python3"
  },
  "language_info": {
   "codemirror_mode": {
    "name": "ipython",
    "version": 3
   },
   "file_extension": ".py",
   "mimetype": "text/x-python",
   "name": "python",
   "nbconvert_exporter": "python",
   "pygments_lexer": "ipython3",
   "version": "3.13.1"
  }
 },
 "nbformat": 4,
 "nbformat_minor": 0
}
