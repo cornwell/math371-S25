{
 "cells": [
  {
   "cell_type": "markdown",
   "metadata": {},
   "source": [
    "## Lecture 1 - Introduction to Python"
   ]
  },
  {
   "cell_type": "markdown",
   "metadata": {},
   "source": [
    "### Running Python and Jupyter\n",
    "\n",
    "---"
   ]
  },
  {
   "cell_type": "markdown",
   "metadata": {},
   "source": [
    "Throughout the semester, we will work in the [Python](https://www.python.org/) programming language, and mostly in the format you see here &ndash; <span style=\"color:chocolate;\">Jupyter notebooks</span>. There are a few ways to run and work with Jupyter notebooks. Here are two. \n",
    "1. Using Google's Colaboratory &ndash; _easiest startup_, done in the cloud, extra effort to interact with other files.\n",
    "2. Installing and running `python` and `jupyter` on your own computer &ndash; _installation steps to get started_, can work offline, easy to interact with other files.\n",
    "\n",
    "* [Instructions](https://github.com/cornwell/math371-S25/blob/main/Lectures/README.md) for both approaches above.\n",
    "\n",
    "Jupyter notebooks consist of <span style=\"color:chocolate;\">Markdown cells</span> and <span style=\"color:chocolate;\">Code cells</span>. The current line is in a Markdown cell (which works with HTML, having shortcuts for formatting &amp; styling). In a Code cell, you write lines of Python code, and when you \"Run\" that cell the code executes."
   ]
  },
  {
   "cell_type": "markdown",
   "metadata": {},
   "source": [
    "### Variables and Data Types\n",
    "\n",
    "---"
   ]
  },
  {
   "cell_type": "markdown",
   "metadata": {},
   "source": [
    "**Assigning variables.** \"Variables\" are everywhere when coding. These variables are similar to variables in mathematics (..._kind of_). They are the character (or sequence of characters) that you use to refer to something stored in memory. For example, run the code cell below."
   ]
  },
  {
   "cell_type": "code",
   "execution_count": 4,
   "metadata": {},
   "outputs": [],
   "source": [
    "x = 5.11\n",
    "y = 5\n",
    "name_full = 'Chris Cornwell'"
   ]
  },
  {
   "cell_type": "markdown",
   "metadata": {},
   "source": [
    "Once you have run the cell above, references to the variable name `x` will get replaced by the number `5.11`; it will work likewise with the other variable names that were _assigned_ above. For example, the output on running the code cell below should be the ordered pair `(5.23, 4)`."
   ]
  },
  {
   "cell_type": "code",
   "execution_count": null,
   "metadata": {},
   "outputs": [],
   "source": [
    "(x + 0.12, y - 1)"
   ]
  },
  {
   "cell_type": "markdown",
   "metadata": {},
   "source": [
    "* Restrictions to variable names: no spaces or \"operations\" like `+` or `-`; don't _begin_ the name with a numerical character.\n",
    "> **Question.** Why does the first code cell above have no output, but the code cell that we just ran does?\n",
    "\n",
    "Variable assignment should be contained in its own line of code, with variable name(s) to the left of `=` and the value(s) to the right. Multiple variables, with their assigned values, can be handled in one line by separating with commas."
   ]
  },
  {
   "cell_type": "code",
   "execution_count": 2,
   "metadata": {},
   "outputs": [],
   "source": [
    "x, y = 5.11, 5"
   ]
  },
  {
   "cell_type": "markdown",
   "metadata": {},
   "source": [
    "Depending on your previous experience with coding languages (such as C++ or Java), it might feel like something is missing when `y = 5` assigns `y` the value of 5, an `int`. In one of those languages, instead you type \n",
    "\n",
    "```java\n",
    "int y = 5;\n",
    "```\n",
    "\n",
    "This syntax _declares_ that `y` can take on value of an `int`, and then assigns it 5 as its value.\n",
    "\n",
    "In Python, the line `y = 5` achieves the same thing (at runtime), and you do not have to explicitly type that `y` is an `int` in your code. "
   ]
  },
  {
   "cell_type": "markdown",
   "metadata": {},
   "source": [
    "**Data type.** Every variable has a _data type_ (or, simply _type_). For example, above we have `y`, which is like an integer in mathematics. Its type is `int`. However, the type of `x` is `float` &ndash; a little like a decimal number in math. \n",
    "\n",
    "As mentioned before, some programming languages require you to declare the variable and its type before assigning it. Python is more flexible in this. In fact, even _after_ being assigned a value and type, `y` could change to a different data type; or, the code may need to use `y` temporarily in another type. In other languages, this would create an error (unless you use _type casting_), but not in Python."
   ]
  },
  {
   "cell_type": "code",
   "execution_count": 5,
   "metadata": {},
   "outputs": [
    {
     "name": "stdout",
     "output_type": "stream",
     "text": [
      "<class 'float'>\n",
      "<class 'int'>\n",
      "<class 'str'>\n"
     ]
    }
   ],
   "source": [
    "print( type(x) )\n",
    "print( type(y) )\n",
    "print( type(name_full) )"
   ]
  },
  {
   "cell_type": "markdown",
   "metadata": {},
   "source": [
    "### Operations on different data types\n",
    "\n",
    "---"
   ]
  },
  {
   "cell_type": "markdown",
   "metadata": {},
   "source": [
    "We've mentioned two built-in types, that are numerical types: `int` and `float`. Another built-in type that is numerical is `complex`, which likely will not be used in this course. With numerical types, the basic operations `+`, `-`, `*` (multiplication), and `/` (division) work as you expect. In order to raise a number to an exponent, use `**` (_not_ the caret symbol `^`); so, `x**n` will compute the value of $\\texttt{x}^{\\texttt{n}}$.\n",
    "\n",
    "Note, in order to multiply, you must write the `*` operation; that is, if `a` and `b` are assigned and have `float` type, typing in `ab` will _not_ compute the value of `a` times `b`.\n",
    "> **Question.** We may want many variables in memory during a programming session. Thinking about this, why would it be _bad_ to have Python interpret `xy` as `x` times `y`?\n",
    "\n",
    "> **Exercise.** Create a code cell below this Markdown cell. In that cell, assign `z` to be equal to 1/3, and write a second line that computes the value of the polynomial $3x^2 - 4x + 1$ at $x = 1/3$. "
   ]
  },
  {
   "cell_type": "markdown",
   "metadata": {},
   "source": [
    "##### The `list` data type.\n",
    "A `list` in Python is a data type that is _sequential_ &ndash; it holds a sequence of stored values, each of which is called an _item_ in the list. When assigning a `list` variable, the item values to be stored are separated by commas and placed between `[  ]`. For example, \n",
    "\n",
    "```python\n",
    "my_list = [3,2,1,'a']\n",
    "```\n",
    "\n",
    "assigns a list with four items. The place of the items starts at `0`. We can refer to values of these items, in order, with `my_list[0]`, `my_list[1]`, `my_list[2]`, and `my_list[3]`. Note that it is not necessary for the items to all have the same type."
   ]
  },
  {
   "cell_type": "code",
   "execution_count": 8,
   "metadata": {},
   "outputs": [
    {
     "name": "stdout",
     "output_type": "stream",
     "text": [
      "2\n",
      "a\n"
     ]
    }
   ],
   "source": [
    "my_list = [3, 2, 1, 'a']\n",
    "print( my_list[1] )\n",
    "print( my_list[3] )"
   ]
  },
  {
   "cell_type": "code",
   "execution_count": 9,
   "metadata": {},
   "outputs": [
    {
     "name": "stdout",
     "output_type": "stream",
     "text": [
      "<class 'int'>\n",
      "<class 'str'>\n"
     ]
    }
   ],
   "source": [
    "print( type(my_list[1]) )\n",
    "print( type(my_list[3]) )"
   ]
  },
  {
   "cell_type": "markdown",
   "metadata": {},
   "source": [
    "The addition operation `+` is defined on lists. The output of the operation is the _concatenation_ of the two lists, meaning that it puts them together end-to-end."
   ]
  },
  {
   "cell_type": "code",
   "execution_count": 10,
   "metadata": {},
   "outputs": [
    {
     "data": {
      "text/plain": [
       "[3, 2, 1, 'a', 1, 2]"
      ]
     },
     "execution_count": 10,
     "metadata": {},
     "output_type": "execute_result"
    }
   ],
   "source": [
    "my_list + [1, 2]"
   ]
  },
  {
   "cell_type": "markdown",
   "metadata": {},
   "source": [
    "The other arithmetic operations are not defined between two lists. However, there are other operations. \n",
    "\n",
    "**Multiplication of a list by an int** will add that many copies of the list together (using `+` on lists). For example, \n",
    "```python\n",
    "[1, 2]*5\n",
    "```\n",
    "would produce the output `[1, 2, 1, 2, 1, 2, 1, 2, 1, 2]`.\n",
    "\n",
    "**Length of a list** is found using the function `len()`. If `your_list` is the name of the list, the command `len(your_list)` will output the number of items in the list.\n",
    "\n",
    "**Finding a value in a list.** You can check if there is an item in the list that has a given value (or the same value as a certain variable). For example, to check that the integer 2 is in `my_list`, defined above, use `2 in my_list`. The output should be `True`. However, `4 in my_list` will evaluate as `False`.\n",
    "\n",
    "> **Exercise.** Insert a code cell below that assigns the list `['Around', 'The', 'World']` to a variable. Then create a new list that contains that 3 word phrase as many times as the Daft Punk song from 1997. Finally, make the cell output the length of that new list."
   ]
  },
  {
   "cell_type": "markdown",
   "metadata": {},
   "source": [
    "#### Other sequential data types\n",
    "\n",
    "There are sequential data types other than `list`, including `tuple` and `range`. The operations on lists that were discussed above work in the same way on these data types. We may return to them later, especially the `range` type. \n",
    "\n",
    "One final, important, sequential data type is `str`, called a string. This is a sequence of _characters_ (from your keyboard). Think of a string as like a word, phrase, or sentence, but any keyboard characters in any order is valid, including a Space. We have used some strings already: the variable `name_full` is a string, and the item `'a'` in `my_list` is also a string. A string is enclosed between `'  '` or `\"  \"` (or, for multiple lines `\"\"\"  \"\"\"`) .\n",
    "\n",
    "The operations we mentioned on lists work for strings in the same way. Here are two examples."
   ]
  },
  {
   "cell_type": "code",
   "execution_count": 15,
   "metadata": {},
   "outputs": [
    {
     "data": {
      "text/plain": [
       "'Chris Cornwell was here.'"
      ]
     },
     "execution_count": 15,
     "metadata": {},
     "output_type": "execute_result"
    }
   ],
   "source": [
    "name_full + ' was here.'"
   ]
  },
  {
   "cell_type": "code",
   "execution_count": 17,
   "metadata": {},
   "outputs": [
    {
     "data": {
      "text/plain": [
       "True"
      ]
     },
     "execution_count": 17,
     "metadata": {},
     "output_type": "execute_result"
    }
   ],
   "source": [
    "'C' in name_full"
   ]
  },
  {
   "cell_type": "markdown",
   "metadata": {},
   "source": [
    "### Basic commands\n",
    "\n",
    "Similar to most programming languages, `python` uses **functions** to perform operations. Each function has a _name_ and takes as its inputs some number of _arguments_ (some arguments might be optional).\n",
    "\n",
    "A very basic example is the `print()` function, which requires a `string` as input and it displays that string as its output. For example, run the code block below. It will print the phrase 'Hello world!' as output.\n",
    "> In the input, note the quote marks around the words. This makes the _list of characters_ between the quotes a `string`."
   ]
  },
  {
   "cell_type": "code",
   "execution_count": 3,
   "metadata": {},
   "outputs": [
    {
     "name": "stdout",
     "output_type": "stream",
     "text": [
      "Hello world!\n"
     ]
    }
   ],
   "source": [
    "print('Hello world!')"
   ]
  },
  {
   "cell_type": "markdown",
   "metadata": {},
   "source": [
    "Okay, but that's kind of boring. A more interesting feature of the `print()` function is the ability to print out the value of some variable that has been assigned in your current coding session.\n",
    "\n",
    "For example, in the following code we _assign_ a number to a variable `z`. We are then able to both add `z` to another number, but also print out the result when we want to."
   ]
  },
  {
   "cell_type": "code",
   "execution_count": 8,
   "metadata": {},
   "outputs": [
    {
     "name": "stdout",
     "output_type": "stream",
     "text": [
      "The variable z is now equal to 7 , 3 larger than before.\n"
     ]
    }
   ],
   "source": [
    "z = 4\n",
    "z = z + 3\n",
    "print('The variable z is now equal to', z, ', 3 larger than before.')"
   ]
  },
  {
   "cell_type": "markdown",
   "metadata": {},
   "source": [
    "If you were paying attention, there were _three_ objects given as input to `print()` and only two of them had data type of `string`. The `print()` function has been made to adapt. Multiple inputs are stuck together with a space `' '` between them. If an input is not of `string` type then it tries to convert it to a string. Essentially, it made one string, as below. "
   ]
  },
  {
   "cell_type": "code",
   "execution_count": 9,
   "metadata": {},
   "outputs": [
    {
     "data": {
      "text/plain": [
       "'The variable z is now equal to 7 , 3 larger than before.'"
      ]
     },
     "execution_count": 9,
     "metadata": {},
     "output_type": "execute_result"
    }
   ],
   "source": [
    "'The variable z is now equal to' + ' ' + str(z) + ' ' + ', 3 larger than before.'"
   ]
  },
  {
   "cell_type": "code",
   "execution_count": 10,
   "metadata": {},
   "outputs": [
    {
     "data": {
      "text/plain": [
       "(int, str)"
      ]
     },
     "execution_count": 10,
     "metadata": {},
     "output_type": "execute_result"
    }
   ],
   "source": [
    "( type(z), type(str(z)) )"
   ]
  },
  {
   "cell_type": "markdown",
   "metadata": {},
   "source": [
    "There are other ways to make your print statement when the statement involves a variable. For example, you can use an `fstring`."
   ]
  },
  {
   "cell_type": "code",
   "execution_count": 11,
   "metadata": {},
   "outputs": [
    {
     "name": "stdout",
     "output_type": "stream",
     "text": [
      "The variable z is now equal to 7, 3 larger than before.\n"
     ]
    }
   ],
   "source": [
    "print(f'The variable z is now equal to {z}, 3 larger than before.')"
   ]
  }
 ],
 "metadata": {
  "colab": {
   "authorship_tag": "ABX9TyPz40qvFU28vWRHbmBuKciJ",
   "collapsed_sections": [
    "AHjCaXah3a64"
   ],
   "provenance": []
  },
  "kernelspec": {
   "display_name": "Python 3",
   "name": "python3"
  },
  "language_info": {
   "codemirror_mode": {
    "name": "ipython",
    "version": 3
   },
   "file_extension": ".py",
   "mimetype": "text/x-python",
   "name": "python",
   "nbconvert_exporter": "python",
   "pygments_lexer": "ipython3",
   "version": "3.11.9"
  }
 },
 "nbformat": 4,
 "nbformat_minor": 0
}
