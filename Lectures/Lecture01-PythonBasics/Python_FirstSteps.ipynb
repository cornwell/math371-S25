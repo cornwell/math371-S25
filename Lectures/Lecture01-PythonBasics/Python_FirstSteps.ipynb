{
 "cells": [
  {
   "cell_type": "markdown",
   "metadata": {},
   "source": [
    "## Lecture 1 - Introduction to Python"
   ]
  },
  {
   "cell_type": "markdown",
   "metadata": {},
   "source": [
    "### Running Python and Jupyter"
   ]
  },
  {
   "cell_type": "markdown",
   "metadata": {},
   "source": [
    "Throughout the semester, we will work in the Python programming language, and mostly in the format you see here -- \"Jupyter notebooks.\" There are a few ways to run and work with Jupyter notebooks. Here are two. \n",
    "1. Using Google's Colaboratory. (_easiest startup_, in the cloud, interacting with other files is extra effort)\n",
    "2. Installing and running `python` and `jupyter` on your own computer. (_installation steps to get started_, can work offline, easy to interact with other files)\n",
    "\n",
    "Follow this link (to README file) to find instructions for that."
   ]
  },
  {
   "cell_type": "markdown",
   "metadata": {},
   "source": [
    "### Data Types and Operations"
   ]
  },
  {
   "cell_type": "markdown",
   "metadata": {},
   "source": [
    "\"Variables\" will appear everywhere when you are coding in Python. These variables are similar to variables in mathematics (...kind of). They are the set of characters that you use to refer to something stored in memory. For example, run the code cell below."
   ]
  },
  {
   "cell_type": "code",
   "execution_count": 20,
   "metadata": {},
   "outputs": [],
   "source": [
    "x = 5.11\n",
    "y = 5\n",
    "name = 'Chris Cornwell'"
   ]
  },
  {
   "cell_type": "markdown",
   "metadata": {},
   "source": [
    "Once you have run the cell above, references to the variable name `x` will get replaced by the number `5.11`; it will work likewise with the other variable names that were _assigned_ above.\n",
    "> some restrictions in variable names: no spaces or \"operations\" like `+` or `-`; don't _begin_ the name with a numerical character"
   ]
  },
  {
   "cell_type": "code",
   "execution_count": 21,
   "metadata": {},
   "outputs": [
    {
     "data": {
      "text/plain": [
       "(5.23, 4)"
      ]
     },
     "execution_count": 21,
     "metadata": {},
     "output_type": "execute_result"
    }
   ],
   "source": [
    "(x + 0.12, y - 1)"
   ]
  },
  {
   "cell_type": "markdown",
   "metadata": {},
   "source": [
    "Every variable has a _type_. For example, above we have `y` (which is, essentially, an integer). Its type (or, data type) is `int`. However, the type of `x` is `float` (kind of like a decimal number). \n",
    "\n",
    "In some other programming languages you have to declare the variable and its type before assigning it a value. Python gives you flexibility. You do not have to do this and Python will interpret the type at runtime. "
   ]
  },
  {
   "cell_type": "code",
   "execution_count": 22,
   "metadata": {},
   "outputs": [
    {
     "name": "stdout",
     "output_type": "stream",
     "text": [
      "<class 'float'>\n",
      "<class 'int'>\n"
     ]
    }
   ],
   "source": [
    "print( type(x) )\n",
    "print( type(y) )"
   ]
  },
  {
   "cell_type": "markdown",
   "metadata": {},
   "source": [
    "It is still important to be **aware** of your variables' types. It can alter the effect that operations have on the value of the variable (as we will see in a minute). Also, if not careful, it can cause Python to tell you things are not the same when you think they should be.\n",
    "\n",
    "We've mentioned two basic numerical types -- `int` and `float`. Additional basic, but important types are the following. \n",
    "* `bool`: a _boolean_ which can take value `True` or `False` (in fact, these effectively are `1` and `0` in Python, but it does a good job of interpreting when you want a `bool` and when you want an `int`).\n",
    "\n",
    "Some \"sequential\" data types\n",
    "* `list`: a sequential list of _elements_ (a list's elements don't need to have the same type); enclosed between `[  ]`\n",
    "* `tuple`: much like a list, but with different functionality (is \"hashable\"); enclosed between `(  )`\n",
    "* `str`: short for \"string\"; enclosed between `'  '` or `\"  \"`; think of it like a word/phrase/sentence with all keyboard characters valid, including the `Space`."
   ]
  },
  {
   "cell_type": "markdown",
   "metadata": {},
   "source": [
    "### Operations on different types"
   ]
  },
  {
   "cell_type": "markdown",
   "metadata": {},
   "source": [
    "#### The `+` operation\n",
    "This can be used on any pair of the same data type. For numerical data types it works as you expect. If you try adding an `int` and a `float`, Python will output a `float` (having converted the `int` to a `float`, such as `5 -> 5.0`). \n",
    "\n",
    "For the sequential data types, it _concatenates_ the two, meaning it places them end to end."
   ]
  },
  {
   "cell_type": "code",
   "execution_count": 31,
   "metadata": {},
   "outputs": [
    {
     "data": {
      "text/plain": [
       "[3, 2, 1, 4, 5, 6]"
      ]
     },
     "execution_count": 31,
     "metadata": {},
     "output_type": "execute_result"
    }
   ],
   "source": [
    "list_a = [3,2,1]\n",
    "list_b = [4,5,6]\n",
    "list_a + list_b"
   ]
  },
  {
   "cell_type": "code",
   "execution_count": 33,
   "metadata": {},
   "outputs": [
    {
     "data": {
      "text/plain": [
       "'Chris Cornwell was here.'"
      ]
     },
     "execution_count": 33,
     "metadata": {},
     "output_type": "execute_result"
    }
   ],
   "source": [
    "name + ' was here.'"
   ]
  },
  {
   "cell_type": "markdown",
   "metadata": {},
   "source": [
    "### Basic commands\n",
    "\n",
    "Similar to most programming languages, `python` uses **functions** to perform operations. Each function has a _name_ and takes as its inputs some number of _arguments_ (some arguments might be optional).\n",
    "\n",
    "A very basic example is the `print()` function, which requires a `string` as input and it displays that string as its output. For example, run the code block below. It will print the phrase 'Hello world!' as output.\n",
    "> In the input, note the quote marks around the words. This makes the _list of characters_ between the quotes a `string`."
   ]
  },
  {
   "cell_type": "code",
   "execution_count": 3,
   "metadata": {},
   "outputs": [
    {
     "name": "stdout",
     "output_type": "stream",
     "text": [
      "Hello world!\n"
     ]
    }
   ],
   "source": [
    "print('Hello world!')"
   ]
  },
  {
   "cell_type": "markdown",
   "metadata": {},
   "source": [
    "Okay, but that's kind of boring. A more interesting feature of the `print()` function is the ability to print out the value of some variable that has been assigned in your current coding session.\n",
    "\n",
    "For example, in the following code we _assign_ a number to a variable `z`. We are then able to both add `z` to another number, but also print out the result when we want to."
   ]
  },
  {
   "cell_type": "code",
   "execution_count": 8,
   "metadata": {},
   "outputs": [
    {
     "name": "stdout",
     "output_type": "stream",
     "text": [
      "The variable z is now equal to 7 , 3 larger than before.\n"
     ]
    }
   ],
   "source": [
    "z = 4\n",
    "z = z + 3\n",
    "print('The variable z is now equal to', z, ', 3 larger than before.')"
   ]
  },
  {
   "cell_type": "markdown",
   "metadata": {},
   "source": [
    "If you were paying attention, there were _three_ objects given as input to `print()` and only two of them had data type of `string`. The `print()` function has been made to adapt. Multiple inputs are stuck together with a space `' '` between them. If an input is not of `string` type then it tries to convert it to a string. Essentially, it made one string, as below. "
   ]
  },
  {
   "cell_type": "code",
   "execution_count": 9,
   "metadata": {},
   "outputs": [
    {
     "data": {
      "text/plain": [
       "'The variable z is now equal to 7 , 3 larger than before.'"
      ]
     },
     "execution_count": 9,
     "metadata": {},
     "output_type": "execute_result"
    }
   ],
   "source": [
    "'The variable z is now equal to' + ' ' + str(z) + ' ' + ', 3 larger than before.'"
   ]
  },
  {
   "cell_type": "code",
   "execution_count": 10,
   "metadata": {},
   "outputs": [
    {
     "data": {
      "text/plain": [
       "(int, str)"
      ]
     },
     "execution_count": 10,
     "metadata": {},
     "output_type": "execute_result"
    }
   ],
   "source": [
    "( type(z), type(str(z)) )"
   ]
  },
  {
   "cell_type": "markdown",
   "metadata": {},
   "source": [
    "There are other ways to make your print statement when the statement involves a variable. For example, you can use an `fstring`."
   ]
  },
  {
   "cell_type": "code",
   "execution_count": 11,
   "metadata": {},
   "outputs": [
    {
     "name": "stdout",
     "output_type": "stream",
     "text": [
      "The variable z is now equal to 7, 3 larger than before.\n"
     ]
    }
   ],
   "source": [
    "print(f'The variable z is now equal to {z}, 3 larger than before.')"
   ]
  }
 ],
 "metadata": {
  "colab": {
   "authorship_tag": "ABX9TyPz40qvFU28vWRHbmBuKciJ",
   "collapsed_sections": [
    "AHjCaXah3a64"
   ],
   "provenance": []
  },
  "kernelspec": {
   "display_name": "Python 3",
   "name": "python3"
  },
  "language_info": {
   "codemirror_mode": {
    "name": "ipython",
    "version": 3
   },
   "file_extension": ".py",
   "mimetype": "text/x-python",
   "name": "python",
   "nbconvert_exporter": "python",
   "pygments_lexer": "ipython3",
   "version": "3.11.9"
  }
 },
 "nbformat": 4,
 "nbformat_minor": 0
}
