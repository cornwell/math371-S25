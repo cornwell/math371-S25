{
 "cells": [
  {
   "cell_type": "markdown",
   "metadata": {},
   "source": [
    "## Lecture 1 - Introduction to Python"
   ]
  },
  {
   "cell_type": "markdown",
   "metadata": {},
   "source": [
    "### Running Python and Jupyter\n",
    "\n",
    "---"
   ]
  },
  {
   "cell_type": "markdown",
   "metadata": {},
   "source": [
    "Throughout the semester, we will work in the [Python](https://www.python.org/) programming language, and mostly in the format you see here &ndash; <span style=\"color:chocolate;\">Jupyter notebooks</span>. There are a few ways to run and work with Jupyter notebooks. Here are two. \n",
    "1. Using Google's Colaboratory &ndash; _easiest startup_, done in the cloud, extra effort to interact with other files.\n",
    "2. Installing and running `python` and `jupyter` on your own computer &ndash; _installation steps to get started_, can work offline, easy to interact with other files.\n",
    "\n",
    "* [Instructions](https://github.com/cornwell/math371-S25/blob/main/Lectures/README.md) for both approaches above.\n",
    "\n",
    "Jupyter notebooks consist of <span style=\"color:chocolate;\">Markdown cells</span> and <span style=\"color:chocolate;\">Code cells</span>. The current line is in a Markdown cell (which works with HTML, but has shortcuts for formatting &amp; styling). In a Code cell, you write lines of Python code, and when you \"Run\" that cell the code executes. Try hovering the mouse cursor just below this cell (below the paragraph). Symbols for adding a Code or Markdown cell should appear."
   ]
  },
  {
   "cell_type": "markdown",
   "metadata": {},
   "source": [
    "### Variables and Data Types\n",
    "\n",
    "---"
   ]
  },
  {
   "cell_type": "markdown",
   "metadata": {},
   "source": [
    "**Assigning variables.** \"Variables\" are everywhere when coding. These variables are similar to variables in mathematics (..._kind of_). They are the character (or sequence of characters) that you use to refer to something stored in memory. For example, run (or, \"execute\") the code cell below."
   ]
  },
  {
   "cell_type": "code",
   "execution_count": 4,
   "metadata": {},
   "outputs": [],
   "source": [
    "x = 5.11\n",
    "y = 5\n",
    "name_full = 'Chris Cornwell'"
   ]
  },
  {
   "cell_type": "markdown",
   "metadata": {},
   "source": [
    "Once you have run the cell above, references to the variable `x` will get replaced by the number `5.11`; it will work likewise with the other variables that were _assigned_ above. For example, running the code cell below should give output that is `(5.23, 4)`."
   ]
  },
  {
   "cell_type": "code",
   "execution_count": null,
   "metadata": {},
   "outputs": [],
   "source": [
    "(x + 0.12, y - 1)"
   ]
  },
  {
   "cell_type": "markdown",
   "metadata": {},
   "source": [
    "* Restrictions on names of variables: no spaces or \"operations\" like `+` or `-`; don't _begin_ the name with a numerical character.\n",
    "> **Question.** Why does the first code cell above have no output, but the code cell that we just ran does?\n",
    "\n",
    "Variable assignment should be contained in its own line of code, with variable name(s) to the left of `=` and the value(s) to the right. Multiple variables, with their assigned values, can be handled in one line by separating with commas."
   ]
  },
  {
   "cell_type": "code",
   "execution_count": 2,
   "metadata": {},
   "outputs": [],
   "source": [
    "x, y = 5.11, 5"
   ]
  },
  {
   "cell_type": "markdown",
   "metadata": {},
   "source": [
    "Depending on your previous experience with coding languages (such as C++ or Java), it might feel like something is missing when `y = 5` assigns `y` the value of 5, an `int`. In one of those languages, instead you type \n",
    "\n",
    "```java\n",
    "int y = 5;\n",
    "```\n",
    "\n",
    "This syntax _declares_ that `y` can take on value of an `int`, and then assigns it 5 as its value.\n",
    "\n",
    "In Python, the line `y = 5` achieves the same thing (at runtime), and you do not have to explicitly type that `y` is an `int` in your code. "
   ]
  },
  {
   "cell_type": "markdown",
   "metadata": {},
   "source": [
    "**Data type.** Every variable has a _data type_ (or, simply _type_). For example, above we have `y`, which is like an integer in mathematics. Its type is `int`. The type of `x` is `float` &ndash; a little like a decimal number in math, but not entirely. \n",
    "\n",
    "As mentioned before, some programming languages require you to declare the variable and its type before assigning it. Python is more flexible in this. In fact, even _after_ being assigned a value and type, `y` could change to a different data type; or, the code may need to use `y` temporarily in another type. In other languages, this would create an error (unless you use _type casting_), but not in Python."
   ]
  },
  {
   "cell_type": "code",
   "execution_count": null,
   "metadata": {},
   "outputs": [],
   "source": [
    "print( type(x) )\n",
    "print( type(y) )\n",
    "print( type(name_full) )"
   ]
  },
  {
   "cell_type": "markdown",
   "metadata": {},
   "source": [
    "### Operations on different data types\n",
    "\n",
    "---"
   ]
  },
  {
   "cell_type": "markdown",
   "metadata": {},
   "source": [
    "Now we'll discuss (most of) the built-in Python data types that you will need often. A lot more information can be found in [the documentation](https://docs.python.org/3/library/stdtypes.html)."
   ]
  },
  {
   "cell_type": "markdown",
   "metadata": {},
   "source": [
    "##### Numerical data types\n",
    "We've mentioned two built-in data types already that are numerical: `int` and `float`. Another built-in, numerical type is `complex`, which likely will not be used in this course. With numerical types, the basic operations `+`, `-`, `*` (multiplication), and `/` (division) work as you expect. In order to raise a number to an exponent, use `**` (_not_ the caret symbol `^`); so, `x**n` will compute the value of $\\texttt{x}^{\\texttt{n}}$.\n",
    "\n",
    "Note that, in order to multiply, you must write the `*` operation; that is, if `a` and `b` are assigned and have `float` type, typing in `ab` does _not_ compute the value of `a` times `b`. Instead, `a*b` is needed. \n",
    "> **Question.** We may want many variables in memory during a programming session. Thinking about this, why would it be a _bad_ idea to have Python interpret `ab` as `a` times `b`?\n",
    "\n",
    "> **Exercise.** Create a code cell below this Markdown cell. In that cell, assign `z` to be equal to 1/3, and write a second line that computes the value of the polynomial $3x^2 - 4x + 1$ at $x = 1/3$. "
   ]
  },
  {
   "cell_type": "markdown",
   "metadata": {},
   "source": [
    "##### The `list` data type.\n",
    "A `list` in Python is a data type that is _sequential_ &ndash; it holds a sequence of stored values, each of which is called an _item_ in the list. When assigning a `list` variable, the item values to be stored are separated by commas and placed between `[  ]`. For example, \n",
    "\n",
    "```python\n",
    "my_list = [3,2,1,'a']\n",
    "```\n",
    "\n",
    "assigns a list with four items to the variable `my_list`. The place of the items starts at `0`. We can refer to values of these items, in order, with `my_list[0]`, `my_list[1]`, `my_list[2]`, and `my_list[3]`. Note that it is not necessary for the items to all have the same type."
   ]
  },
  {
   "cell_type": "code",
   "execution_count": null,
   "metadata": {},
   "outputs": [],
   "source": [
    "my_list = [3, 2, 1, 'a']\n",
    "print( my_list[1] )\n",
    "print( my_list[3] )"
   ]
  },
  {
   "cell_type": "code",
   "execution_count": null,
   "metadata": {},
   "outputs": [],
   "source": [
    "print( type(my_list[1]) )\n",
    "print( type(my_list[3]) )"
   ]
  },
  {
   "cell_type": "markdown",
   "metadata": {},
   "source": [
    "The addition operation `+` is defined on lists. The output of the operation is the _concatenation_ of the two lists, meaning that it puts them together end-to-end."
   ]
  },
  {
   "cell_type": "code",
   "execution_count": null,
   "metadata": {},
   "outputs": [],
   "source": [
    "my_list + [1, 2]"
   ]
  },
  {
   "cell_type": "markdown",
   "metadata": {},
   "source": [
    "The other arithmetic operations are not defined between two lists. However, there are other operations. \n",
    "\n",
    "**Multiplication of a list by an int** will add that many copies of the list together (using `+` on lists). For example, \n",
    "```python\n",
    "[1, 2]*3\n",
    "```\n",
    "would produce the output `[1, 2, 1, 2, 1, 2]`.\n",
    "\n",
    "**Length of a list** is found using the function `len()`. If `your_list` is the name of the list, the command `len(your_list)` will output the number of items in the list.\n",
    "\n",
    "**Finding a value in a list.** You can check if there is an item in the list that has a given value (or the same value as a certain variable). For example, to check that the integer 2 is in `my_list`, defined above, use `2 in my_list`. The output should be `True`. However, `4 in my_list` will evaluate as `False`.\n",
    "\n",
    "> **Exercise.** Insert a code cell below that assigns the list `['Around', 'The', 'World']` to a variable. Then create a new list from it with those 3 strings repeated as many times as they occur in the Daft Punk song from 1997. Finally, put in a line of code so that the output of the cell is the length of that new list."
   ]
  },
  {
   "cell_type": "markdown",
   "metadata": {},
   "source": [
    "#### Other sequential data types\n",
    "\n",
    "There are sequential data types other than `list`, including `tuple` and `range`. The operations on lists that were discussed above work in the same way on these data types. We will return to them later, especially the `range` type. \n",
    "\n",
    "One final, important, sequential data type is `str`, called a \"string.\" This is a sequence of _characters_ (from your keyboard). Think of a string as like a word, phrase, or sentence, but any keyboard characters in any order is valid, including a Space. We have used some strings already: the variable `name_full` is a string, and the item `'a'` in `my_list` is also a string. A string is enclosed between `'  '` or `\"  \"` (or, for multiple lines `\"\"\"  \"\"\"`) .\n",
    "\n",
    "The operations we mentioned on lists work for strings in the same way. Here are two examples."
   ]
  },
  {
   "cell_type": "code",
   "execution_count": null,
   "metadata": {},
   "outputs": [],
   "source": [
    "name_full + ' was here.'"
   ]
  },
  {
   "cell_type": "code",
   "execution_count": null,
   "metadata": {},
   "outputs": [],
   "source": [
    "'C' in name_full"
   ]
  },
  {
   "cell_type": "markdown",
   "metadata": {},
   "source": [
    "### Basic functions\n",
    "\n",
    "---\n",
    "\n",
    "Similar to most programming languages, Python uses **functions** to perform operations. Each function takes as its inputs some number of _arguments_ (though some arguments might be optional).\n",
    "\n",
    "A starting example is the `print()` function, which has been used above already. The `print()` function requires an input string (type `str`) and displays that string as its output. For example, running the code block below will display the phrase 'Hello world!' as output."
   ]
  },
  {
   "cell_type": "code",
   "execution_count": null,
   "metadata": {},
   "outputs": [],
   "source": [
    "print('Hello world!')"
   ]
  },
  {
   "cell_type": "markdown",
   "metadata": {},
   "source": [
    "Okay, but that's kind of boring. A more interesting feature of `print()` is the ability to print out the value of some variable that has been assigned in your current coding session.\n",
    "\n",
    "For example, below we assign a value to `z` and print what that value is. Then we add a number to `z` (and _reassign_ the resulting value to `z`), and then print out the new value within a sentence. Since the values of your variables may change a lot during runtime, using `print()` can help you to debug and to check the code does what you expect."
   ]
  },
  {
   "cell_type": "code",
   "execution_count": null,
   "metadata": {},
   "outputs": [],
   "source": [
    "z = 4\n",
    "print(z, 'is the value of z.')\n",
    "z = z + 3.0\n",
    "print('The variable z is now equal to', z, ', 3 larger than before.')"
   ]
  },
  {
   "cell_type": "markdown",
   "metadata": {},
   "source": [
    "If you were paying attention, both uses of `print()` had more than one input (2 inputs and 3 inputs, respectively), and some of the inputs were _not_ strings! The `print()` function has been written to adapt. Given multiple inputs, they are stuck together with a space `' '` between them. If an input is not of type `str` then Python converts it to a string, if possible. In the second print statement, Python made one string as follows. "
   ]
  },
  {
   "cell_type": "code",
   "execution_count": null,
   "metadata": {},
   "outputs": [],
   "source": [
    "'The variable z is now equal to' + ' ' + str(z) + ' ' + ', 3 larger than before.'"
   ]
  },
  {
   "cell_type": "markdown",
   "metadata": {},
   "source": [
    "The **best way** is to use something called an f-string. An f-string is a string where you put the character `f` at the beginning. This allows you to put variables _within_ the string, surrounded by `{ }`, and the variable's value will be put into the string. Here is an example."
   ]
  },
  {
   "cell_type": "code",
   "execution_count": null,
   "metadata": {},
   "outputs": [],
   "source": [
    "print(f'The variable z is now equal to {z}, 3 larger than before.')"
   ]
  },
  {
   "cell_type": "markdown",
   "metadata": {},
   "source": [
    "##### Other built-in functions\n",
    "with an input of numeric type\n",
    "* `abs(x)`: `x` should be numeric; output is the absolute value (for an `int` or `float`).\n",
    "* `round(x)`: `x` should be a `float` (can be an `int` but then the output is the input); returns `int` that is nearest integer to `x`.\n",
    "  * an optional second argument `ndigits`, which should be an `int`, can be given to round the number to that many (decimal) digits."
   ]
  },
  {
   "cell_type": "code",
   "execution_count": null,
   "metadata": {},
   "outputs": [],
   "source": [
    "a = -3**2/8\n",
    "print( abs(a) )\n",
    "print( a+8 )\n",
    "print( (round( a+8 ), round( a+8, 2 )) )"
   ]
  },
  {
   "cell_type": "code",
   "execution_count": null,
   "metadata": {},
   "outputs": [],
   "source": [
    "round() a+8, ndigits=2 )"
   ]
  },
  {
   "cell_type": "markdown",
   "metadata": {},
   "source": [
    "with an input of sequential type\n",
    "\n",
    "* `len()`: input should be a \"container\", which includes our sequential data types &ndash; `list`, `tuple`, `range`, `str`; output is the number of items ."
   ]
  },
  {
   "cell_type": "code",
   "execution_count": null,
   "metadata": {},
   "outputs": [],
   "source": []
  }
 ],
 "metadata": {
  "colab": {
   "authorship_tag": "ABX9TyPz40qvFU28vWRHbmBuKciJ",
   "collapsed_sections": [
    "AHjCaXah3a64"
   ],
   "provenance": []
  },
  "kernelspec": {
   "display_name": "Python 3",
   "name": "python3"
  },
  "language_info": {
   "codemirror_mode": {
    "name": "ipython",
    "version": 3
   },
   "file_extension": ".py",
   "mimetype": "text/x-python",
   "name": "python",
   "nbconvert_exporter": "python",
   "pygments_lexer": "ipython3",
   "version": "3.11.9"
  }
 },
 "nbformat": 4,
 "nbformat_minor": 0
}
