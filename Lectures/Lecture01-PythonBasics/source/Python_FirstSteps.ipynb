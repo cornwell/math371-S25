{
 "cells": [
  {
   "cell_type": "markdown",
   "metadata": {},
   "source": [
    "#### Assigning variables"
   ]
  },
  {
   "cell_type": "code",
   "execution_count": 39,
   "metadata": {},
   "outputs": [],
   "source": [
    "x = 5.11\n",
    "y = 5\n",
    "name_full = 'Chris Cornwell'"
   ]
  },
  {
   "cell_type": "markdown",
   "metadata": {},
   "source": [
    "This assigns three variables: `x`, `y`, and `name_full`. Afterwards, references to `x` are replaced by the number `5.11` and similarly with the other two variables. \n",
    "\n",
    "Lines starting with `#` are \"commented out\" &ndash; the Python interpreter does not try to execute that line. Multi-line comments: triple quotes `\"\"\" \"\"\"`."
   ]
  },
  {
   "cell_type": "code",
   "execution_count": null,
   "metadata": {},
   "outputs": [],
   "source": [
    "# Making an ordered pair by using variables x and y\n",
    "(x + y, y - 1)"
   ]
  },
  {
   "cell_type": "markdown",
   "metadata": {},
   "source": [
    "Can assign multiple variables in one line by separating with commas."
   ]
  },
  {
   "cell_type": "code",
   "execution_count": 2,
   "metadata": {},
   "outputs": [],
   "source": [
    "x, y = 5.11, 5"
   ]
  },
  {
   "cell_type": "markdown",
   "metadata": {},
   "source": [
    "If you have experience in other coding languages (e.g., C++ or Java), it might feel like something is missing. To assign `y` the value `5` in one of those languages, instead you type \n",
    "\n",
    "```java\n",
    "int y = 5;\n",
    "```\n",
    "\n",
    "This syntax _declares_ that `y` takes on value of an `int` (one of the _types_), and then assigns it 5 as its value.\n",
    "\n",
    "In Python, `y = 5` achieves the same thing (at runtime), and you do not have to explicitly type that `y` is an `int` in your code. "
   ]
  },
  {
   "cell_type": "markdown",
   "metadata": {},
   "source": [
    "#### Data type "
   ]
  },
  {
   "cell_type": "code",
   "execution_count": null,
   "metadata": {},
   "outputs": [],
   "source": [
    "# Printing out the types of our variables\n",
    "print( type(x) )\n",
    "print( type(y) )\n",
    "print( type(name_full) )"
   ]
  },
  {
   "cell_type": "markdown",
   "metadata": {},
   "source": [
    "In an IDE, can view variables in memory. For example, in VSCode can click on 'Jupyter Variables' in the top toolbar."
   ]
  },
  {
   "cell_type": "markdown",
   "metadata": {},
   "source": [
    "<a name=\"operations-on-different-types\"></a>\n",
    "### Operations on Different Types\n",
    "\n",
    "---"
   ]
  },
  {
   "cell_type": "markdown",
   "metadata": {},
   "source": [
    "Now we'll discuss some of the basic, built-in Python types needed in this class. We will get to others that are more complicated or need to be _imported_, in another lecture. More information can be found in [the documentation](https://docs.python.org/3/library/stdtypes.html)."
   ]
  },
  {
   "cell_type": "markdown",
   "metadata": {},
   "source": [
    "#### Numerical types\n",
    "We'll use: `int` and `float`. Basic arithmetic operations `+`, `-`, `*`, and `/` work on these as you expect. For exponents, use `**`; so, `x**n` will compute the value of $\\texttt{x}^{\\texttt{n}}$.\n",
    "\n",
    "Note that, in order to multiply, you must write the `*` operation\n",
    "\n",
    "> Create a code cell below this Markdown cell. In that cell, assign `z` to be equal to 1/3, and write a second line to compute and output the value of the polynomial $3x^2 - 4x + 1$ at $x = 1/3$. "
   ]
  },
  {
   "cell_type": "markdown",
   "metadata": {},
   "source": [
    "Often we want not only to perform an operation on a variable, but afterwards assign that computed value to the variable. For example, to increase `y` by 1, could use the following line of code.\n",
    "```python\n",
    "y = y + 1\n",
    "```\n",
    "There is a common shorthand (`+=`) that does the same thing. This works for any of the basic arithmetic operations."
   ]
  },
  {
   "cell_type": "code",
   "execution_count": null,
   "metadata": {},
   "outputs": [],
   "source": [
    "y += 1\n",
    "print(y)\n",
    "w = 5\n",
    "w *= 3\n",
    "print(w)"
   ]
  },
  {
   "cell_type": "markdown",
   "metadata": {},
   "source": [
    "#### Logical and `None` types\n",
    "Booleans, are either `True` or `False`.  Usually come up when making _comparisons_ between variables. \n",
    "> Technically, in Python `True` and `False` are essentially like the `int` values `1` and `0`, respectively. Be careful not to use this fact without extreme care!"
   ]
  },
  {
   "cell_type": "code",
   "execution_count": null,
   "metadata": {},
   "outputs": [],
   "source": [
    "True*False"
   ]
  },
  {
   "cell_type": "markdown",
   "metadata": {},
   "source": [
    "There is also a _null type_, which can only have value `None`. In later lectures we will talk about some valuable uses for it."
   ]
  },
  {
   "cell_type": "markdown",
   "metadata": {},
   "source": [
    "#### Lists\n",
    "A `list` in Python is a data type that is _sequential_ &ndash; it holds a sequence of stored values, each of which is called an _item_ in the list. A `list` variable may be assigned with the item values being separated by commas and placed between `[  ]`. For example, \n",
    "\n",
    "```python\n",
    "my_list = [2,3,5,'p']\n",
    "```\n",
    "\n",
    "assigns a list with four items to `my_list`. The index of the items starts at `0`. We refer to item values, in order, by `my_list[0]`, `my_list[1]`, `my_list[2]`, and `my_list[3]`. Note that it is not necessary for all the items to have the same type. Empty lists are also valid."
   ]
  },
  {
   "cell_type": "code",
   "execution_count": null,
   "metadata": {},
   "outputs": [],
   "source": [
    "my_list = [2, 3, 5, 'p']\n",
    "empty_list = []\n",
    "print( my_list[1] )\n",
    "print( my_list[3] )"
   ]
  },
  {
   "cell_type": "code",
   "execution_count": null,
   "metadata": {},
   "outputs": [],
   "source": [
    "print( type(my_list[1]) )\n",
    "print( type(my_list[3]) )"
   ]
  },
  {
   "cell_type": "markdown",
   "metadata": {},
   "source": [
    "The addition operation on lists: _concatenation_"
   ]
  },
  {
   "cell_type": "code",
   "execution_count": null,
   "metadata": {},
   "outputs": [],
   "source": [
    "my_list + [11, 13]"
   ]
  },
  {
   "cell_type": "markdown",
   "metadata": {},
   "source": [
    "The other arithmetic operations are not defined between two lists. However, there are other operations. \n",
    "\n",
    "**Multiplication of a list by an int:** adds that many copies of the list together (using `+` on lists). For example, \n",
    "```python\n",
    "[1, 2]*3\n",
    "```\n",
    "results in the output `[1, 2, 1, 2, 1, 2]`.\n",
    "\n",
    "**Length of a list:** found using the function `len()`. If `your_list` is the name of the list, the command `len(your_list)` will output the number of items in the list. (More on functions below.)\n",
    "\n",
    "**Checking if a value is found in a list:** check if some item of the list has a given value (or the same value as a given variable). For example, to check that `2` is in `my_list`, defined above, use `2 in my_list`. The output should be `True`. However, `4 in my_list` will result in `False`.\n",
    "\n",
    "> **Exercise.** Insert a code cell below that assigns the list `['Around', 'the', 'world']` to a variable. Then create a new list from it so that the items `'Around', 'the', 'world'` are repeated in the list as many times as they occur in the [Daft Punk song from 1997](https://en.wikipedia.org/wiki/Around_the_World_(Daft_Punk_song)). Finally, make a new line of code so that the cell's output is the length of that new list."
   ]
  },
  {
   "cell_type": "markdown",
   "metadata": {},
   "source": [
    "#### Strings and other sequential types\n",
    "\n",
    "There are sequential data types other than `list`, including `tuple` and `range`. The operations on lists that were discussed above work in the same way on these data types.\n",
    "\n",
    "One final and important sequential data type is `str`, called a **string**. This is a sequence of _characters_ (from your keyboard). Think of it like a word or phrase, but where numeric and special characters are also allowed like, `$`, or `~`, or a Space ` `.\n",
    "\n",
    "The operations we mentioned on lists work for strings in the same way. Here are two examples."
   ]
  },
  {
   "cell_type": "code",
   "execution_count": null,
   "metadata": {},
   "outputs": [],
   "source": [
    "name_full + ' was here.'"
   ]
  },
  {
   "cell_type": "code",
   "execution_count": null,
   "metadata": {},
   "outputs": [],
   "source": [
    "'C' in name_full"
   ]
  },
  {
   "cell_type": "markdown",
   "metadata": {},
   "source": [
    "_Escape sequences_ such as Tabs and Newlines can be included in a string. Use `'\\t'` for a Tab and `'\\n'` for a Newline. In order to display how these affect the spacing, use a `print()` function.\n",
    "\n",
    "Finally, Python has something called an **f-string**, which lets you make the (current) value of a variable part your string."
   ]
  },
  {
   "cell_type": "code",
   "execution_count": null,
   "metadata": {},
   "outputs": [],
   "source": [
    "print('\\tWere\\nyou \\there?')\n",
    "\n",
    "# Here is an example of an f-string. Notice the f at the beginnning.\n",
    "f'The third prime number is {my_list[2]}.'"
   ]
  },
  {
   "cell_type": "markdown",
   "metadata": {},
   "source": [
    "#### Two more container types\n",
    "Two more types that _contain_ items, but are not sequential, are sets (`set`) and dictionaries (`dict`). \n",
    "\n",
    "A `set` variable largely matches the mathematical idea of a set. There is no order to the items that it contains and it does not have \"repeats.\" It can be assigned using `{ }`, with comma-separated items inside. \n",
    "\n",
    "Each `dict` variable has _dictionary keys_ (think of these as a kind of label), and there is an item (\"entry\") associated to each of the keys. Think of it as a function (like the Math 267 notion of a function) with the set of keys as its domain. As an example, \n",
    "\n",
    "```python\n",
    "my_pet = {'name':'Spot', 'age':4, 'type':'dog'}\n",
    "```\n",
    "\n",
    "assigns `my_pet` as a dictionary. The keys are `'name'`, `'age'`, and `'type'`. The age of `my_pet` results from `my_pet['age']`. \n",
    "\n",
    "When working with certain kinds of data, there are often good reasons to work with a dictionary or, as we'll do later in this class, with something that is very similar to a dictionary &ndash; a DataFrame."
   ]
  },
  {
   "cell_type": "markdown",
   "metadata": {},
   "source": [
    "### Basic Functions\n",
    "\n",
    "---\n",
    "\n",
    "Similar to most programming languages, Python uses **functions** to perform operations. Each function takes as its inputs some number of _arguments_ (though some arguments might be optional).\n",
    "\n",
    "A starting example is the `print()` function, which has been used above already. The `print()` function displays the provided string as its output. For example, the code cell below displays the phrase 'Hello world!' as output."
   ]
  },
  {
   "cell_type": "code",
   "execution_count": null,
   "metadata": {},
   "outputs": [],
   "source": [
    "print('Hello world!')"
   ]
  },
  {
   "cell_type": "markdown",
   "metadata": {},
   "source": [
    "Okay, but that's kind of boring! More interesting is that `print()` can take a variable as argument &ndash; in fact, it even accepts several variable(s) and/or string(s). The function then converts each to a string and adds them together.\n",
    "\n",
    "For example, below some information is displayed about `my_list`, using the print function. Then, one of the items in `my_list` is assigned a new value and `print()` is used to show it. \n",
    "> Since the values of your variables can change a lot during runtime, using `print()` can help you to debug and to check that your code does what you expect it to do."
   ]
  },
  {
   "cell_type": "code",
   "execution_count": null,
   "metadata": {},
   "outputs": [],
   "source": [
    "print('The item in', my_list, 'with index 3 is', my_list[3], '.')\n",
    "my_list[3] = 7\n",
    "print('The item in', my_list, 'with index 3 is', my_list[3], ', which is the fourth prime.')"
   ]
  },
  {
   "cell_type": "markdown",
   "metadata": {},
   "source": [
    "Some of the spacing there is unfortunate. The print function created the string to display as \n",
    "```python\n",
    "'The item in my_list with index 3 is' + ' ' + str(my_list[3]) + ' ' + ', which is the fourth prime.'\n",
    "```\n",
    "Use f-strings instead."
   ]
  },
  {
   "cell_type": "code",
   "execution_count": null,
   "metadata": {},
   "outputs": [],
   "source": [
    "print(f'The item in {my_list} with index 3 is {my_list[3]}, which is the fourth prime.')"
   ]
  },
  {
   "cell_type": "markdown",
   "metadata": {},
   "source": [
    "#### Other built-in functions\n",
    "&#x25B6; with an input of numeric type\n",
    "* `abs(x)`: `x` should be numeric; output is the absolute value (for an `int` or `float`).\n",
    "* `round(x)`: `x` should be a `float` (can be an `int` but then the output is the input); returns `int` that is nearest integer to `x`.\n",
    "  * an optional second argument, `ndigits`, can be given to round the number to that many decimals; `ndigits` should be an `int`."
   ]
  },
  {
   "cell_type": "code",
   "execution_count": null,
   "metadata": {},
   "outputs": [],
   "source": [
    "a = -3**2/8\n",
    "print( abs(a) )\n",
    "print( a+8 )\n",
    "# the second round() function below is given a second argument of 2, for ndigits\n",
    "print( (round( a+8 ), round( a+8, 2 )) )"
   ]
  },
  {
   "cell_type": "code",
   "execution_count": null,
   "metadata": {},
   "outputs": [],
   "source": [
    "round( a+8, ndigits=2 )"
   ]
  },
  {
   "cell_type": "markdown",
   "metadata": {},
   "source": [
    "&#x25B6; with an input of sequential type\n",
    "\n",
    "* `len()`: input should be a \"container\", which includes our sequential data types &ndash; `list`, `tuple`, `range`, `str`; output is the number of items ."
   ]
  },
  {
   "cell_type": "code",
   "execution_count": null,
   "metadata": {},
   "outputs": [],
   "source": [
    "len(my_list + [11, 13])"
   ]
  },
  {
   "cell_type": "markdown",
   "metadata": {},
   "source": [
    "There are functions that convert one type to another, when possible. Generally, the name of the data type is the name of the function that converts _to_ that type. Examples:\n",
    "\n",
    "* `int()`: to convert a float to an int (rounding towards zero);\n",
    "* `str()`: convert the variable to a string representing the variable's value;\n",
    "* `set()`: will work with sequential types as input"
   ]
  },
  {
   "cell_type": "code",
   "execution_count": null,
   "metadata": {},
   "outputs": [],
   "source": [
    "new_list = [1,3,1,1,2,5,1,7,3,7]\n",
    "set(new_list)"
   ]
  },
  {
   "cell_type": "markdown",
   "metadata": {},
   "source": [
    "### Slicing Lists and Basic List Methods\n",
    "\n",
    "---"
   ]
  },
  {
   "cell_type": "markdown",
   "metadata": {},
   "source": [
    "Say that `my_list` is a list variable. As was said, an individual item at index `i` in `my_list` is returned by the command `my_list[i]`. However, you can also easilty return a shorter list with some number of consecutive items from `my_list`. Some examples are below."
   ]
  },
  {
   "cell_type": "code",
   "execution_count": 31,
   "metadata": {},
   "outputs": [],
   "source": [
    "my_list = ['a','b', 'c', 'd', 'e', 'f', 'g', 'h', 'i']"
   ]
  },
  {
   "cell_type": "markdown",
   "metadata": {},
   "source": [
    "Use a colon to return items `start` through `stop`$-1$ &ndash; typing `my_list[start:stop]`. This is called list **slicing**."
   ]
  },
  {
   "cell_type": "code",
   "execution_count": null,
   "metadata": {},
   "outputs": [],
   "source": [
    "# Return letters at index 1 to 4 (excluding 4)\n",
    "print(my_list[1:4])\n",
    "\n",
    "# Leaving off the number on either side will go until the start, or until the end\n",
    "print(my_list[:5])\n",
    "\n",
    "# Use negative numbers to step back from the end of the list\n",
    "print(my_list[-1])\n",
    "print(my_list[-2:])"
   ]
  },
  {
   "cell_type": "code",
   "execution_count": null,
   "metadata": {},
   "outputs": [],
   "source": [
    "# Easy way to return the list in reverse order \n",
    "print(my_list[::-1])\n",
    "\n",
    "# Reverse the order, then get a slice\n",
    "print(my_list[::-1][1:4])"
   ]
  },
  {
   "cell_type": "markdown",
   "metadata": {},
   "source": [
    "**Methods** are functions that are tied to objects of a particular _class_. In Python lists are, in fact, one of the built-in classes and have some methods. Here are a few of those methods that you can use. \n",
    "> Be careful. These methods alter the list _in place_, meaning that the value of the variable changes when you call the function (without writing the new variable assignment). "
   ]
  },
  {
   "cell_type": "markdown",
   "metadata": {},
   "source": [
    "#### `.append(x)`\n",
    "Puts `x` at the end of the list. Afterwards, the list is longer by one. \n",
    "\n",
    "Note that, if `my_list` is the variable, the same thing can be achieved with: `my_list += [x]`. \n",
    "\n",
    "(The `+=` here was introduced in the [Operations on Different Types](#operations-on-different-types) section above, under Numerical types. It works similarly on lists.)"
   ]
  },
  {
   "cell_type": "code",
   "execution_count": null,
   "metadata": {},
   "outputs": [],
   "source": [
    "my_list.append('j')\n",
    "my_list"
   ]
  },
  {
   "cell_type": "markdown",
   "metadata": {},
   "source": [
    "#### `.remove(x)`\n",
    "Removes the _first_ item in the list which has value equal to `x`. Afterwards, the list is shorter by one.\n",
    "\n",
    "The method `.pop(i)` does something similar, at index `i`, but returns the item that was removed."
   ]
  },
  {
   "cell_type": "code",
   "execution_count": null,
   "metadata": {},
   "outputs": [],
   "source": [
    "my_list.remove('e')\n",
    "my_list"
   ]
  },
  {
   "cell_type": "markdown",
   "metadata": {},
   "source": [
    "#### For more Info\n",
    "An indexed [Tutorial from the Python documentation](https://docs.python.org/3/tutorial/datastructures.html) &ndash; for additional information on working with lists, tuples, sets, and dictionaries."
   ]
  }
 ],
 "metadata": {
  "colab": {
   "authorship_tag": "ABX9TyPz40qvFU28vWRHbmBuKciJ",
   "collapsed_sections": [
    "AHjCaXah3a64"
   ],
   "provenance": []
  },
  "kernelspec": {
   "display_name": "Python 3",
   "name": "python3"
  },
  "language_info": {
   "codemirror_mode": {
    "name": "ipython",
    "version": 3
   },
   "file_extension": ".py",
   "mimetype": "text/x-python",
   "name": "python",
   "nbconvert_exporter": "python",
   "pygments_lexer": "ipython3",
   "version": "3.13.1"
  }
 },
 "nbformat": 4,
 "nbformat_minor": 0
}
