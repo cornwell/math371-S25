{
 "cells": [
  {
   "cell_type": "markdown",
   "metadata": {},
   "source": [
    "## Classwork 3"
   ]
  },
  {
   "cell_type": "markdown",
   "metadata": {},
   "source": [
    "In this group work, we use the procedure from Lecture 6 slides to decide about the statistical significance of an independent variable. We use a bootstrapping procedure to estimate the reciprocal of a coefficient's $t$-statistic."
   ]
  },
  {
   "cell_type": "markdown",
   "metadata": {},
   "source": [
    "1. First, read the advertising data set into Python from the file 'Advertising.csv' on the class Github site. For ease of use, separate the columns into their own Numpy arrays. For example, when reading the CSV, if you assigned the DataFrame to be `advertising`, you can get the 'TV' column as an array by: \n",
    "\n",
    "    `tv = advertising['TV'].to_numpy()`"
   ]
  },
  {
   "cell_type": "code",
   "execution_count": null,
   "metadata": {},
   "outputs": [],
   "source": []
  },
  {
   "cell_type": "markdown",
   "metadata": {},
   "source": [
    "Below, we define a function that will perform multiple linear regression for us. Our assumption is that independent variable values are each in an array, that these arrays are themselves in a list or array.  Also, say that we have a separate array for our response variable ($y$)."
   ]
  },
  {
   "cell_type": "code",
   "execution_count": null,
   "metadata": {},
   "outputs": [],
   "source": [
    "# xarrays is a list or array, of arrays that each contain values of an indpt variable\n",
    "# y is an array of the response variable values\n",
    "def lin_reg(xarrays, y):\n",
    "    n = len(xarrays[0])\n",
    "    A = np.array(list(xarrays) + [np.ones(n)]).T\n",
    "    AtA = A.T@A\n",
    "    Aty = A.T@y\n",
    "    return np.linalg.inv(AtA)@Aty"
   ]
  },
  {
   "cell_type": "markdown",
   "metadata": {},
   "source": [
    "2. Use the `lin_reg` function above to compute the multiple linear regression coefficients for the advertising data, using the TV, Radio, and Newspaper data as independent variables and using Sales as the response variable. Assign the array of coefficients to `p`."
   ]
  },
  {
   "cell_type": "markdown",
   "metadata": {},
   "source": [
    "There are 200 points (observations) in the Advertising data set. To subsample from an array with $n$ points, you need to select a random subset of `[0,1,...,n-1]` (we'll use a Numpy version of `range(n)` which we get with: `np.arange(n)`).\n",
    "\n",
    "To select a random subset of `[0,1,...,n-1]` of size $m$, you can do either of the following:\n",
    "> (a) Use the command `np.random.choice(n, size=m, replace=False)`\n",
    "\n",
    "> (b) Set `my_indices = np.arange(n)` and then randomly _shuffle_ the order of `my_indices` by calling `np.random.shuffle(my_indices)`. (It changes it in place.) Then, slice the first $m$ entries in the shuffled list: `my_indices[:m]`.\n",
    "*  Here is the documentation for the [Numpy shuffle command](https://numpy.org/doc/stable/reference/random/generated/numpy.random.shuffle.html). Alternatively, you can use the Generator object `np.random.default_rng()`: [documentation here](https://numpy.org/doc/stable/reference/random/generated/numpy.random.Generator.shuffle.html#numpy.random.Generator.shuffle)."
   ]
  },
  {
   "cell_type": "code",
   "execution_count": null,
   "metadata": {},
   "outputs": [],
   "source": [
    "# Try out shuffling an array of indices and then taking the first m = 100 of them."
   ]
  },
  {
   "cell_type": "markdown",
   "metadata": {},
   "source": [
    "3. Either by using the shuffling procedure above, or using `np.random.choice`, get 120 random indices when `n=200`. Now, use this array to get a size 120 random subsample from the Advertising data and compute the linear regression coefficients for that subsample.\n",
    "\n",
    "&nbsp;&nbsp;&nbsp;&nbsp;&nbsp;&nbsp;&nbsp;&nbsp; Once you have done that, put the procedure into a loop that will iterate the process 100 times. On each iteration, save the regression coefficients found in a variable `subsample_ps`. (At the end, this should contain 100 arrays, each having 4 coefficients.)"
   ]
  },
  {
   "cell_type": "code",
   "execution_count": null,
   "metadata": {},
   "outputs": [],
   "source": []
  },
  {
   "cell_type": "markdown",
   "metadata": {},
   "source": [
    "4. In each of the arrays in `subsample_ps`, there is one coefficient for TV, one for Radio, one for Newspaper, and one constant coefficient. Compute the [standard deviation](https://numpy.org/doc/stable/reference/generated/numpy.std.html) of the subsample regression coefficients for the TV variable and then divide it by the TV coefficient from the whole data set, `p[0]` (from number 2 above). Then do the analogous thing for Radio and for Newspaper. \n",
    "\n",
    "* Which of the three variables are significant?"
   ]
  },
  {
   "cell_type": "code",
   "execution_count": null,
   "metadata": {},
   "outputs": [],
   "source": []
  }
 ],
 "metadata": {
  "kernelspec": {
   "display_name": "Python 3",
   "language": "python",
   "name": "python3"
  },
  "language_info": {
   "name": "python",
   "version": "3.13.1"
  }
 },
 "nbformat": 4,
 "nbformat_minor": 2
}
