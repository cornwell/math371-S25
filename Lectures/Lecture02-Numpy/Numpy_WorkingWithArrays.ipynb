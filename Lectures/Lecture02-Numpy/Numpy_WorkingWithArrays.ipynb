{
 "cells": [
  {
   "cell_type": "markdown",
   "metadata": {},
   "source": [
    "## Lecture 2 - Introduction to Numpy"
   ]
  },
  {
   "cell_type": "markdown",
   "metadata": {
    "id": "VanRy5ChGuzh"
   },
   "source": [
    "### Basics of using [NumPy](https://numpy.org/doc/stable/).\n",
    "\n",
    "Will use the packages `numpy` and `time` in this notebook. \n",
    "> If not using Google Colab (and haven't used them before) you might have to install the packages the very first time. To do so, use one of the following terminal commands from your home directory.\n",
    "\n",
    "`py -m pip install <package name>` (Windows)\n",
    "\n",
    "`sudo pip install <package name>` (Linux or Unix-based)"
   ]
  },
  {
   "cell_type": "code",
   "execution_count": 9,
   "metadata": {
    "executionInfo": {
     "elapsed": 137,
     "status": "ok",
     "timestamp": 1716555003108,
     "user": {
      "displayName": "Christopher Cornwell",
      "userId": "10439702716895294443"
     },
     "user_tz": 240
    },
    "id": "oii38hnKCa_z"
   },
   "outputs": [],
   "source": [
    "import numpy as np\n",
    "import time"
   ]
  },
  {
   "cell_type": "markdown",
   "metadata": {},
   "source": [
    "---"
   ]
  },
  {
   "cell_type": "markdown",
   "metadata": {},
   "source": [
    "### NumPy arrays"
   ]
  },
  {
   "cell_type": "markdown",
   "metadata": {},
   "source": [
    "The main object that you work with in Numpy is an `ndarray`, \n",
    "\n",
    "constructed by typing `np.array(the_list)`. \n",
    "\n",
    "If the items in the list are numerical &ndash; `int` or `float` &ndash; then the `ndarray` object is much like a vector &ndash; also called a _tensor of order 1_ (confusingly, some call this a ``rank 1 tensor'', though this is not rank in the usual sense). \n",
    "\n",
    "For any integer $d\\ge 1$, you can have a Numpy array that is a tensor of order $d$. You may also read it described as a \"$d$-dimensional array.\"\n",
    "\n",
    "One of the attributes of a Numpy array is its _shape_. When it is order 1, the shape has the form `(n,)`, where `n` is the number of items (coordinates) in that vector."
   ]
  },
  {
   "cell_type": "code",
   "execution_count": 10,
   "metadata": {},
   "outputs": [
    {
     "data": {
      "text/plain": [
       "(3,)"
      ]
     },
     "execution_count": 10,
     "metadata": {},
     "output_type": "execute_result"
    }
   ],
   "source": [
    "v = np.array([-1,1,1])\n",
    "\n",
    "# Here is the shape of v\n",
    "v.shape"
   ]
  },
  {
   "cell_type": "code",
   "execution_count": 6,
   "metadata": {},
   "outputs": [
    {
     "data": {
      "text/plain": [
       "numpy.ndarray"
      ]
     },
     "execution_count": 6,
     "metadata": {},
     "output_type": "execute_result"
    }
   ],
   "source": [
    "type(v)"
   ]
  },
  {
   "cell_type": "markdown",
   "metadata": {
    "id": "AJNpIKzMHXPw"
   },
   "source": [
    "An array made from a list of lists, each \"inside\" list having numeric type items, is a tensor of order 2, i.e., a matrix. (The inside lists must all have the same length.)\n",
    "\n",
    "If `A` is such an object, then to refer to the entry in row `i` and column `j`, use `A[i,j]`.\n",
    "\n",
    "Below, we make two matrices, `A` and `B`, and another vector `u`.  See how we can do linear combinations as in linear algebra."
   ]
  },
  {
   "cell_type": "code",
   "execution_count": 11,
   "metadata": {
    "executionInfo": {
     "elapsed": 116,
     "status": "ok",
     "timestamp": 1716555010901,
     "user": {
      "displayName": "Christopher Cornwell",
      "userId": "10439702716895294443"
     },
     "user_tz": 240
    },
    "id": "2gCHlGC2C1cd"
   },
   "outputs": [],
   "source": [
    "u = np.array([1,1,0])\n",
    "A = np.array([[1,2,3],[4,5,6]])\n",
    "B = np.array([[1,0],[1,-1],[1,1]])"
   ]
  },
  {
   "cell_type": "code",
   "execution_count": 4,
   "metadata": {
    "colab": {
     "base_uri": "https://localhost:8080/"
    },
    "executionInfo": {
     "elapsed": 155,
     "status": "ok",
     "timestamp": 1715948710063,
     "user": {
      "displayName": "Christopher Cornwell",
      "userId": "10439702716895294443"
     },
     "user_tz": 240
    },
    "id": "-KNg85irIATX",
    "outputId": "f0533303-10e2-4c59-a5d7-8452276bd722"
   },
   "outputs": [
    {
     "data": {
      "text/plain": [
       "array([1, 3, 1])"
      ]
     },
     "execution_count": 4,
     "metadata": {},
     "output_type": "execute_result"
    }
   ],
   "source": [
    "v + 2*u"
   ]
  },
  {
   "cell_type": "code",
   "execution_count": 5,
   "metadata": {
    "colab": {
     "base_uri": "https://localhost:8080/"
    },
    "executionInfo": {
     "elapsed": 148,
     "status": "ok",
     "timestamp": 1715948721062,
     "user": {
      "displayName": "Christopher Cornwell",
      "userId": "10439702716895294443"
     },
     "user_tz": 240
    },
    "id": "8SVO9uxLM-ZB",
    "outputId": "4d1dd682-bc26-4fde-d5b7-f6f025244fc6"
   },
   "outputs": [
    {
     "data": {
      "text/plain": [
       "array([[ 2,  4,  6],\n",
       "       [ 8, 10, 12]])"
      ]
     },
     "execution_count": 5,
     "metadata": {},
     "output_type": "execute_result"
    }
   ],
   "source": [
    "2*A"
   ]
  },
  {
   "cell_type": "code",
   "execution_count": 6,
   "metadata": {},
   "outputs": [
    {
     "data": {
      "text/plain": [
       "(2, 3)"
      ]
     },
     "execution_count": 6,
     "metadata": {},
     "output_type": "execute_result"
    }
   ],
   "source": [
    "# the shape of 2d array is (m,n) when it is an m x n matrix\n",
    "A.shape"
   ]
  },
  {
   "cell_type": "markdown",
   "metadata": {
    "id": "pZuPFsrzND9V"
   },
   "source": [
    "Multiplying matrices and multiplying a matrix times a vector are done easily. To multiply matrices, use the `@` symbol (in recent versions of Python, this replaces `np.matmul()`). This will work for a matrix times a vector too. However, for matrices and vectors (not higher rank tensors) you could also use `np.dot()`. This performs the dot product on each row (if a matrix is given first)."
   ]
  },
  {
   "cell_type": "code",
   "execution_count": 7,
   "metadata": {
    "colab": {
     "base_uri": "https://localhost:8080/"
    },
    "executionInfo": {
     "elapsed": 124,
     "status": "ok",
     "timestamp": 1716555037112,
     "user": {
      "displayName": "Christopher Cornwell",
      "userId": "10439702716895294443"
     },
     "user_tz": 240
    },
    "id": "tvZ2U_puiJT_",
    "outputId": "698e075b-72ca-40f0-dcc0-9588d37a2a55"
   },
   "outputs": [
    {
     "data": {
      "text/plain": [
       "array([[ 6,  1],\n",
       "       [15,  1]])"
      ]
     },
     "execution_count": 7,
     "metadata": {},
     "output_type": "execute_result"
    }
   ],
   "source": [
    "# products with arrays\n",
    "A@B"
   ]
  },
  {
   "cell_type": "code",
   "execution_count": 12,
   "metadata": {
    "colab": {
     "base_uri": "https://localhost:8080/",
     "height": 34
    },
    "executionInfo": {
     "elapsed": 547,
     "status": "ok",
     "timestamp": 1580852078187,
     "user": {
      "displayName": "Christopher Cornwell",
      "photoUrl": "https://lh3.googleusercontent.com/a-/AAuE7mD1vIJYtRmHu2fBlSZVG0Gd0LlDFOeUFrZFxs4_ww=s64",
      "userId": "10439702716895294443"
     },
     "user_tz": 300
    },
    "id": "WMLnbPf2Hz7W",
    "outputId": "5ceba066-121d-4a5f-dc47-bbe5ae5f7f17"
   },
   "outputs": [
    {
     "data": {
      "text/plain": [
       "array([4, 7])"
      ]
     },
     "execution_count": 12,
     "metadata": {},
     "output_type": "execute_result"
    }
   ],
   "source": [
    "A@v"
   ]
  },
  {
   "cell_type": "markdown",
   "metadata": {},
   "source": [
    "#### Indexing and slicing"
   ]
  },
  {
   "cell_type": "markdown",
   "metadata": {},
   "source": [
    "Indexing a 1d array is the same as for a list. In a matrix (2d array), separate the row and column by a comma. So, `A[0,1]` is the entry from the top row, index 1."
   ]
  },
  {
   "cell_type": "code",
   "execution_count": 17,
   "metadata": {},
   "outputs": [
    {
     "name": "stdout",
     "output_type": "stream",
     "text": [
      "-1\n",
      "2\n"
     ]
    }
   ],
   "source": [
    "print(v[0])\n",
    "print(A[0,1])"
   ]
  },
  {
   "cell_type": "markdown",
   "metadata": {},
   "source": [
    "Slicing of a 1d array is also the same as for lists. For a 2d array, you can use slicing in each of the index positions (for rows and for columns). \n",
    "\n",
    "For example, `A[:,0]` gives all entries in the first column &ndash; the colon goes through all rows, and you just take index 0 item from each row."
   ]
  },
  {
   "cell_type": "code",
   "execution_count": 19,
   "metadata": {},
   "outputs": [
    {
     "name": "stdout",
     "output_type": "stream",
     "text": [
      "[[1 2 3]\n",
      " [4 5 6]]\n"
     ]
    },
    {
     "data": {
      "text/plain": [
       "array([1, 4])"
      ]
     },
     "execution_count": 19,
     "metadata": {},
     "output_type": "execute_result"
    }
   ],
   "source": [
    "print(A)\n",
    "A[:,0]"
   ]
  },
  {
   "cell_type": "markdown",
   "metadata": {},
   "source": [
    "Say we have a larger matrix, but want a submatrix."
   ]
  },
  {
   "cell_type": "code",
   "execution_count": 29,
   "metadata": {},
   "outputs": [
    {
     "data": {
      "text/plain": [
       "array([[3, 4],\n",
       "       [7, 8]])"
      ]
     },
     "execution_count": 29,
     "metadata": {},
     "output_type": "execute_result"
    }
   ],
   "source": [
    "M = np.array([[1,2,3,4],[5,6,7,8],[9,10,11,12],[13,14,15,16]])\n",
    "\n",
    "# To get the top-right 2x2 submatrix\n",
    "M[:2, -2:] # <- first two rows, last two columns"
   ]
  },
  {
   "cell_type": "code",
   "execution_count": 30,
   "metadata": {},
   "outputs": [
    {
     "data": {
      "text/plain": [
       "array([[ 1,  3],\n",
       "       [ 5,  7],\n",
       "       [ 9, 11],\n",
       "       [13, 15]])"
      ]
     },
     "execution_count": 30,
     "metadata": {},
     "output_type": "execute_result"
    }
   ],
   "source": [
    "# With arrays, you can even get non-consecutive slices\n",
    "M[:,[0,2]] # <- get entries with column indices 0 and 2"
   ]
  },
  {
   "cell_type": "markdown",
   "metadata": {},
   "source": [
    "The transpose of a matrix is obtained simply by typing `.T` after the matrix."
   ]
  },
  {
   "cell_type": "code",
   "execution_count": 22,
   "metadata": {},
   "outputs": [
    {
     "data": {
      "text/plain": [
       "array([[1, 4],\n",
       "       [2, 5],\n",
       "       [3, 6]])"
      ]
     },
     "execution_count": 22,
     "metadata": {},
     "output_type": "execute_result"
    }
   ],
   "source": [
    "A.T"
   ]
  },
  {
   "cell_type": "markdown",
   "metadata": {},
   "source": [
    "---"
   ]
  },
  {
   "cell_type": "markdown",
   "metadata": {},
   "source": [
    "### Linear algebra"
   ]
  },
  {
   "cell_type": "markdown",
   "metadata": {},
   "source": [
    "#### All zero matrix and the identity matrix\n",
    "Since they are needed so often, there is a function to construct a tensor filled with zeros of your chosen size and also a function to construct an $n\\times n$ identity matrix."
   ]
  },
  {
   "cell_type": "code",
   "execution_count": 23,
   "metadata": {},
   "outputs": [
    {
     "name": "stdout",
     "output_type": "stream",
     "text": [
      "[0. 0. 0. 0. 0.] ,\n",
      "[[0. 0. 0. 0.]\n",
      " [0. 0. 0. 0.]\n",
      " [0. 0. 0. 0.]\n",
      " [0. 0. 0. 0.]]\n"
     ]
    }
   ],
   "source": [
    "zerovector = np.zeros(5)\n",
    "zeromatrix = np.zeros((4,4))\n",
    "print(zerovector, ',')\n",
    "print(zeromatrix)"
   ]
  },
  {
   "cell_type": "code",
   "execution_count": 24,
   "metadata": {},
   "outputs": [
    {
     "data": {
      "text/plain": [
       "array([[3, 0, 0],\n",
       "       [0, 2, 0],\n",
       "       [0, 0, 1]])"
      ]
     },
     "execution_count": 24,
     "metadata": {},
     "output_type": "execute_result"
    }
   ],
   "source": [
    "# quickly make a diagonal matrix\n",
    "np.diag([3,2,1])"
   ]
  },
  {
   "cell_type": "code",
   "execution_count": 26,
   "metadata": {},
   "outputs": [
    {
     "data": {
      "text/plain": [
       "array([[1., 0., 0.],\n",
       "       [0., 1., 0.],\n",
       "       [0., 0., 1.]])"
      ]
     },
     "execution_count": 26,
     "metadata": {},
     "output_type": "execute_result"
    }
   ],
   "source": [
    "np.identity(3)"
   ]
  },
  {
   "cell_type": "markdown",
   "metadata": {},
   "source": [
    "Instead of getting a submatrix, if you want to \"zero out\": (1) every entry above the diagonal of `A`, (2) every entry below, or (3) both above and below:\n",
    "> (1) `np.tril(A)`; &nbsp;&nbsp;&nbsp;&nbsp; (2) `np.triu(A)`; &nbsp;&nbsp;&nbsp;&nbsp; or (3) `np.diag(A)`</div>"
   ]
  },
  {
   "cell_type": "code",
   "execution_count": 31,
   "metadata": {},
   "outputs": [
    {
     "data": {
      "text/plain": [
       "array([[ 1,  0,  0,  0],\n",
       "       [ 5,  6,  0,  0],\n",
       "       [ 9, 10, 11,  0],\n",
       "       [13, 14, 15, 16]])"
      ]
     },
     "execution_count": 31,
     "metadata": {},
     "output_type": "execute_result"
    }
   ],
   "source": [
    "np.tril(M)"
   ]
  },
  {
   "cell_type": "markdown",
   "metadata": {
    "id": "Ex540i5fLGcI"
   },
   "source": [
    "> Numpy has a [Linear Algebra](https://numpy.org/doc/stable/reference/routines.linalg.html#module-numpy.linalg) submodule with a lot of functionality for doing linear algebra. For example, the determinant of a matrix `np.linalg.det()`, a matrix inverse, `np.linalg.inv()`, and computing eigenvalues and eigenvectors, `np.linalg.eig()`. "
   ]
  },
  {
   "cell_type": "code",
   "execution_count": 34,
   "metadata": {
    "colab": {
     "base_uri": "https://localhost:8080/"
    },
    "executionInfo": {
     "elapsed": 172,
     "status": "ok",
     "timestamp": 1715949809253,
     "user": {
      "displayName": "Christopher Cornwell",
      "userId": "10439702716895294443"
     },
     "user_tz": 240
    },
    "id": "1cXAM862k454",
    "outputId": "049fdb3b-06ab-4f7b-8c53-1239feaa9848"
   },
   "outputs": [
    {
     "data": {
      "text/plain": [
       "(np.float64(0.0), np.float64(-2.9999999999999996))"
      ]
     },
     "execution_count": 34,
     "metadata": {},
     "output_type": "execute_result"
    }
   ],
   "source": [
    "np.linalg.det(M), np.linalg.det(A[:,:2])"
   ]
  },
  {
   "cell_type": "markdown",
   "metadata": {},
   "source": [
    "#### Dealing with Errors\n",
    "Say we want to solve a linear system $A\\textbf{x} = \\textbf{b}$. If $A$ is a square, invertible matrix, Numpy handles it easily with the `solve` function in the `linalg` submodule."
   ]
  },
  {
   "cell_type": "code",
   "execution_count": 37,
   "metadata": {},
   "outputs": [
    {
     "data": {
      "text/plain": [
       "array([[14, 32],\n",
       "       [32, 77]])"
      ]
     },
     "execution_count": 37,
     "metadata": {},
     "output_type": "execute_result"
    }
   ],
   "source": [
    "M = A@A.T\n",
    "M"
   ]
  },
  {
   "cell_type": "code",
   "execution_count": 38,
   "metadata": {},
   "outputs": [
    {
     "data": {
      "text/plain": [
       "array([-3.44444444,  1.44444444])"
      ]
     },
     "execution_count": 38,
     "metadata": {},
     "output_type": "execute_result"
    }
   ],
   "source": [
    "np.linalg.solve(M, np.array([-2,1]))"
   ]
  },
  {
   "cell_type": "markdown",
   "metadata": {},
   "source": [
    "What about solving a system when the coefficient matrix is not square?"
   ]
  },
  {
   "cell_type": "code",
   "execution_count": 39,
   "metadata": {},
   "outputs": [
    {
     "ename": "LinAlgError",
     "evalue": "Last 2 dimensions of the array must be square",
     "output_type": "error",
     "traceback": [
      "\u001b[1;31m---------------------------------------------------------------------------\u001b[0m",
      "\u001b[1;31mLinAlgError\u001b[0m                               Traceback (most recent call last)",
      "Cell \u001b[1;32mIn[39], line 4\u001b[0m\n\u001b[0;32m      2\u001b[0m A \u001b[38;5;241m=\u001b[39m np\u001b[38;5;241m.\u001b[39marray([[\u001b[38;5;241m1\u001b[39m,\u001b[38;5;241m2\u001b[39m,\u001b[38;5;241m3\u001b[39m],[\u001b[38;5;241m1\u001b[39m,\u001b[38;5;241m4\u001b[39m,\u001b[38;5;241m-\u001b[39m\u001b[38;5;241m1\u001b[39m]])\n\u001b[0;32m      3\u001b[0m b \u001b[38;5;241m=\u001b[39m np\u001b[38;5;241m.\u001b[39marray([\u001b[38;5;241m1\u001b[39m,\u001b[38;5;241m-\u001b[39m\u001b[38;5;241m5\u001b[39m])\n\u001b[1;32m----> 4\u001b[0m \u001b[43mnp\u001b[49m\u001b[38;5;241;43m.\u001b[39;49m\u001b[43mlinalg\u001b[49m\u001b[38;5;241;43m.\u001b[39;49m\u001b[43msolve\u001b[49m\u001b[43m(\u001b[49m\u001b[43mA\u001b[49m\u001b[43m,\u001b[49m\u001b[43m \u001b[49m\u001b[43mb\u001b[49m\u001b[43m)\u001b[49m\n",
      "File \u001b[1;32mc:\\Users\\gener\\AppData\\Local\\Programs\\Python\\Python313\\Lib\\site-packages\\numpy\\linalg\\_linalg.py:396\u001b[0m, in \u001b[0;36msolve\u001b[1;34m(a, b)\u001b[0m\n\u001b[0;32m    394\u001b[0m a, _ \u001b[38;5;241m=\u001b[39m _makearray(a)\n\u001b[0;32m    395\u001b[0m _assert_stacked_2d(a)\n\u001b[1;32m--> 396\u001b[0m \u001b[43m_assert_stacked_square\u001b[49m\u001b[43m(\u001b[49m\u001b[43ma\u001b[49m\u001b[43m)\u001b[49m\n\u001b[0;32m    397\u001b[0m b, wrap \u001b[38;5;241m=\u001b[39m _makearray(b)\n\u001b[0;32m    398\u001b[0m t, result_t \u001b[38;5;241m=\u001b[39m _commonType(a, b)\n",
      "File \u001b[1;32mc:\\Users\\gener\\AppData\\Local\\Programs\\Python\\Python313\\Lib\\site-packages\\numpy\\linalg\\_linalg.py:202\u001b[0m, in \u001b[0;36m_assert_stacked_square\u001b[1;34m(*arrays)\u001b[0m\n\u001b[0;32m    200\u001b[0m m, n \u001b[38;5;241m=\u001b[39m a\u001b[38;5;241m.\u001b[39mshape[\u001b[38;5;241m-\u001b[39m\u001b[38;5;241m2\u001b[39m:]\n\u001b[0;32m    201\u001b[0m \u001b[38;5;28;01mif\u001b[39;00m m \u001b[38;5;241m!=\u001b[39m n:\n\u001b[1;32m--> 202\u001b[0m     \u001b[38;5;28;01mraise\u001b[39;00m LinAlgError(\u001b[38;5;124m'\u001b[39m\u001b[38;5;124mLast 2 dimensions of the array must be square\u001b[39m\u001b[38;5;124m'\u001b[39m)\n",
      "\u001b[1;31mLinAlgError\u001b[0m: Last 2 dimensions of the array must be square"
     ]
    }
   ],
   "source": [
    "# try this, read the error message\n",
    "A = np.array([[1,2,3],[1,4,-1]])\n",
    "b = np.array([1,-5])\n",
    "np.linalg.solve(A, b)"
   ]
  },
  {
   "cell_type": "markdown",
   "metadata": {},
   "source": [
    "---"
   ]
  },
  {
   "cell_type": "markdown",
   "metadata": {},
   "source": [
    "### Broadcasting and universal functions"
   ]
  },
  {
   "cell_type": "markdown",
   "metadata": {},
   "source": [
    "Say that you have a 1d array and you want the one whose entries are square roots of entries of your current one. How do you do it?\n",
    "> BTW, `np.sqrt()` takes the square root of a number."
   ]
  },
  {
   "cell_type": "code",
   "execution_count": 42,
   "metadata": {},
   "outputs": [],
   "source": [
    "# example array to use\n",
    "f = np.array([3*n+1 for n in range(1,100)])"
   ]
  },
  {
   "cell_type": "code",
   "execution_count": 44,
   "metadata": {},
   "outputs": [],
   "source": [
    "# Could use a for loop\n",
    "sq_f = []\n",
    "for x in f:\n",
    "  sq_f.append(np.sqrt(x))\n",
    "sq_f = np.array(sq_f)"
   ]
  },
  {
   "cell_type": "markdown",
   "metadata": {},
   "source": [
    "But NumPy has a better way: **universal functions** and **Broadcasting**.\n",
    "\n",
    "The function `np.sqrt()` can accept an (nd)array and will take the square roots of all entries in the array."
   ]
  },
  {
   "cell_type": "code",
   "execution_count": 47,
   "metadata": {},
   "outputs": [],
   "source": [
    "# this one line will do it\n",
    "sq_f = np.sqrt(f)"
   ]
  },
  {
   "cell_type": "markdown",
   "metadata": {},
   "source": [
    "Many functions in NumPy work this way &ndash; called a `ufunc` (universal function).\n",
    "\n",
    "Examples of ufuncs: `np.abs()`, `np.maximum()`, `np.minimum()`, `np.exp()`, `np.log()`."
   ]
  },
  {
   "cell_type": "code",
   "execution_count": 55,
   "metadata": {},
   "outputs": [
    {
     "data": {
      "text/plain": [
       "array([ 92,  86,  80,  74,  68,  62,  56,  50,  44,  38,  34,  37,  40,\n",
       "        43,  46,  49,  52,  55,  58,  61,  64,  67,  70,  73,  76,  79,\n",
       "        82,  85,  88,  91,  94,  97, 100, 103, 106, 109, 112, 115, 118,\n",
       "       121, 124, 127, 130, 133, 136, 139, 142, 145, 148, 151, 154, 157,\n",
       "       160, 163, 166, 169, 172, 175, 178, 181, 184, 187, 190, 193, 196,\n",
       "       199, 202, 205, 208, 211, 214, 217, 220, 223, 226, 229, 232, 235,\n",
       "       238, 241, 244, 247, 250, 253, 256, 259, 262, 265, 268, 271, 274,\n",
       "       277, 280, 283, 286, 289, 292, 295, 298])"
      ]
     },
     "execution_count": 55,
     "metadata": {},
     "output_type": "execute_result"
    }
   ],
   "source": [
    "np.maximum(f,100 - 2*f)"
   ]
  },
  {
   "cell_type": "markdown",
   "metadata": {},
   "source": [
    "In a minute, we will see that universal functions not only make less lines of code, but dramatically improve runtimes.\n",
    "\n",
    "Some other functions to use with arrays:\n",
    "> `np.sum()`, `np.max()`, `np.min()`\n",
    "These are not ufuncs, but they perform quickly on NumPy arrays (for related reasons).  \n",
    "&#9888; However, they are not quick on lists! Use the built-in `sum()`, `max()`, and `min()` on a list."
   ]
  },
  {
   "cell_type": "code",
   "execution_count": 59,
   "metadata": {},
   "outputs": [
    {
     "data": {
      "text/plain": [
       "array([[ 1,  2,  3],\n",
       "       [ 1,  4, -1]])"
      ]
     },
     "execution_count": 59,
     "metadata": {},
     "output_type": "execute_result"
    }
   ],
   "source": [
    "A"
   ]
  },
  {
   "cell_type": "code",
   "execution_count": 64,
   "metadata": {},
   "outputs": [
    {
     "data": {
      "text/plain": [
       "(np.int64(10), array([2, 6, 2]))"
      ]
     },
     "execution_count": 64,
     "metadata": {},
     "output_type": "execute_result"
    }
   ],
   "source": [
    "# over all entries, sum entries in same position of each row\n",
    "np.sum(A), np.sum(A, axis=0)"
   ]
  },
  {
   "cell_type": "markdown",
   "metadata": {},
   "source": [
    "These efficient ufuncs use something called _broadcasting_. NumPy has made it so that basic operators work with NumPy arrays in a similar way &ndash; efficiently carrying out element-wise operations."
   ]
  },
  {
   "cell_type": "code",
   "execution_count": 67,
   "metadata": {},
   "outputs": [
    {
     "data": {
      "text/plain": [
       "array([[4, 5, 6],\n",
       "       [4, 7, 2]])"
      ]
     },
     "execution_count": 67,
     "metadata": {},
     "output_type": "execute_result"
    }
   ],
   "source": [
    "# add 3 to every entry \n",
    "A + 3"
   ]
  },
  {
   "cell_type": "code",
   "execution_count": 68,
   "metadata": {},
   "outputs": [
    {
     "data": {
      "text/plain": [
       "array([[-1, -2, -3],\n",
       "       [-1, -4,  1]])"
      ]
     },
     "execution_count": 68,
     "metadata": {},
     "output_type": "execute_result"
    }
   ],
   "source": [
    "# multiply every entry by -1\n",
    "-1*A"
   ]
  },
  {
   "cell_type": "code",
   "execution_count": 69,
   "metadata": {},
   "outputs": [
    {
     "data": {
      "text/plain": [
       "array([[ 1,  4,  9],\n",
       "       [ 1, 16,  1]])"
      ]
     },
     "execution_count": 69,
     "metadata": {},
     "output_type": "execute_result"
    }
   ],
   "source": [
    "# square every entry\n",
    "A**2"
   ]
  },
  {
   "cell_type": "markdown",
   "metadata": {},
   "source": [
    "You can also easily multiply in entry-wise fashion. (Make sure the arrays have same shape.)"
   ]
  },
  {
   "cell_type": "code",
   "execution_count": 70,
   "metadata": {},
   "outputs": [
    {
     "data": {
      "text/plain": [
       "array([[-1,  4,  0],\n",
       "       [ 1,  4,  1]])"
      ]
     },
     "execution_count": 70,
     "metadata": {},
     "output_type": "execute_result"
    }
   ],
   "source": [
    "# multiply two arrays\n",
    "B = np.array([[-1,2,0],[1,1,-1]])\n",
    "A*B"
   ]
  },
  {
   "cell_type": "code",
   "execution_count": 71,
   "metadata": {},
   "outputs": [
    {
     "data": {
      "text/plain": [
       "((2, 3), (2, 3))"
      ]
     },
     "execution_count": 71,
     "metadata": {},
     "output_type": "execute_result"
    }
   ],
   "source": [
    "A.shape, B.shape"
   ]
  },
  {
   "cell_type": "markdown",
   "metadata": {},
   "source": [
    "Write one line that computes the norm (length) of a vector `v`. There is a `linalg` function for this, but use ufuncs and broadcasting &ndash; that's what it does."
   ]
  },
  {
   "cell_type": "code",
   "execution_count": null,
   "metadata": {},
   "outputs": [],
   "source": []
  },
  {
   "cell_type": "markdown",
   "metadata": {},
   "source": [
    "Efficiency of broadcasting\n",
    "\n",
    "We'll check difference in writing our own for loop versus using a ufunc."
   ]
  },
  {
   "cell_type": "code",
   "execution_count": 76,
   "metadata": {},
   "outputs": [
    {
     "name": "stdout",
     "output_type": "stream",
     "text": [
      "Ran in 3.024575710296631 seconds.\n"
     ]
    }
   ],
   "source": [
    "id_matrix = np.identity(1000)\n",
    "exp_matrix = np.zeros((1000,1000))\n",
    "# one entry at a time in our own for loop\n",
    "start = time.time()\n",
    "for i in range(1000):\n",
    "  for j in range(1000):\n",
    "    exp_matrix[i,j] = np.exp(id_matrix[i,j])\n",
    "end = time.time()\n",
    "print(f\"Ran in {end - start} seconds.\")"
   ]
  },
  {
   "cell_type": "code",
   "execution_count": 77,
   "metadata": {},
   "outputs": [
    {
     "name": "stdout",
     "output_type": "stream",
     "text": [
      "Ran in 0.011218786239624023 seconds.\n"
     ]
    }
   ],
   "source": [
    "id_matrix = np.identity(1000)\n",
    "exp_matrix = np.zeros((1000,1000))\n",
    "# now we use the ufunc np.exp\n",
    "start = time.time()\n",
    "exp_matrix = np.exp(id_matrix)\n",
    "end = time.time()\n",
    "print(f\"Ran in {end - start} seconds.\")"
   ]
  }
 ],
 "metadata": {
  "colab": {
   "authorship_tag": "ABX9TyPz40qvFU28vWRHbmBuKciJ",
   "collapsed_sections": [
    "AHjCaXah3a64"
   ],
   "provenance": []
  },
  "kernelspec": {
   "display_name": "Python 3",
   "name": "python3"
  },
  "language_info": {
   "codemirror_mode": {
    "name": "ipython",
    "version": 3
   },
   "file_extension": ".py",
   "mimetype": "text/x-python",
   "name": "python",
   "nbconvert_exporter": "python",
   "pygments_lexer": "ipython3",
   "version": "3.13.1"
  }
 },
 "nbformat": 4,
 "nbformat_minor": 0
}
