{
 "cells": [
  {
   "cell_type": "markdown",
   "metadata": {},
   "source": [
    "## Lecture 2 - Introduction to Numpy"
   ]
  },
  {
   "cell_type": "markdown",
   "metadata": {
    "id": "VanRy5ChGuzh"
   },
   "source": [
    "### Basics of using [NumPy](https://numpy.org/doc/stable/).\n",
    "\n",
    "Will use the packages `numpy` and `time` in this notebook. \n",
    "> If not using Google Colab (and haven't used them before) you might have to install the packages the very first time. To do so, use one of the following terminal commands from your home directory.\n",
    "\n",
    "`py -m pip install <package name>` (Windows)\n",
    "\n",
    "`sudo pip install <package name>` (Linux or Unix-based)"
   ]
  },
  {
   "cell_type": "code",
   "execution_count": 9,
   "metadata": {
    "executionInfo": {
     "elapsed": 137,
     "status": "ok",
     "timestamp": 1716555003108,
     "user": {
      "displayName": "Christopher Cornwell",
      "userId": "10439702716895294443"
     },
     "user_tz": 240
    },
    "id": "oii38hnKCa_z"
   },
   "outputs": [],
   "source": [
    "import numpy as np\n",
    "import time"
   ]
  },
  {
   "cell_type": "markdown",
   "metadata": {},
   "source": [
    "---"
   ]
  },
  {
   "cell_type": "markdown",
   "metadata": {},
   "source": [
    "### NumPy arrays"
   ]
  },
  {
   "cell_type": "markdown",
   "metadata": {},
   "source": [
    "The main object that you work with in Numpy is an `ndarray`, \n",
    "\n",
    "constructed by typing `np.array(the_list)`. \n",
    "\n",
    "If the items in the list are numerical &ndash; `int` or `float` &ndash; then the `ndarray` object is much like a vector &ndash; also called a _tensor of order 1_ (confusingly, some call this a ``rank 1 tensor'', though this is not rank in the usual sense). \n",
    "\n",
    "For any integer $d\\ge 1$, you can have a Numpy array that is a tensor of order $d$. You may also read it described as a \"$d$-dimensional array.\"\n",
    "\n",
    "One of the attributes of a Numpy array is its _shape_. When it is order 1, the shape has the form `(n,)`, where `n` is the number of items (coordinates) in that vector."
   ]
  },
  {
   "cell_type": "code",
   "execution_count": null,
   "metadata": {},
   "outputs": [],
   "source": [
    "v = np.array([-1,1,1])\n",
    "\n",
    "# Here is the shape of v\n",
    "v.shape"
   ]
  },
  {
   "cell_type": "code",
   "execution_count": null,
   "metadata": {},
   "outputs": [],
   "source": [
    "type(v)"
   ]
  },
  {
   "cell_type": "markdown",
   "metadata": {
    "id": "AJNpIKzMHXPw"
   },
   "source": [
    "An array made from a list of lists, each \"inside\" list having numeric type items, is a tensor of order 2, i.e., a matrix. (The inside lists must all have the same length.)\n",
    "\n",
    "If `A` is such an object, then to refer to the entry in row `i` and column `j`, use `A[i,j]`.\n",
    "\n",
    "Below, we make two matrices, `A` and `B`, and another vector `u`.  See how we can do linear combinations as in linear algebra."
   ]
  },
  {
   "cell_type": "code",
   "execution_count": 11,
   "metadata": {
    "executionInfo": {
     "elapsed": 116,
     "status": "ok",
     "timestamp": 1716555010901,
     "user": {
      "displayName": "Christopher Cornwell",
      "userId": "10439702716895294443"
     },
     "user_tz": 240
    },
    "id": "2gCHlGC2C1cd"
   },
   "outputs": [],
   "source": [
    "u = np.array([1,1,0])\n",
    "A = np.array([[1,2,3],[4,5,6]])\n",
    "B = np.array([[1,0],[1,-1],[1,1]])"
   ]
  },
  {
   "cell_type": "code",
   "execution_count": null,
   "metadata": {
    "colab": {
     "base_uri": "https://localhost:8080/"
    },
    "executionInfo": {
     "elapsed": 155,
     "status": "ok",
     "timestamp": 1715948710063,
     "user": {
      "displayName": "Christopher Cornwell",
      "userId": "10439702716895294443"
     },
     "user_tz": 240
    },
    "id": "-KNg85irIATX",
    "outputId": "f0533303-10e2-4c59-a5d7-8452276bd722"
   },
   "outputs": [],
   "source": [
    "v + 2*u"
   ]
  },
  {
   "cell_type": "code",
   "execution_count": null,
   "metadata": {
    "colab": {
     "base_uri": "https://localhost:8080/"
    },
    "executionInfo": {
     "elapsed": 148,
     "status": "ok",
     "timestamp": 1715948721062,
     "user": {
      "displayName": "Christopher Cornwell",
      "userId": "10439702716895294443"
     },
     "user_tz": 240
    },
    "id": "8SVO9uxLM-ZB",
    "outputId": "4d1dd682-bc26-4fde-d5b7-f6f025244fc6"
   },
   "outputs": [],
   "source": [
    "2*A"
   ]
  },
  {
   "cell_type": "code",
   "execution_count": null,
   "metadata": {},
   "outputs": [],
   "source": [
    "# the shape of 2d array is (m,n) when it is an m x n matrix\n",
    "A.shape"
   ]
  },
  {
   "cell_type": "markdown",
   "metadata": {
    "id": "pZuPFsrzND9V"
   },
   "source": [
    "Multiplying matrices and multiplying a matrix times a vector are done easily. To multiply matrices, use the `@` symbol (in recent versions of Python, this replaces `np.matmul()`). This will work for a matrix times a vector too. However, for matrices and vectors (not higher rank tensors) you could also use `np.dot()`. This performs the dot product on each row (if a matrix is given first)."
   ]
  },
  {
   "cell_type": "code",
   "execution_count": null,
   "metadata": {
    "colab": {
     "base_uri": "https://localhost:8080/"
    },
    "executionInfo": {
     "elapsed": 124,
     "status": "ok",
     "timestamp": 1716555037112,
     "user": {
      "displayName": "Christopher Cornwell",
      "userId": "10439702716895294443"
     },
     "user_tz": 240
    },
    "id": "tvZ2U_puiJT_",
    "outputId": "698e075b-72ca-40f0-dcc0-9588d37a2a55"
   },
   "outputs": [],
   "source": [
    "# products with arrays\n",
    "A@B"
   ]
  },
  {
   "cell_type": "code",
   "execution_count": null,
   "metadata": {
    "colab": {
     "base_uri": "https://localhost:8080/",
     "height": 34
    },
    "executionInfo": {
     "elapsed": 547,
     "status": "ok",
     "timestamp": 1580852078187,
     "user": {
      "displayName": "Christopher Cornwell",
      "photoUrl": "https://lh3.googleusercontent.com/a-/AAuE7mD1vIJYtRmHu2fBlSZVG0Gd0LlDFOeUFrZFxs4_ww=s64",
      "userId": "10439702716895294443"
     },
     "user_tz": 300
    },
    "id": "WMLnbPf2Hz7W",
    "outputId": "5ceba066-121d-4a5f-dc47-bbe5ae5f7f17"
   },
   "outputs": [],
   "source": [
    "A@v"
   ]
  },
  {
   "cell_type": "markdown",
   "metadata": {},
   "source": [
    "#### Indexing and slicing"
   ]
  },
  {
   "cell_type": "markdown",
   "metadata": {},
   "source": [
    "Indexing a 1d array is the same as for a list. In a matrix (2d array), separate the row and column by a comma. So, `A[0,1]` is the entry from the top row, index 1."
   ]
  },
  {
   "cell_type": "code",
   "execution_count": null,
   "metadata": {},
   "outputs": [],
   "source": [
    "print(v[0])\n",
    "print(A[0,1])"
   ]
  },
  {
   "cell_type": "markdown",
   "metadata": {},
   "source": [
    "Slicing of a 1d array is also the same as for lists. For a 2d array, you can use slicing in each of the index positions (for rows and for columns). \n",
    "\n",
    "For example, `A[:,0]` gives all entries in the first column &ndash; the colon goes through all rows, and you just take index 0 item from each row."
   ]
  },
  {
   "cell_type": "code",
   "execution_count": null,
   "metadata": {},
   "outputs": [],
   "source": [
    "print(A)\n",
    "A[:,0]"
   ]
  },
  {
   "cell_type": "markdown",
   "metadata": {},
   "source": [
    "Say we have a larger matrix, but want a submatrix."
   ]
  },
  {
   "cell_type": "code",
   "execution_count": null,
   "metadata": {},
   "outputs": [],
   "source": [
    "M = np.array([[1,2,3,4],[5,6,7,8],[9,10,11,12],[13,14,15,16]])\n",
    "\n",
    "# To get the top-right 2x2 submatrix\n",
    "M[:2, -2:] # <- first two rows, last two columns"
   ]
  },
  {
   "cell_type": "code",
   "execution_count": null,
   "metadata": {},
   "outputs": [],
   "source": [
    "# With arrays, you can even get non-consecutive slices\n",
    "M[:,[0,2]] # <- get entries with column indices 0 and 2"
   ]
  },
  {
   "cell_type": "markdown",
   "metadata": {},
   "source": [
    "The transpose of a matrix is obtained simply by typing `.T` after the matrix."
   ]
  },
  {
   "cell_type": "code",
   "execution_count": null,
   "metadata": {},
   "outputs": [],
   "source": [
    "A.T"
   ]
  },
  {
   "cell_type": "markdown",
   "metadata": {},
   "source": [
    "---"
   ]
  },
  {
   "cell_type": "markdown",
   "metadata": {},
   "source": [
    "### Linear algebra"
   ]
  },
  {
   "cell_type": "markdown",
   "metadata": {},
   "source": [
    "#### All zero matrix and the identity matrix\n",
    "Since they are needed so often, there is a function to construct a tensor filled with zeros of your chosen size and also a function to construct an $n\\times n$ identity matrix."
   ]
  },
  {
   "cell_type": "code",
   "execution_count": null,
   "metadata": {},
   "outputs": [],
   "source": [
    "zerovector = np.zeros(5)\n",
    "zeromatrix = np.zeros((4,4))\n",
    "print(zerovector, ',')\n",
    "print(zeromatrix)"
   ]
  },
  {
   "cell_type": "code",
   "execution_count": null,
   "metadata": {},
   "outputs": [],
   "source": [
    "# quickly make a diagonal matrix\n",
    "np.diag([3,2,1])"
   ]
  },
  {
   "cell_type": "code",
   "execution_count": null,
   "metadata": {},
   "outputs": [],
   "source": [
    "np.identity(3)"
   ]
  },
  {
   "cell_type": "markdown",
   "metadata": {},
   "source": [
    "Instead of getting a submatrix, if you want to \"zero out\": (1) every entry above the diagonal of `A`, (2) every entry below, or (3) both above and below:\n",
    "> (1) `np.tril(A)`; &nbsp;&nbsp;&nbsp;&nbsp; (2) `np.triu(A)`; &nbsp;&nbsp;&nbsp;&nbsp; or (3) `np.diag(A)`</div>"
   ]
  },
  {
   "cell_type": "code",
   "execution_count": null,
   "metadata": {},
   "outputs": [],
   "source": [
    "np.tril(M)"
   ]
  },
  {
   "cell_type": "markdown",
   "metadata": {
    "id": "Ex540i5fLGcI"
   },
   "source": [
    "> Numpy has a [Linear Algebra](https://numpy.org/doc/stable/reference/routines.linalg.html#module-numpy.linalg) submodule with a lot of functionality for doing linear algebra. For example, the determinant of a matrix `np.linalg.det()`, a matrix inverse, `np.linalg.inv()`, and computing eigenvalues and eigenvectors, `np.linalg.eig()`. "
   ]
  },
  {
   "cell_type": "code",
   "execution_count": null,
   "metadata": {
    "colab": {
     "base_uri": "https://localhost:8080/"
    },
    "executionInfo": {
     "elapsed": 172,
     "status": "ok",
     "timestamp": 1715949809253,
     "user": {
      "displayName": "Christopher Cornwell",
      "userId": "10439702716895294443"
     },
     "user_tz": 240
    },
    "id": "1cXAM862k454",
    "outputId": "049fdb3b-06ab-4f7b-8c53-1239feaa9848"
   },
   "outputs": [],
   "source": [
    "np.linalg.det(M), np.linalg.det(A[:,:2])"
   ]
  },
  {
   "cell_type": "markdown",
   "metadata": {},
   "source": [
    "#### Dealing with Errors\n",
    "Say we want to solve a linear system $A\\textbf{x} = \\textbf{b}$. If $A$ is a square, invertible matrix, Numpy handles it easily with the `solve` function in the `linalg` submodule."
   ]
  },
  {
   "cell_type": "code",
   "execution_count": null,
   "metadata": {},
   "outputs": [],
   "source": [
    "M = A@A.T\n",
    "M"
   ]
  },
  {
   "cell_type": "code",
   "execution_count": null,
   "metadata": {},
   "outputs": [],
   "source": [
    "np.linalg.solve(M, np.array([-2,1]))"
   ]
  },
  {
   "cell_type": "markdown",
   "metadata": {},
   "source": [
    "What about solving a system when the coefficient matrix is not square?"
   ]
  },
  {
   "cell_type": "code",
   "execution_count": null,
   "metadata": {},
   "outputs": [],
   "source": [
    "# try this, read the error message\n",
    "A = np.array([[1,2,3],[1,4,-1]])\n",
    "b = np.array([1,-5])\n",
    "np.linalg.solve(A, b)"
   ]
  },
  {
   "cell_type": "markdown",
   "metadata": {},
   "source": [
    "---"
   ]
  },
  {
   "cell_type": "markdown",
   "metadata": {},
   "source": [
    "### Broadcasting and universal functions"
   ]
  },
  {
   "cell_type": "markdown",
   "metadata": {},
   "source": [
    "Say that you have a 1d array and you want the one whose entries are square roots of entries of your current one. How do you do it?\n",
    "> BTW, `np.sqrt()` takes the square root of a number."
   ]
  },
  {
   "cell_type": "code",
   "execution_count": 42,
   "metadata": {},
   "outputs": [],
   "source": [
    "# example array to use\n",
    "f = np.array([3*n+1 for n in range(1,100)])"
   ]
  },
  {
   "cell_type": "code",
   "execution_count": 44,
   "metadata": {},
   "outputs": [],
   "source": [
    "# Could use a for loop\n",
    "sq_f = []\n",
    "for x in f:\n",
    "  sq_f.append(np.sqrt(x))\n",
    "sq_f = np.array(sq_f)"
   ]
  },
  {
   "cell_type": "markdown",
   "metadata": {},
   "source": [
    "But NumPy has a better way: **universal functions** and **Broadcasting**.\n",
    "\n",
    "The function `np.sqrt()` can accept an (nd)array and will take the square roots of all entries in the array."
   ]
  },
  {
   "cell_type": "code",
   "execution_count": 47,
   "metadata": {},
   "outputs": [],
   "source": [
    "# this one line will do it\n",
    "sq_f = np.sqrt(f)"
   ]
  },
  {
   "cell_type": "markdown",
   "metadata": {},
   "source": [
    "Many functions in NumPy work this way &ndash; called a `ufunc` (universal function).\n",
    "\n",
    "Examples of ufuncs: `np.abs()`, `np.maximum()`, `np.minimum()`, `np.exp()`, `np.log()`."
   ]
  },
  {
   "cell_type": "code",
   "execution_count": null,
   "metadata": {},
   "outputs": [],
   "source": [
    "np.maximum(f,100 - 2*f)"
   ]
  },
  {
   "cell_type": "markdown",
   "metadata": {},
   "source": [
    "In a minute, we will see that universal functions not only make less lines of code, but dramatically improve runtimes.\n",
    "\n",
    "Some other functions to use with arrays:\n",
    "> `np.sum()`, `np.max()`, `np.min()`\n",
    "These are not ufuncs, but they perform quickly on NumPy arrays (for related reasons).  \n",
    "&#9888; However, they are not quick on lists! Use the built-in `sum()`, `max()`, and `min()` on a list."
   ]
  },
  {
   "cell_type": "code",
   "execution_count": null,
   "metadata": {},
   "outputs": [],
   "source": [
    "A"
   ]
  },
  {
   "cell_type": "code",
   "execution_count": null,
   "metadata": {},
   "outputs": [],
   "source": [
    "# over all entries, sum entries in same position of each row\n",
    "np.sum(A), np.sum(A, axis=0)"
   ]
  },
  {
   "cell_type": "markdown",
   "metadata": {},
   "source": [
    "These efficient ufuncs use something called _broadcasting_. NumPy has made it so that basic operators work with NumPy arrays in a similar way &ndash; efficiently carrying out element-wise operations."
   ]
  },
  {
   "cell_type": "code",
   "execution_count": null,
   "metadata": {},
   "outputs": [],
   "source": [
    "# add 3 to every entry \n",
    "A + 3"
   ]
  },
  {
   "cell_type": "code",
   "execution_count": null,
   "metadata": {},
   "outputs": [],
   "source": [
    "# multiply every entry by -1\n",
    "-1*A"
   ]
  },
  {
   "cell_type": "code",
   "execution_count": null,
   "metadata": {},
   "outputs": [],
   "source": [
    "# square every entry\n",
    "A**2"
   ]
  },
  {
   "cell_type": "markdown",
   "metadata": {},
   "source": [
    "You can also easily multiply in entry-wise fashion. (Make sure the arrays have same shape.)"
   ]
  },
  {
   "cell_type": "code",
   "execution_count": null,
   "metadata": {},
   "outputs": [],
   "source": [
    "# multiply two arrays\n",
    "B = np.array([[-1,2,0],[1,1,-1]])\n",
    "A*B"
   ]
  },
  {
   "cell_type": "code",
   "execution_count": null,
   "metadata": {},
   "outputs": [],
   "source": [
    "A.shape, B.shape"
   ]
  },
  {
   "cell_type": "markdown",
   "metadata": {},
   "source": [
    "Write one line that computes the norm (length) of a vector `v`. There is a `linalg` function for this, but use ufuncs and broadcasting &ndash; that's what it does."
   ]
  },
  {
   "cell_type": "code",
   "execution_count": null,
   "metadata": {},
   "outputs": [],
   "source": []
  },
  {
   "cell_type": "markdown",
   "metadata": {},
   "source": [
    "Efficiency of broadcasting\n",
    "\n",
    "We'll check difference in writing our own for loop versus using a ufunc."
   ]
  },
  {
   "cell_type": "code",
   "execution_count": null,
   "metadata": {},
   "outputs": [],
   "source": [
    "id_matrix = np.identity(1000)\n",
    "exp_matrix = np.zeros((1000,1000))\n",
    "# one entry at a time in our own for loop\n",
    "start = time.time()\n",
    "for i in range(1000):\n",
    "  for j in range(1000):\n",
    "    exp_matrix[i,j] = np.exp(id_matrix[i,j])\n",
    "end = time.time()\n",
    "print(f\"Ran in {end - start} seconds.\")"
   ]
  },
  {
   "cell_type": "code",
   "execution_count": null,
   "metadata": {},
   "outputs": [],
   "source": [
    "id_matrix = np.identity(1000)\n",
    "exp_matrix = np.zeros((1000,1000))\n",
    "# now we use the ufunc np.exp\n",
    "start = time.time()\n",
    "exp_matrix = np.exp(id_matrix)\n",
    "end = time.time()\n",
    "print(f\"Ran in {end - start} seconds.\")"
   ]
  }
 ],
 "metadata": {
  "colab": {
   "authorship_tag": "ABX9TyPz40qvFU28vWRHbmBuKciJ",
   "collapsed_sections": [
    "AHjCaXah3a64"
   ],
   "provenance": []
  },
  "kernelspec": {
   "display_name": "Python 3",
   "name": "python3"
  },
  "language_info": {
   "codemirror_mode": {
    "name": "ipython",
    "version": 3
   },
   "file_extension": ".py",
   "mimetype": "text/x-python",
   "name": "python",
   "nbconvert_exporter": "python",
   "pygments_lexer": "ipython3",
   "version": "3.13.1"
  }
 },
 "nbformat": 4,
 "nbformat_minor": 0
}
