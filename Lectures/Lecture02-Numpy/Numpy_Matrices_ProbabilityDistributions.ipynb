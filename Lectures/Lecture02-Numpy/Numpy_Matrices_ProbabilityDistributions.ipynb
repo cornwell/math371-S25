{
 "cells": [
  {
   "cell_type": "markdown",
   "metadata": {},
   "source": [
    "## Lecture 3 - Introduction to Numpy"
   ]
  },
  {
   "cell_type": "markdown",
   "metadata": {
    "id": "VanRy5ChGuzh"
   },
   "source": [
    "### Basics of using [NumPy](https://numpy.org/doc/stable/).\n",
    "Numpy is one the main packages in Python for scientific computation and is a must for data science and machine learning. Not everything done in Python needs it though, so the modules are not _built-in_. We must import Numpy into our Python session.\n",
    "\n",
    "Later in the lesson, we will also want to create some visuals &ndash; plots. For this, we must import PyPlot, which is our second import line.\n",
    "\n",
    "> If not working in the cloud, you might have to install the packages the very first time you try import them. To do so, you may use one of the following terminal command from your home directory.\n",
    "\n",
    "`python -m pip install <package name>` (Windows)\n",
    "\n",
    "`sudo pip install <package name>` (Linux or Unix-based)"
   ]
  },
  {
   "cell_type": "code",
   "execution_count": 2,
   "metadata": {
    "executionInfo": {
     "elapsed": 137,
     "status": "ok",
     "timestamp": 1716555003108,
     "user": {
      "displayName": "Christopher Cornwell",
      "userId": "10439702716895294443"
     },
     "user_tz": 240
    },
    "id": "oii38hnKCa_z"
   },
   "outputs": [],
   "source": [
    "import numpy as np\n",
    "import matplotlib.pyplot as plt"
   ]
  },
  {
   "cell_type": "markdown",
   "metadata": {},
   "source": [
    "The main object that you work with in Numpy is an `ndarray`, which is constructed from a list using the command `np.array(the_list)`. \n",
    "\n",
    "If the items in the list are numerical &ndash; `int` or `float` &ndash; then the `ndarray` object is much like a vector. In this case, it is a _\\tensor of order 1_ (confusingly, may sometimes read this as ``rank 1 tensor'', though this is not rank in the usual sense). For any integer $d\\ge 1$, you can have a Numpy array that is a tensor of order $d$. You may also read it described as a \"$d$-dimensional array.\"\n",
    "\n",
    "One of the attributes of a Numpy array is its _shape_. When it is order 1, the shape has the form `(n,)`, where `n` is the number of items (coordinates) in that vector."
   ]
  },
  {
   "cell_type": "code",
   "execution_count": 5,
   "metadata": {},
   "outputs": [
    {
     "data": {
      "text/plain": [
       "(3,)"
      ]
     },
     "execution_count": 5,
     "metadata": {},
     "output_type": "execute_result"
    }
   ],
   "source": [
    "v = np.array([-1,1,1])\n",
    "\n",
    "# Here is the shape of v\n",
    "v.shape"
   ]
  },
  {
   "cell_type": "code",
   "execution_count": 6,
   "metadata": {},
   "outputs": [
    {
     "data": {
      "text/plain": [
       "numpy.ndarray"
      ]
     },
     "execution_count": 6,
     "metadata": {},
     "output_type": "execute_result"
    }
   ],
   "source": [
    "type(v)"
   ]
  },
  {
   "cell_type": "markdown",
   "metadata": {
    "id": "AJNpIKzMHXPw"
   },
   "source": [
    "If the input to `np.array()` is a list of lists, and each \"inside\" list has numeric type items, then the resulting `ndarray` is a rank 2 tensor &ndash; a matrix. (The inside lists must all have the same length.)\n",
    "If `A` is such an object, then to refer to the entry in row `i` and column `j`, use `A[i,j]`.\n",
    "\n",
    "Below, we make another vector, `w`, and two matrices (rank 2 tensors) `A` and `P`. Check out how we can do linear combinations as in linear algebra. (Notice below how `2*w` gives you the scalar 2 times the vector `w`.)"
   ]
  },
  {
   "cell_type": "code",
   "execution_count": 6,
   "metadata": {
    "executionInfo": {
     "elapsed": 116,
     "status": "ok",
     "timestamp": 1716555010901,
     "user": {
      "displayName": "Christopher Cornwell",
      "userId": "10439702716895294443"
     },
     "user_tz": 240
    },
    "id": "2gCHlGC2C1cd"
   },
   "outputs": [],
   "source": [
    "w = np.array([0.5,0,1.1])\n",
    "A = np.array([[5/6,7/6,-1/3],[2/3,4/3,-2/3],[1/6,-1/6,1/3]])\n",
    "P = np.array([[1,1,-1],[1,0,1],[0,1,1]])"
   ]
  },
  {
   "cell_type": "code",
   "execution_count": 8,
   "metadata": {
    "colab": {
     "base_uri": "https://localhost:8080/"
    },
    "executionInfo": {
     "elapsed": 155,
     "status": "ok",
     "timestamp": 1715948710063,
     "user": {
      "displayName": "Christopher Cornwell",
      "userId": "10439702716895294443"
     },
     "user_tz": 240
    },
    "id": "-KNg85irIATX",
    "outputId": "f0533303-10e2-4c59-a5d7-8452276bd722"
   },
   "outputs": [
    {
     "data": {
      "text/plain": [
       "array([0. , 1. , 3.2])"
      ]
     },
     "execution_count": 8,
     "metadata": {},
     "output_type": "execute_result"
    }
   ],
   "source": [
    "v + 2*w"
   ]
  },
  {
   "cell_type": "code",
   "execution_count": 9,
   "metadata": {
    "colab": {
     "base_uri": "https://localhost:8080/"
    },
    "executionInfo": {
     "elapsed": 148,
     "status": "ok",
     "timestamp": 1715948721062,
     "user": {
      "displayName": "Christopher Cornwell",
      "userId": "10439702716895294443"
     },
     "user_tz": 240
    },
    "id": "8SVO9uxLM-ZB",
    "outputId": "4d1dd682-bc26-4fde-d5b7-f6f025244fc6"
   },
   "outputs": [
    {
     "data": {
      "text/plain": [
       "array([[ 1.83333333,  2.16666667, -1.33333333],\n",
       "       [ 1.66666667,  1.33333333,  0.33333333],\n",
       "       [ 0.16666667,  0.83333333,  1.33333333]])"
      ]
     },
     "execution_count": 9,
     "metadata": {},
     "output_type": "execute_result"
    }
   ],
   "source": [
    "A+P"
   ]
  },
  {
   "cell_type": "code",
   "execution_count": 12,
   "metadata": {},
   "outputs": [
    {
     "data": {
      "text/plain": [
       "(2, 3)"
      ]
     },
     "execution_count": 12,
     "metadata": {},
     "output_type": "execute_result"
    }
   ],
   "source": [
    "# the shape of a rank 2 tensor == (m,n) when it is an m x n matrix\n",
    "M = np.array([[2,5,8],[2,6,10]])\n",
    "\n",
    "M.shape"
   ]
  },
  {
   "cell_type": "markdown",
   "metadata": {
    "id": "--2HW1seg64G"
   },
   "source": [
    "> Programming note (to be aware): If you put integers into a numpy array, it will give them integer data types, \"int64\"; decimal numbers are stored as a \"float64\". Each array will only have one data type (unlike lists). If you combine them (e.g., adding them) and one array has ints but the other has floats, or if you divide by integer, NumPy will convert to floats."
   ]
  },
  {
   "cell_type": "code",
   "execution_count": 10,
   "metadata": {
    "colab": {
     "base_uri": "https://localhost:8080/"
    },
    "executionInfo": {
     "elapsed": 124,
     "status": "ok",
     "timestamp": 1716555037112,
     "user": {
      "displayName": "Christopher Cornwell",
      "userId": "10439702716895294443"
     },
     "user_tz": 240
    },
    "id": "tvZ2U_puiJT_",
    "outputId": "698e075b-72ca-40f0-dcc0-9588d37a2a55"
   },
   "outputs": [
    {
     "data": {
      "text/plain": [
       "(numpy.int64, numpy.float64)"
      ]
     },
     "execution_count": 10,
     "metadata": {},
     "output_type": "execute_result"
    }
   ],
   "source": [
    "type(P[0,1]), type(A[0,1])"
   ]
  },
  {
   "cell_type": "markdown",
   "metadata": {
    "id": "pZuPFsrzND9V"
   },
   "source": [
    "Multiplying matrices and multiplying a matrix times a vector are done easily. To multiply matrices, use the `@` symbol (in recent versions of Python, this replaces `np.matmul()`). This will work for a matrix times a vector too. However, for matrices and vectors (not higher rank tensors) you could also use `np.dot()`. This performs the dot product on each row (if a matrix is given first)."
   ]
  },
  {
   "cell_type": "code",
   "execution_count": 13,
   "metadata": {},
   "outputs": [
    {
     "data": {
      "text/plain": [
       "array([[ 7, 10, 11],\n",
       "       [ 8, 12, 14]])"
      ]
     },
     "execution_count": 13,
     "metadata": {},
     "output_type": "execute_result"
    }
   ],
   "source": [
    "M@P"
   ]
  },
  {
   "cell_type": "code",
   "execution_count": 14,
   "metadata": {
    "colab": {
     "base_uri": "https://localhost:8080/",
     "height": 34
    },
    "executionInfo": {
     "elapsed": 547,
     "status": "ok",
     "timestamp": 1580852078187,
     "user": {
      "displayName": "Christopher Cornwell",
      "photoUrl": "https://lh3.googleusercontent.com/a-/AAuE7mD1vIJYtRmHu2fBlSZVG0Gd0LlDFOeUFrZFxs4_ww=s64",
      "userId": "10439702716895294443"
     },
     "user_tz": 300
    },
    "id": "WMLnbPf2Hz7W",
    "outputId": "5ceba066-121d-4a5f-dc47-bbe5ae5f7f17"
   },
   "outputs": [
    {
     "data": {
      "text/plain": [
       "array([5.55111512e-17, 0.00000000e+00, 0.00000000e+00])"
      ]
     },
     "execution_count": 14,
     "metadata": {},
     "output_type": "execute_result"
    }
   ],
   "source": [
    "A@v"
   ]
  },
  {
   "cell_type": "code",
   "execution_count": 15,
   "metadata": {},
   "outputs": [
    {
     "data": {
      "text/plain": [
       "array([5.55111512e-17, 0.00000000e+00, 0.00000000e+00])"
      ]
     },
     "execution_count": 15,
     "metadata": {},
     "output_type": "execute_result"
    }
   ],
   "source": [
    "np.dot(A, v)"
   ]
  },
  {
   "cell_type": "markdown",
   "metadata": {
    "id": "qXt6LRToIKog"
   },
   "source": [
    "> Note that, when we computed `A` times `v`, the first component was not equal to exactly 0. This is a consequence of rounding errors. (Notice the difference below, where it should be that both the first and second computation equal to 5/6.)"
   ]
  },
  {
   "cell_type": "code",
   "execution_count": null,
   "metadata": {
    "colab": {
     "base_uri": "https://localhost:8080/",
     "height": 34
    },
    "executionInfo": {
     "elapsed": 391,
     "status": "ok",
     "timestamp": 1580852627679,
     "user": {
      "displayName": "Christopher Cornwell",
      "photoUrl": "https://lh3.googleusercontent.com/a-/AAuE7mD1vIJYtRmHu2fBlSZVG0Gd0LlDFOeUFrZFxs4_ww=s64",
      "userId": "10439702716895294443"
     },
     "user_tz": 300
    },
    "id": "vbOG1aqiJw9f",
    "outputId": "486f1e04-49e9-47bd-8e09-4d5f55de833b"
   },
   "outputs": [
    {
     "data": {
      "text/plain": [
       "('0.8333333333333335', '0.8333333333333334')"
      ]
     },
     "execution_count": 42,
     "metadata": {
      "tags": []
     },
     "output_type": "execute_result"
    }
   ],
   "source": [
    "(A[0][2]+A[0][1]).astype(str), A[0][0].astype(str)"
   ]
  },
  {
   "cell_type": "markdown",
   "metadata": {
    "id": "Ex540i5fLGcI"
   },
   "source": [
    "> Numpy has a lot of [Linear Algebra](https://numpy.org/doc/stable/reference/routines.linalg.html#module-numpy.linalg) operations built in. Here is the norm of a vector, `np.linalg.norm()`, and matrix inverse, `np.linalg.inv()`. The to get the transpose, use `.T` after the matrix. (For a vector, you need to convert it to a one-row matrix first.) "
   ]
  },
  {
   "cell_type": "code",
   "execution_count": null,
   "metadata": {
    "colab": {
     "base_uri": "https://localhost:8080/"
    },
    "executionInfo": {
     "elapsed": 172,
     "status": "ok",
     "timestamp": 1715949809253,
     "user": {
      "displayName": "Christopher Cornwell",
      "userId": "10439702716895294443"
     },
     "user_tz": 240
    },
    "id": "1cXAM862k454",
    "outputId": "049fdb3b-06ab-4f7b-8c53-1239feaa9848"
   },
   "outputs": [
    {
     "data": {
      "text/plain": [
       "(1.7320508075688772, 1.7320508075688772)"
      ]
     },
     "execution_count": 20,
     "metadata": {},
     "output_type": "execute_result"
    }
   ],
   "source": [
    "np.linalg.norm(v), np.sqrt(3)"
   ]
  },
  {
   "cell_type": "code",
   "execution_count": 17,
   "metadata": {
    "colab": {
     "base_uri": "https://localhost:8080/",
     "height": 68
    },
    "executionInfo": {
     "elapsed": 410,
     "status": "ok",
     "timestamp": 1580852691118,
     "user": {
      "displayName": "Christopher Cornwell",
      "photoUrl": "https://lh3.googleusercontent.com/a-/AAuE7mD1vIJYtRmHu2fBlSZVG0Gd0LlDFOeUFrZFxs4_ww=s64",
      "userId": "10439702716895294443"
     },
     "user_tz": 300
    },
    "id": "9RVNnOnZDGKl",
    "outputId": "ae307344-f2d2-4cf8-d3a8-4364d22c4cee"
   },
   "outputs": [
    {
     "data": {
      "text/plain": [
       "array([[ 0.33333333,  0.66666667, -0.33333333],\n",
       "       [ 0.33333333, -0.33333333,  0.66666667],\n",
       "       [-0.33333333,  0.33333333,  0.33333333]])"
      ]
     },
     "execution_count": 17,
     "metadata": {},
     "output_type": "execute_result"
    }
   ],
   "source": [
    "np.linalg.inv(P)"
   ]
  },
  {
   "cell_type": "code",
   "execution_count": 24,
   "metadata": {},
   "outputs": [
    {
     "name": "stdout",
     "output_type": "stream",
     "text": [
      "[[ 1  1  0]\n",
      " [ 1  0  1]\n",
      " [-1  1  1]]\n",
      "[[-1]\n",
      " [ 1]\n",
      " [ 1]]\n"
     ]
    }
   ],
   "source": [
    "# transpose of matrix and of a vector\n",
    "print(P.T)\n",
    "\n",
    "print( v.reshape(1,3).T )  # could also have .reshape(1,-1) here if you don't know the length of the vector"
   ]
  },
  {
   "cell_type": "markdown",
   "metadata": {},
   "source": [
    "#### More on indexing matrices\n",
    "Often, you want to get all items in one row, or all items in one column, of a given matrix `A`. For this, you can use slicing, either `A[i, :]` (for row i) or `A[:, j]` (for column j). \n",
    "> For the row, you could also just type `A[i]` (getting the i$^{th}$ list in this list of lists). But you need slicing for the column."
   ]
  },
  {
   "cell_type": "code",
   "execution_count": 26,
   "metadata": {},
   "outputs": [
    {
     "name": "stdout",
     "output_type": "stream",
     "text": [
      "[[ 0.83333333  1.16666667 -0.33333333]\n",
      " [ 0.66666667  1.33333333 -0.66666667]\n",
      " [ 0.16666667 -0.16666667  0.33333333]]\n"
     ]
    },
    {
     "data": {
      "text/plain": [
       "array([ 1.16666667,  1.33333333, -0.16666667])"
      ]
     },
     "execution_count": 26,
     "metadata": {},
     "output_type": "execute_result"
    }
   ],
   "source": [
    "print(A)\n",
    "\n",
    "A[:,1]"
   ]
  },
  {
   "cell_type": "markdown",
   "metadata": {},
   "source": [
    "You can also get a submatrix of `A`."
   ]
  },
  {
   "cell_type": "code",
   "execution_count": 27,
   "metadata": {},
   "outputs": [
    {
     "data": {
      "text/plain": [
       "array([[ 0.66666667,  1.33333333],\n",
       "       [ 0.16666667, -0.16666667]])"
      ]
     },
     "execution_count": 27,
     "metadata": {},
     "output_type": "execute_result"
    }
   ],
   "source": [
    "A[1:,:2]"
   ]
  },
  {
   "cell_type": "markdown",
   "metadata": {},
   "source": [
    "#### Other arithmetic operations with tensors\n",
    "Why didn't the developers just have `M*A` be interpreted as matrix multiplication of `M` and `A`? While element-wise multiplication doesn't get discussed much in a first linear algebra course, it is often _very_ useful in scientific computing and Numpy handles it very well.\n",
    "> The operation `*` carries out element-wise multiplication. That is, the tensors being multiplied **should have the same shape** and items in the same position are multiplied."
   ]
  },
  {
   "cell_type": "markdown",
   "metadata": {},
   "source": [
    "This means that a power of a square matrix (using `**`) will take element-wise powers."
   ]
  },
  {
   "cell_type": "code",
   "execution_count": 30,
   "metadata": {},
   "outputs": [
    {
     "name": "stdout",
     "output_type": "stream",
     "text": [
      "[-0.5  0.   1.1]\n",
      "[[ 0.83333333  1.16666667  0.33333333]\n",
      " [ 0.66666667  0.         -0.66666667]\n",
      " [ 0.         -0.16666667  0.33333333]]\n"
     ]
    }
   ],
   "source": [
    "print(v*w)\n",
    "print(A*P)"
   ]
  },
  {
   "cell_type": "code",
   "execution_count": 31,
   "metadata": {},
   "outputs": [
    {
     "data": {
      "text/plain": [
       "array([[1, 1, 1],\n",
       "       [1, 0, 1],\n",
       "       [0, 1, 1]])"
      ]
     },
     "execution_count": 31,
     "metadata": {},
     "output_type": "execute_result"
    }
   ],
   "source": [
    "P**2"
   ]
  },
  {
   "cell_type": "markdown",
   "metadata": {},
   "source": [
    "You can also easily add  one number to every entry."
   ]
  },
  {
   "cell_type": "code",
   "execution_count": 32,
   "metadata": {},
   "outputs": [
    {
     "data": {
      "text/plain": [
       "array([[3, 3, 1],\n",
       "       [3, 2, 3],\n",
       "       [2, 3, 3]])"
      ]
     },
     "execution_count": 32,
     "metadata": {},
     "output_type": "execute_result"
    }
   ],
   "source": [
    "Q = P + 2\n",
    "Q"
   ]
  },
  {
   "cell_type": "code",
   "execution_count": 33,
   "metadata": {},
   "outputs": [
    {
     "data": {
      "text/plain": [
       "array([[2, 2, 2],\n",
       "       [2, 2, 2],\n",
       "       [2, 2, 2]])"
      ]
     },
     "execution_count": 33,
     "metadata": {},
     "output_type": "execute_result"
    }
   ],
   "source": [
    "Q - P"
   ]
  },
  {
   "cell_type": "markdown",
   "metadata": {},
   "source": [
    "#### Reduction"
   ]
  },
  {
   "cell_type": "code",
   "execution_count": 37,
   "metadata": {},
   "outputs": [
    {
     "name": "stdout",
     "output_type": "stream",
     "text": [
      "[[ 2  5  8]\n",
      " [ 2  6 10]]\n",
      "33\n",
      "[ 4 11 18]\n",
      "[15 18]\n"
     ]
    }
   ],
   "source": [
    "print(M)\n",
    "print(M.sum())\n",
    "\n",
    "print(M.sum(axis=0))\n",
    "print(M.sum(axis=1))"
   ]
  },
  {
   "cell_type": "code",
   "execution_count": 43,
   "metadata": {},
   "outputs": [
    {
     "name": "stdout",
     "output_type": "stream",
     "text": [
      "[0.5 0.  1.1]\n",
      "1.2083045973594573 1.2083045973594573\n"
     ]
    }
   ],
   "source": [
    "# quick Euclidean norm\n",
    "print(w)\n",
    "print( np.sqrt((w**2).sum()), np.linalg.norm(w) )"
   ]
  },
  {
   "cell_type": "code",
   "execution_count": 47,
   "metadata": {},
   "outputs": [
    {
     "name": "stdout",
     "output_type": "stream",
     "text": [
      "[ 2  6 10]\n",
      "[2.  5.5 9. ]\n"
     ]
    }
   ],
   "source": [
    "# Max along an axis\n",
    "print(M.max(axis=0))\n",
    "# Mean along an axis\n",
    "print(M.mean(axis=0))"
   ]
  },
  {
   "cell_type": "markdown",
   "metadata": {},
   "source": [
    "#### All zero matrix and the identity matrix\n",
    "Since they are needed so often, there is a function to construct a tensor filled with zeros of your chosen size and also a function to construct an $n\\times n$ identity matrix."
   ]
  },
  {
   "cell_type": "code",
   "execution_count": 49,
   "metadata": {},
   "outputs": [
    {
     "name": "stdout",
     "output_type": "stream",
     "text": [
      "[0. 0. 0. 0. 0.] ,\n",
      "[[0. 0. 0. 0.]\n",
      " [0. 0. 0. 0.]\n",
      " [0. 0. 0. 0.]\n",
      " [0. 0. 0. 0.]]\n"
     ]
    }
   ],
   "source": [
    "zerovector = np.zeros(5)\n",
    "zeromatrix = np.zeros((4,4))\n",
    "print(zerovector, ',')\n",
    "print(zeromatrix)"
   ]
  },
  {
   "cell_type": "code",
   "execution_count": 52,
   "metadata": {},
   "outputs": [
    {
     "data": {
      "text/plain": [
       "array([[1., 0., 0.],\n",
       "       [0., 1., 0.],\n",
       "       [0., 0., 1.]])"
      ]
     },
     "execution_count": 52,
     "metadata": {},
     "output_type": "execute_result"
    }
   ],
   "source": [
    "np.identity(3)"
   ]
  },
  {
   "cell_type": "code",
   "execution_count": 54,
   "metadata": {},
   "outputs": [
    {
     "data": {
      "text/plain": [
       "array([[3, 0, 0],\n",
       "       [0, 2, 0],\n",
       "       [0, 0, 1]])"
      ]
     },
     "execution_count": 54,
     "metadata": {},
     "output_type": "execute_result"
    }
   ],
   "source": [
    "# quickly make a diagonal matrix\n",
    "np.diag([3,2,1])"
   ]
  },
  {
   "cell_type": "code",
   "execution_count": 62,
   "metadata": {},
   "outputs": [],
   "source": [
    "m = 200\n",
    "DistM = np.random.uniform(0, 2.5, size=(m,m))*np.tri(m)\n",
    "Delt = np.diag(DistM.diagonal())\n",
    "DistM -= Delt\n",
    "# Which entry is largest? "
   ]
  },
  {
   "cell_type": "code",
   "execution_count": 69,
   "metadata": {},
   "outputs": [],
   "source": [
    "import time"
   ]
  },
  {
   "cell_type": "code",
   "execution_count": 73,
   "metadata": {},
   "outputs": [
    {
     "name": "stdout",
     "output_type": "stream",
     "text": [
      "Ran in 0.0 nanoseconds.\n"
     ]
    }
   ],
   "source": [
    "start = time.time()\n",
    "mx = DistM.argmax()\n",
    "i,j = mx//m, mx%m\n",
    "end = time.time()\n",
    "nanoseconds = (end - start)*1e9\n",
    "print(f\"Ran in {nanoseconds} nanoseconds.\")"
   ]
  },
  {
   "cell_type": "code",
   "execution_count": 74,
   "metadata": {},
   "outputs": [
    {
     "name": "stdout",
     "output_type": "stream",
     "text": [
      "28682 143 82\n"
     ]
    }
   ],
   "source": [
    "print(mx, i, j)"
   ]
  },
  {
   "cell_type": "code",
   "execution_count": 75,
   "metadata": {},
   "outputs": [
    {
     "name": "stdout",
     "output_type": "stream",
     "text": [
      "Ran in 8028.0303955078125 microseconds.\n"
     ]
    }
   ],
   "source": [
    "start = time.time()\n",
    "mx = 0\n",
    "mi, mj = -1, -1\n",
    "for i in range(200):\n",
    "  for j in range(200):\n",
    "    if DistM[i,j] > mx:\n",
    "      mx = DistM[i,j]\n",
    "      mi = i\n",
    "      mj = j\n",
    "end = time.time()\n",
    "microseconds = (end - start)*1e6\n",
    "print(f\"Ran in {microseconds} microseconds.\")\n"
   ]
  }
 ],
 "metadata": {
  "colab": {
   "authorship_tag": "ABX9TyPz40qvFU28vWRHbmBuKciJ",
   "collapsed_sections": [
    "AHjCaXah3a64"
   ],
   "provenance": []
  },
  "kernelspec": {
   "display_name": "Python 3",
   "name": "python3"
  },
  "language_info": {
   "codemirror_mode": {
    "name": "ipython",
    "version": 3
   },
   "file_extension": ".py",
   "mimetype": "text/x-python",
   "name": "python",
   "nbconvert_exporter": "python",
   "pygments_lexer": "ipython3",
   "version": "3.13.1"
  }
 },
 "nbformat": 4,
 "nbformat_minor": 0
}
