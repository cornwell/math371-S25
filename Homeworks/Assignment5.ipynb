{
 "cells": [
  {
   "cell_type": "markdown",
   "id": "b03062dd",
   "metadata": {},
   "source": [
    "## Homework 5"
   ]
  },
  {
   "cell_type": "markdown",
   "id": "8ebc577f",
   "metadata": {},
   "source": [
    "For some dimension $d$, suppose that we have data $\\mathcal S = \\{(\\textbf{x}_i, y_i)\\}_{i=1}^n$, with each $\\textbf{x}_i\\in\\mathbb R^d$ and $y_i\\in\\mathbb R$. For each $i$, write the vector $\\textbf{x}_i$ as \n",
    "$$\\textbf{x}_i = (x_{i,1},x_{i,2},\\ldots,x_{i,d}).$$\n",
    "To do ridge regression (linear regression with $L_2$ regularization), we would minimize the loss function \n",
    "$$\\mathcal L_{\\mathcal S}(\\textbf{w}, b) = \\lambda|\\textbf{w}|^2 + \\frac{1}{n}\\sum_{i=1}^n(\\textbf{w}\\cdot\\textbf{x}_i + b - y_i)^2.$$"
   ]
  },
  {
   "cell_type": "markdown",
   "id": "e3d96af5",
   "metadata": {},
   "source": [
    "1. (a) Having the vector of coefficients $\\textbf{w} = (w_1,w_2,\\ldots,w_d)$, use the notation here to write the partial derivatives $\\frac{\\partial}{\\partial w_j}\\mathcal L_{\\mathcal S}$, for $1\\le j\\le d$, as well as the partial derivative $\\frac{\\partial}{\\partial b}\\mathcal L_{\\mathcal S}$."
   ]
  },
  {
   "cell_type": "markdown",
   "id": "4b443745",
   "metadata": {},
   "source": [
    "1. (b) Let $I$ be the $d\\times d$ identity matrix. Given $j$, with $1\\le j\\le d$, observe that $2\\lambda w_j$ is equal to the $j^{th}$ entry in the vector $(2\\lambda I)\\textbf{w}$."
   ]
  },
  {
   "cell_type": "markdown",
   "id": "a11832f2",
   "metadata": {},
   "source": [
    "1. (c) Let $A$ denote the $n\\times(d+1)$ \"feature\" matrix which has entries $(x_{i,1}, \\ldots, x_{i,d}, 1)$ in row $i$. Thinking about entries in $A^TA$ and $A^T\\textbf{y}$, write a matrix equation that represents the system of equations \n",
    "$$\\frac{\\partial}{\\partial w_1}\\mathcal L_{\\mathcal S} = 0,\\quad \n",
    "\\frac{\\partial}{\\partial w_2}\\mathcal L_{\\mathcal S} = 0, \\  \\ldots,\\  \n",
    "\\frac{\\partial}{\\partial w_d}\\mathcal L_{\\mathcal S}=0,\\quad \n",
    "\\textrm{and}\\quad \\frac{\\partial}{\\partial b}\\mathcal L_{\\mathcal S}=0.$$"
   ]
  },
  {
   "cell_type": "markdown",
   "id": "c03ab2d3",
   "metadata": {},
   "source": [
    "Included with the homework notebook are two CSV files: `'train_HW5data.csv'` and `'test_HW5data.csv'`. These CSV files have a column 'x' and a column 'y'. Read each of the data sets into Python.\n",
    "\n",
    "2. (a) If `x_train` is an array containing data in column 'x' from the train data, make an array that has 12 columns, so that the columns are `x_train**12`, `x_train**11`, ... etc. The shape of the resulting array should be `(40, 12)`."
   ]
  },
  {
   "cell_type": "markdown",
   "id": "d039f1ec",
   "metadata": {},
   "source": [
    "\n",
    "2. (b) Import the Class `Ridge` from the scikit-learn submodule `sklearn.linear_model`. When initializing the class, set the `alpha` (hyper)parameter equal to 0.01 (this is what we called $\\lambda$ when describing regularization in class). Read about the `solver` methods for this class on the documentation page. Set your class instance to use a solver that performs a type of gradient descent. \n",
    "\n",
    "&nbsp;&nbsp;&nbsp;&nbsp;&nbsp;&nbsp;&nbsp;&nbsp; Next, using `y_train` for the array with data from column 'y', train your instance of `Ridge` (use the method `.fit()`) on the array you made in (a), with `y_train` as the labels. Print out the coefficients of the resulting model and compute the Mean Squared Error on the test data."
   ]
  },
  {
   "cell_type": "markdown",
   "id": "eba7611c",
   "metadata": {},
   "source": [
    "3. Import the Class `Lasso` from the scikit-learn submodule `sklearn.linear_model` and create an instance of the class with `alpha = 0.005`.  As in number 2, use the train and test data sets to fit the Lasso model to find a degree 12 polynomial on 'x' with the 'y' column as the response. For this model, which powers of 'x' have non-zero coefficients?"
   ]
  }
 ],
 "metadata": {
  "kernelspec": {
   "display_name": "Python 3",
   "language": "python",
   "name": "python3"
  },
  "language_info": {
   "name": "python",
   "version": "3.13.1"
  }
 },
 "nbformat": 4,
 "nbformat_minor": 5
}
