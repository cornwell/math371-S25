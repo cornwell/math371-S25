{
 "cells": [
  {
   "cell_type": "markdown",
   "metadata": {},
   "source": [
    "## Homework 2"
   ]
  },
  {
   "cell_type": "markdown",
   "metadata": {},
   "source": [
    "1. In the DataSets folder, read the data set 'College.csv' into Python. Perform simple linear regression, with `perc_alumni` as the independent variable and `S_F_ratio` as the response ($y$) variable. Report on the slope and intercept of the LSR line you find. What is the confidence interval for each? "
   ]
  },
  {
   "cell_type": "markdown",
   "metadata": {},
   "source": [
    "2. Show that $R^2$ is scale invariant. In other words, if $c$ is a constant and you take all $y$-coordinates in the data $(x_1,y_1), (x_2,y_2), \\ldots, (x_n,y_n)$, and make the change $y_i \\mapsto cy_i$, then $R^2$ remains the same."
   ]
  },
  {
   "cell_type": "markdown",
   "metadata": {},
   "source": [
    "3. Show that $(\\bar{x}, \\bar{y})$ must lie on the LSR line.\n",
    "> Hint: Using ${\\bf x}$ (resp. ${\\bf y}$) for the vectors of $x$-coords (resp. $y$-coords), check that \n",
    "> $$A^TA = \\begin{bmatrix}{\\bf x}\\cdot{\\bf x} & n\\bar{x} \\\\ n\\bar{x} & n\\end{bmatrix}; \\qquad A^T{\\bf y} = \\begin{bmatrix}{\\bf x}\\cdot{\\bf y} \\\\ n\\bar{y}\\end{bmatrix} $$ "
   ]
  },
  {
   "cell_type": "markdown",
   "metadata": {},
   "source": [
    "4. Suppose that you collect a set of data ($n=100$) with one independent variable $x$ and one response variable $y$. Then, you fit a simple linear regression to the data, and also a cubic regression (that is, $\\hat{y} = \\hat{p}_0x^3 + \\hat{p}_1x^2 + \\hat{p}_2x + \\hat{p}_3$). \n",
    "\n",
    "* Which of the two models, the linear regression or the cubic regression, do we expect to have a smaller MSE on the data? Do we have enough information to tell? Explain your reasoning. Additionally, you may use computations on example data to support your conclusion. "
   ]
  },
  {
   "cell_type": "markdown",
   "metadata": {},
   "source": [
    "**Extra challenge**\n",
    "\n",
    "5. Using the 'College.csv' data set again, compute a column (or array), `F_Undergrad_perc`, that has the percentage of undergraduate students that are full-time &ndash; e.g., if you read in the DataFrame as `college`, you could use `100*(college['F_Undergrad']/(college['F_Undergrad'] + college['P_Undergrad']))` to get this column.\n",
    "* With the column `Grad_Rate` as your response variable and the columns `perc_alumni`, `S_F_Ratio`, `Top25perc`, `F_Undergrad_perc`, and `Outstate` as your independent variables, use multiple linear regression on these variables to predict the values in `Grad_Rate`. What are the regression coefficients? \n",
    "* Which variable(s) are not significant.\n",
    "> In the analysis to estimate how much coefficients fluctuate relative to their size, use subsamples that are half the size of the data set."
   ]
  },
  {
   "cell_type": "markdown",
   "metadata": {},
   "source": []
  }
 ],
 "metadata": {
  "language_info": {
   "name": "python"
  }
 },
 "nbformat": 4,
 "nbformat_minor": 2
}
