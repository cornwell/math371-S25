{
 "cells": [
  {
   "cell_type": "markdown",
   "metadata": {},
   "source": [
    "## Homework 2"
   ]
  },
  {
   "cell_type": "markdown",
   "metadata": {},
   "source": [
    "1. In the DataSets folder, read the data set 'College.csv' into Python. Perform simple linear regression, with `perc_alumni` as the independent variable and `S_F_ratio` as the response ($y$) variable. Report on the slope and intercept of the LSR line you find. What is the confidence interval for each? "
   ]
  },
  {
   "cell_type": "markdown",
   "metadata": {},
   "source": [
    "2. Write out an explanation for why $R^2$ is scale invariant. In other words, for an arbitrary constant $c$, if you take all $y$-coordinates in the data $(x_1,y_1), (x_2,y_2), \\ldots, (x_n,y_n)$ and make the change $y_i \\mapsto cy_i$ then show how $R^2$ remains the same."
   ]
  },
  {
   "cell_type": "markdown",
   "metadata": {},
   "source": [
    "3. Check that $(\\bar{x}, \\bar{y})$ necessarily lies on the LSR line. (_Do this without using calculus, which means you should not use that_ $\\sum_{i=1}^n(y_i - \\hat{y}_i) = 0$.)\n",
    "> Hint: Using ${\\bf x}$ (resp. ${\\bf y}$) for the vectors of $x$-coords (resp. $y$-coords), check that \n",
    "> $$A^TA = \\begin{bmatrix}{\\bf x}\\cdot{\\bf x} & n\\bar{x} \\\\ n\\bar{x} & n\\end{bmatrix}; \\qquad A^T{\\bf y} = \\begin{bmatrix}{\\bf x}\\cdot{\\bf y} \\\\ n\\bar{y}\\end{bmatrix} $$ "
   ]
  },
  {
   "cell_type": "markdown",
   "metadata": {},
   "source": [
    "4. Suppose that you have a data set, with $n=100$ points, with one independent variable $x$ and one response variable $y$. First, suppose that you fit a simple linear regression to the data. In addition, suppose that you also fit a cubic regression (that is, $\\hat{y} = \\hat{p}_0x^3 + \\hat{p}_1x^2 + \\hat{p}_2x + \\hat{p}_3$). \n",
    "\n",
    "* Which of the two models, the linear regression or the cubic regression, should be expected to have a smaller MSE on the data? Do we have enough information to tell? Explain your reasoning. Additionally, you may use computations on example data to support your conclusion. "
   ]
  },
  {
   "cell_type": "markdown",
   "metadata": {},
   "source": [
    "**Extra challenge**\n",
    "\n",
    "5. Using the 'College.csv' data set again, compute a column (or array), `F_Undergrad_perc`, that has the percentage of undergraduate students that are full-time &ndash; e.g., if you read in the DataFrame as `college`, you could use `100*(college['F_Undergrad']/(college['F_Undergrad'] + college['P_Undergrad']))` to get this column.\n",
    "* With the column `Grad_Rate` as your response variable and the columns `perc_alumni`, `S_F_Ratio`, `Top25perc`, `F_Undergrad_perc`, and `Outstate` as your independent variables, use multiple linear regression on these variables to predict the values in `Grad_Rate`. What are the regression coefficients? \n",
    "* Which variable(s) are not significant.\n",
    "> In the analysis to estimate how much coefficients fluctuate relative to their size, use 100 subsamples that are at least half the size of the data set."
   ]
  }
 ],
 "metadata": {
  "language_info": {
   "name": "python"
  }
 },
 "nbformat": 4,
 "nbformat_minor": 2
}
