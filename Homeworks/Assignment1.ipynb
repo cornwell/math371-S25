{
 "cells": [
  {
   "cell_type": "markdown",
   "metadata": {},
   "source": [
    "## Homework 1"
   ]
  },
  {
   "cell_type": "markdown",
   "metadata": {},
   "source": [
    "Recall question 3 from last Thursday's in-class assignment. Given a positive integer $n$, you generated a sequence of integers that ended in 1."
   ]
  },
  {
   "cell_type": "markdown",
   "metadata": {},
   "source": [
    "1. If $n$ is an odd number, define the _depth_ of $n$ to be the number of odd numbers other than $1$ in this sequence. For example, since the sequence for $n=3$ is $[3, 10, 5, 16, 8, 4, 2, 1]$, the depth of $3$ is $2$. \n",
    "\n",
    "Using the code that you have to generate this sequence, find the depths of all odd numbers less than 10,000. Answer, at least, the following two questions: \n",
    "* What is the maximum depth among all such numbers?\n",
    "* What proportion of such numbers have depth equal to 1?"
   ]
  },
  {
   "cell_type": "markdown",
   "metadata": {},
   "source": [
    "Extra credit: plot the distribution of depths of odd numbers that are less than 10,000 (i.e., the plot shows, for each depth that comes up, the proportion of such numbers that have that depth). In a Markdown cell, tell me something that you notice about the distribution. "
   ]
  },
  {
   "cell_type": "markdown",
   "metadata": {},
   "source": [
    "---"
   ]
  },
  {
   "cell_type": "markdown",
   "metadata": {},
   "source": [
    "2. Write a custom Python function. The function should take an array of $x$ values as its argument and it returns a set of $y$ values \"with noise\" for the chi-squared function $y = \\frac{1}{4}x e^{-x/2}$. The noise should be put in by adding to $y$ a value of a mean-zero, normally distributed random variable with a small standard deviation (something close to $1/100$, say). After defining your custom function in your session, produce a plot of the chi-squared function on the interval $[0,5]$, together with a scatter plot of 200 noisy $(x,y)$ pairs.\n",
    "> Generate the $x$-coordinates of the noisy pairs with a uniform distribution."
   ]
  },
  {
   "cell_type": "markdown",
   "metadata": {},
   "source": [
    "---"
   ]
  },
  {
   "cell_type": "markdown",
   "metadata": {},
   "source": [
    "For question 3, we will import a data set. The data set is the data on automobiles available in the DataSets folder. Download that file and put it in the same folder where you are running this notebook. (Or, if you know how, use the `%cd` magic command to be able to access the directory the data set is in.) The name of the file should be `Auto.csv`.\n",
    "\n",
    "We'll briefly use a DataFrame to import the data, but just in order to extract two NumPy arrays from it. To do this, do the following in this notebook. \n",
    "\n",
    "* First, import the Pandas package using the command `import pandas as pd`.\n",
    "* Second, set a variable equal to `pd.read_csv('Auto.csv')`.\n",
    "* If the variable used in the last bullet was `my_dataframe`, make two arrays as follows: \n",
    "```python \n",
    "mpg = my_dataframe['mpg'].to_numpy()\n",
    "weight = my_dataframe['weight'].to_numpy()\n",
    "```\n",
    "\n",
    "The automobile for index `i` has weight `weight[i]` (in lbs.) and gets `mpg[i]` miles-per-gallon."
   ]
  },
  {
   "cell_type": "markdown",
   "metadata": {},
   "source": [
    "3. After creating the arrays `mpg` and `weight` as above, use NumPy to do linear regression (find the line of \"best fit\") on the data `(weight, mpg)`. Plot the data and the line together."
   ]
  }
 ],
 "metadata": {
  "colab": {
   "authorship_tag": "ABX9TyPz40qvFU28vWRHbmBuKciJ",
   "collapsed_sections": [
    "AHjCaXah3a64"
   ],
   "provenance": []
  },
  "kernelspec": {
   "display_name": "Python 3",
   "name": "python3"
  },
  "language_info": {
   "codemirror_mode": {
    "name": "ipython",
    "version": 3
   },
   "file_extension": ".py",
   "mimetype": "text/x-python",
   "name": "python",
   "nbconvert_exporter": "python",
   "pygments_lexer": "ipython3",
   "version": "3.13.1"
  }
 },
 "nbformat": 4,
 "nbformat_minor": 0
}
