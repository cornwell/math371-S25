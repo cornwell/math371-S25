{
 "cells": [
  {
   "cell_type": "markdown",
   "metadata": {},
   "source": [
    "## Homework 3"
   ]
  },
  {
   "cell_type": "markdown",
   "metadata": {},
   "source": [
    "1. Similar to the Classwork 4 notebook, read in the `Iris.csv` data set. However, this time take only the 100 data points with a species label of either 1 or 2. Reset those labels to 1 and -1.\n",
    " \n",
    "- Next, run `90` steps in the Perceptron algorithm, storing your resulting $W$ vector. Then run `100` steps and store that vector. Then run `500` steps and store that vector. \n",
    "This data is not linearly separable. In each of the three cases, what percentage of the data is correctly labeled by the resulting half-space model? Does more steps produce a more accurate half-space model?"
   ]
  },
  {
   "cell_type": "markdown",
   "metadata": {},
   "source": [
    "2. Recal the logistic function discussed in class, $\\sigma(z) = \\frac{1}{1+e^{-z}}$. First, check that this function satisfies the equation $\\sigma'(z) = \\sigma(z)(1 - \\sigma(z))$. From this, verify that $\\sigma'(z) \\le \\frac1{4}$ for all $z\\in\\mathbb R$. "
   ]
  },
  {
   "cell_type": "markdown",
   "metadata": {},
   "source": [
    "3. Consider a labeled data set $(\\textbf{x}_1,y_1),\\ldots,(\\textbf{x}_d, y_d)$ defined as follows. For each $1\\le i\\le d$, set $\\textbf{x}_i = \\textbf{e}_i$, the standard basis vector in $\\mathbb R^d$.  If $d$ is even then set $y_i = (-1)^i$, $i=1,2,\\ldots,d$; however, if $d$ is odd then set $y_i = (-1)^{i+1}$, $i=1,2,\\ldots,d$.\n",
    "* Suppose that $W^* \\in\\mathbb R^d$ is such that $y_iW^*\\cdot X_i \\ge 1$ for all $1\\le i\\le d$. Show that $|W^*|^2 \\ge d$.\n",
    "* Explain why the Perceptron algorithm will terminate after $d$ steps. What is $W$ when it terminates?"
   ]
  },
  {
   "cell_type": "markdown",
   "metadata": {},
   "source": []
  }
 ],
 "metadata": {
  "language_info": {
   "name": "python"
  }
 },
 "nbformat": 4,
 "nbformat_minor": 2
}
