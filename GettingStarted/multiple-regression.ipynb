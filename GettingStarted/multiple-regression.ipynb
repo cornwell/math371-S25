{
 "cells": [
  {
   "cell_type": "code",
   "execution_count": 2,
   "metadata": {},
   "outputs": [],
   "source": [
    "import pandas as pd\n",
    "import numpy as np"
   ]
  },
  {
   "cell_type": "code",
   "execution_count": 16,
   "metadata": {},
   "outputs": [],
   "source": [
    "ads = pd.read_csv('../../DataSets/Advertising.csv')"
   ]
  },
  {
   "cell_type": "code",
   "execution_count": 17,
   "metadata": {},
   "outputs": [],
   "source": [
    "def Rsquared(y, yhat):\n",
    "    ybar = np.mean(y)\n",
    "    tss = np.sum((y - ybar)**2)\n",
    "    rss = np.sum((y - yhat)**2)\n",
    "    return 1 - rss/tss"
   ]
  },
  {
   "cell_type": "code",
   "execution_count": 18,
   "metadata": {},
   "outputs": [],
   "source": [
    "x_tv = ads['TV'].to_numpy()\n",
    "x_radio = ads['Radio'].to_numpy()\n",
    "x_news = ads['Newspaper'].to_numpy()"
   ]
  },
  {
   "cell_type": "code",
   "execution_count": 19,
   "metadata": {},
   "outputs": [],
   "source": [
    "n = len(x_tv)\n",
    "A_tr = np.array([x_tv, x_radio, np.ones(n)]).T\n",
    "A_tn = np.array([x_tv, x_news, np.ones(n)]).T\n",
    "A_rn = np.array([x_radio, x_news, np.ones(n)]).T"
   ]
  },
  {
   "cell_type": "code",
   "execution_count": 20,
   "metadata": {},
   "outputs": [],
   "source": [
    "y = ads['Sales'].to_numpy()\n",
    "\n",
    "# regress with TV and Radio vars\n",
    "Ai_tr = np.linalg.inv(A_tr.T@A_tr)\n",
    "p_tr = Ai_tr@(A_tr.T@y)\n",
    "# regress with TV and Newspaper vars\n",
    "Ai_tn = np.linalg.inv(A_tn.T@A_tn)\n",
    "p_tn = Ai_tn@(A_tn.T@y)\n",
    "# regress with Radio and Newspaper vars\n",
    "Ai_rn = np.linalg.inv(A_rn.T@A_rn)\n",
    "p_rn = Ai_rn@(A_rn.T@y)"
   ]
  },
  {
   "cell_type": "code",
   "execution_count": 21,
   "metadata": {},
   "outputs": [
    {
     "data": {
      "text/plain": [
       "array([0.04575482, 0.18799423, 2.92109991])"
      ]
     },
     "execution_count": 21,
     "metadata": {},
     "output_type": "execute_result"
    }
   ],
   "source": [
    "p_tr"
   ]
  },
  {
   "cell_type": "code",
   "execution_count": 22,
   "metadata": {},
   "outputs": [],
   "source": [
    "r2_tr = Rsquared(y, p_tr[0]*x_tv + p_tr[1]*x_radio + p_tr[2])\n",
    "r2_tn = Rsquared(y, p_tn[0]*x_tv + p_tn[1]*x_news + p_tn[2])\n",
    "r2_rn = Rsquared(y, p_rn[0]*x_radio + p_rn[1]*x_news + p_rn[2])"
   ]
  },
  {
   "cell_type": "code",
   "execution_count": 23,
   "metadata": {},
   "outputs": [
    {
     "data": {
      "text/plain": [
       "(np.float64(0.8971942610828957),\n",
       " np.float64(0.6458354938293271),\n",
       " np.float64(0.33270518395032256))"
      ]
     },
     "execution_count": 23,
     "metadata": {},
     "output_type": "execute_result"
    }
   ],
   "source": [
    "r2_tr, r2_tn, r2_rn"
   ]
  },
  {
   "cell_type": "code",
   "execution_count": 24,
   "metadata": {},
   "outputs": [
    {
     "data": {
      "text/plain": [
       "(np.float64(0.611875050850071),\n",
       " np.float64(0.33203245544529525),\n",
       " np.float64(0.05212044544430516))"
      ]
     },
     "execution_count": 24,
     "metadata": {},
     "output_type": "execute_result"
    }
   ],
   "source": [
    "p_t = np.polyfit(x_tv, y, 1)\n",
    "p_r = np.polyfit(x_radio, y, 1)\n",
    "p_n = np.polyfit(x_news, y, 1)\n",
    "Rsquared(y, p_t[0]*x_tv + p_t[1]), Rsquared(y, p_r[0]*x_radio + p_r[1]), Rsquared(y, p_n[0]*x_news + p_n[1])"
   ]
  },
  {
   "cell_type": "code",
   "execution_count": 25,
   "metadata": {},
   "outputs": [],
   "source": [
    "# regress with all three vars\n",
    "A = np.array([x_tv, x_radio, x_news, np.ones(n)]).T\n",
    "Ai = np.linalg.inv(A.T@A)\n",
    "p = Ai@(A.T@y)"
   ]
  },
  {
   "cell_type": "code",
   "execution_count": 26,
   "metadata": {},
   "outputs": [
    {
     "data": {
      "text/plain": [
       "np.float64(0.8972106381789522)"
      ]
     },
     "execution_count": 26,
     "metadata": {},
     "output_type": "execute_result"
    }
   ],
   "source": [
    "Rsquared(y, p[0]*x_tv + p[1]*x_radio + p[2]*x_news + p[3])"
   ]
  },
  {
   "cell_type": "code",
   "execution_count": 27,
   "metadata": {},
   "outputs": [
    {
     "data": {
      "text/plain": [
       "(200, 200)"
      ]
     },
     "execution_count": 27,
     "metadata": {},
     "output_type": "execute_result"
    }
   ],
   "source": [
    "len(x_tv), len(y)"
   ]
  },
  {
   "cell_type": "code",
   "execution_count": 31,
   "metadata": {},
   "outputs": [],
   "source": [
    "ixs = np.arange(200)"
   ]
  },
  {
   "cell_type": "code",
   "execution_count": 32,
   "metadata": {},
   "outputs": [],
   "source": [
    "varied_tv, varied_radio, varied_news = [], [], []"
   ]
  },
  {
   "cell_type": "code",
   "execution_count": 33,
   "metadata": {},
   "outputs": [],
   "source": [
    "# regress with all three vars, random 70 of them\n",
    "for i in range(50):\n",
    "    np.random.shuffle(ixs)\n",
    "    A = np.array([x_tv[ixs[:70]], x_radio[ixs[:70]], x_news[ixs[:70]], np.ones(70)]).T\n",
    "    Ai = np.linalg.inv(A.T@A)\n",
    "    p = Ai@(A.T@(y[:70]))\n",
    "    varied_tv.append(p[0])\n",
    "    varied_radio.append(p[1])\n",
    "    varied_news.append(p[2])"
   ]
  },
  {
   "cell_type": "code",
   "execution_count": 35,
   "metadata": {},
   "outputs": [],
   "source": [
    "# regress with all three vars\n",
    "A = np.array([x_tv, x_radio, x_news, np.ones(n)]).T\n",
    "Ai = np.linalg.inv(A.T@A)\n",
    "p = Ai@(A.T@y)"
   ]
  },
  {
   "cell_type": "code",
   "execution_count": 37,
   "metadata": {},
   "outputs": [
    {
     "data": {
      "text/plain": [
       "(np.float64(0.16334106396801426),\n",
       " np.float64(0.26435076991918866),\n",
       " np.float64(-28.87899820053057))"
      ]
     },
     "execution_count": 37,
     "metadata": {},
     "output_type": "execute_result"
    }
   ],
   "source": [
    "np.std(varied_tv)/p[0], np.std(varied_radio)/p[1], np.std(varied_news)/p[2]"
   ]
  },
  {
   "cell_type": "code",
   "execution_count": 38,
   "metadata": {},
   "outputs": [],
   "source": [
    "vary1_news = []"
   ]
  },
  {
   "cell_type": "code",
   "execution_count": 39,
   "metadata": {},
   "outputs": [],
   "source": [
    "ixs = np.arange(200)"
   ]
  },
  {
   "cell_type": "code",
   "execution_count": 40,
   "metadata": {},
   "outputs": [],
   "source": [
    "# regress with just news, random 70 of them\n",
    "for i in range(50):\n",
    "    np.random.shuffle(ixs)\n",
    "    A = np.array([x_news[ixs[:70]], np.ones(70)]).T\n",
    "    Ai = np.linalg.inv(A.T@A)\n",
    "    p1 = Ai@(A.T@(y[:70]))\n",
    "    vary1_news.append(p1[0])"
   ]
  },
  {
   "cell_type": "code",
   "execution_count": 41,
   "metadata": {},
   "outputs": [],
   "source": [
    "# with all the data\n",
    "A = np.array([x_news, np.ones(n)]).T\n",
    "Ai = np.linalg.inv(A.T@A)\n",
    "p = Ai@(A.T@y)"
   ]
  },
  {
   "cell_type": "code",
   "execution_count": 43,
   "metadata": {},
   "outputs": [
    {
     "data": {
      "text/plain": [
       "np.float64(0.5028635782510107)"
      ]
     },
     "execution_count": 43,
     "metadata": {},
     "output_type": "execute_result"
    }
   ],
   "source": [
    "np.std(vary1_news)/p[0]"
   ]
  },
  {
   "cell_type": "code",
   "execution_count": 3,
   "metadata": {},
   "outputs": [],
   "source": [
    "import matplotlib.pyplot as plt\n",
    "import seaborn\n",
    "seaborn.set_style('darkgrid')"
   ]
  },
  {
   "cell_type": "code",
   "execution_count": 4,
   "metadata": {},
   "outputs": [],
   "source": [
    "coll = pd.read_csv('../../DataSets/College.csv')"
   ]
  },
  {
   "cell_type": "code",
   "execution_count": 5,
   "metadata": {},
   "outputs": [],
   "source": [
    "big_coll = coll[coll['Apps'] > 2500]"
   ]
  },
  {
   "cell_type": "code",
   "execution_count": 6,
   "metadata": {},
   "outputs": [
    {
     "data": {
      "text/plain": [
       "Index(['School', 'Private', 'Apps', 'Accept', 'Enroll', 'Top10perc',\n",
       "       'Top25perc', 'F_Undergrad', 'P_Undergrad', 'Outstate', 'Room_Board',\n",
       "       'Books', 'Personal', 'PhD', 'Terminal', 'S_F_Ratio', 'perc_alumni',\n",
       "       'Expend', 'Grad_Rate'],\n",
       "      dtype='object')"
      ]
     },
     "execution_count": 6,
     "metadata": {},
     "output_type": "execute_result"
    }
   ],
   "source": [
    "big_coll.columns"
   ]
  },
  {
   "cell_type": "code",
   "execution_count": 7,
   "metadata": {},
   "outputs": [
    {
     "data": {
      "image/png": "[encoded data removed]",
      "text/plain": [
       "<Figure size 640x480 with 1 Axes>"
      ]
     },
     "metadata": {},
     "output_type": "display_data"
    }
   ],
   "source": [
    "plt.scatter(big_coll['perc_alumni'], big_coll['Grad_Rate'], edgecolors='black')\n",
    "plt.show()"
   ]
  },
  {
   "cell_type": "code",
   "execution_count": 8,
   "metadata": {},
   "outputs": [],
   "source": [
    "p = np.polyfit(big_coll['Top10perc'], big_coll['Top25perc'], 1)\n",
    "pq = np.polyfit(big_coll['Top10perc'], big_coll['Top25perc'], 2)"
   ]
  },
  {
   "cell_type": "code",
   "execution_count": 12,
   "metadata": {},
   "outputs": [],
   "source": [
    "xx = np.linspace(0,96)"
   ]
  },
  {
   "cell_type": "code",
   "execution_count": 10,
   "metadata": {},
   "outputs": [
    {
     "data": {
      "text/plain": [
       "array([ 0.84525826, 34.84078201])"
      ]
     },
     "execution_count": 10,
     "metadata": {},
     "output_type": "execute_result"
    }
   ],
   "source": [
    "p"
   ]
  },
  {
   "cell_type": "code",
   "execution_count": 14,
   "metadata": {},
   "outputs": [
    {
     "data": {
      "text/plain": [
       "array([-9.67092592e-03,  1.71873575e+00,  2.11109448e+01])"
      ]
     },
     "execution_count": 14,
     "metadata": {},
     "output_type": "execute_result"
    }
   ],
   "source": [
    "pq"
   ]
  },
  {
   "cell_type": "code",
   "execution_count": 15,
   "metadata": {},
   "outputs": [
    {
     "data": {
      "image/png": "[encoded data removed]",
      "text/plain": [
       "<Figure size 640x480 with 1 Axes>"
      ]
     },
     "metadata": {},
     "output_type": "display_data"
    }
   ],
   "source": [
    "plt.scatter(big_coll['Top10perc'], big_coll['Top25perc'], edgecolors='black',zorder=3)\n",
    "plt.plot(xx, pq[0]*(xx**2) + pq[1]*xx + pq[2], c='crimson')\n",
    "#plt.plot(xx, p[0]*xx + p[1], c='xkcd:tangerine')\n",
    "#plt.title(r'LSR line: $y =$ 0.845$x$ + 34.84')\n",
    "plt.title(r'LSR quadratic: $y =$ -0.0097$x^2$ + 1.719$x$ + 21.11')\n",
    "plt.show()"
   ]
  },
  {
   "cell_type": "code",
   "execution_count": 44,
   "metadata": {},
   "outputs": [
    {
     "data": {
      "text/plain": [
       "np.float64(0.8536608760025126)"
      ]
     },
     "execution_count": 44,
     "metadata": {},
     "output_type": "execute_result"
    }
   ],
   "source": [
    "top10 = big_coll['Top10perc'].to_numpy()\n",
    "top25 = big_coll['Top25perc'].to_numpy()\n",
    "Rsquared(top25, pq[0]*(top10**2) + pq[1]*top10 + pq[2])"
   ]
  },
  {
   "cell_type": "code",
   "execution_count": 45,
   "metadata": {},
   "outputs": [
    {
     "data": {
      "text/plain": [
       "np.float64(0.7914351037354119)"
      ]
     },
     "execution_count": 45,
     "metadata": {},
     "output_type": "execute_result"
    }
   ],
   "source": [
    "Rsquared(top25, p[0]*top10 + p[1])"
   ]
  },
  {
   "cell_type": "code",
   "execution_count": 46,
   "metadata": {},
   "outputs": [],
   "source": [
    "pc = np.polyfit(big_coll['Top10perc'], big_coll['Top25perc'], 3)"
   ]
  },
  {
   "cell_type": "code",
   "execution_count": 47,
   "metadata": {},
   "outputs": [
    {
     "data": {
      "text/plain": [
       "np.float64(0.8541457843645264)"
      ]
     },
     "execution_count": 47,
     "metadata": {},
     "output_type": "execute_result"
    }
   ],
   "source": [
    "Rsquared(top25, pc[0]*(top10**3) + pc[1]*(top10**2) + pc[2]*top10 + pc[3])"
   ]
  }
 ],
 "metadata": {
  "kernelspec": {
   "display_name": "Python 3",
   "language": "python",
   "name": "python3"
  },
  "language_info": {
   "codemirror_mode": {
    "name": "ipython",
    "version": 3
   },
   "file_extension": ".py",
   "mimetype": "text/x-python",
   "name": "python",
   "nbconvert_exporter": "python",
   "pygments_lexer": "ipython3",
   "version": "3.13.1"
  }
 },
 "nbformat": 4,
 "nbformat_minor": 2
}
